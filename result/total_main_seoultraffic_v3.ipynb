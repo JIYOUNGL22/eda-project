{
 "cells": [
  {
   "cell_type": "code",
   "execution_count": 1,
   "id": "facbc614",
   "metadata": {},
   "outputs": [],
   "source": [
    "import pandas as pd\n",
    "import numpy as np\n",
    "import matplotlib.pyplot as plt\n",
    "import matplotlib\n",
    "from matplotlib import pyplot\n",
    "import seaborn as sns\n",
    "import matplotlib.font_manager as fm\n",
    "import missingno as msno #결측데이터 검색\n",
    "%matplotlib inline\n",
    "%config InlineBackend.figure_formats = {'png', 'retina'}"
   ]
  },
  {
   "cell_type": "code",
   "execution_count": 2,
   "id": "bce5fbd6",
   "metadata": {},
   "outputs": [],
   "source": [
    "# 폰트설정\n",
    "from matplotlib import font_manager, rc\n",
    "plt.rcParams[\"font.family\"] = 'NanumGothicCoding'"
   ]
  },
  {
   "cell_type": "code",
   "execution_count": 3,
   "id": "9e1849df",
   "metadata": {},
   "outputs": [],
   "source": [
    "### 2019 pub_transpor data road\n",
    "df1 = pd.read_csv(\"2019.csv\")\n",
    "### 2020 pub_transpor data road\n",
    "df2 = pd.read_csv(\"2020.csv\")\n",
    "### 2019 Traffic data road\n",
    "df_2019_url = './data_2019_seoultraffic.csv'\n",
    "### 2019 Traffic data road\n",
    "df_2020_url = './data_2020_seoultraffic.csv'"
   ]
  },
  {
   "cell_type": "markdown",
   "id": "18f1d52a",
   "metadata": {},
   "source": [
    "### Pub_transpor data 2019"
   ]
  },
  {
   "cell_type": "code",
   "execution_count": 4,
   "id": "e9e50e24",
   "metadata": {},
   "outputs": [
    {
     "data": {
      "text/html": [
       "<div>\n",
       "<style scoped>\n",
       "    .dataframe tbody tr th:only-of-type {\n",
       "        vertical-align: middle;\n",
       "    }\n",
       "\n",
       "    .dataframe tbody tr th {\n",
       "        vertical-align: top;\n",
       "    }\n",
       "\n",
       "    .dataframe thead th {\n",
       "        text-align: right;\n",
       "    }\n",
       "</style>\n",
       "<table border=\"1\" class=\"dataframe\">\n",
       "  <thead>\n",
       "    <tr style=\"text-align: right;\">\n",
       "      <th>시간</th>\n",
       "      <th>0</th>\n",
       "      <th>1</th>\n",
       "      <th>2</th>\n",
       "      <th>3</th>\n",
       "      <th>4</th>\n",
       "      <th>5</th>\n",
       "      <th>6</th>\n",
       "      <th>7</th>\n",
       "      <th>8</th>\n",
       "      <th>9</th>\n",
       "      <th>...</th>\n",
       "      <th>14</th>\n",
       "      <th>15</th>\n",
       "      <th>16</th>\n",
       "      <th>17</th>\n",
       "      <th>18</th>\n",
       "      <th>19</th>\n",
       "      <th>20</th>\n",
       "      <th>21</th>\n",
       "      <th>22</th>\n",
       "      <th>23</th>\n",
       "    </tr>\n",
       "    <tr>\n",
       "      <th>월</th>\n",
       "      <th></th>\n",
       "      <th></th>\n",
       "      <th></th>\n",
       "      <th></th>\n",
       "      <th></th>\n",
       "      <th></th>\n",
       "      <th></th>\n",
       "      <th></th>\n",
       "      <th></th>\n",
       "      <th></th>\n",
       "      <th></th>\n",
       "      <th></th>\n",
       "      <th></th>\n",
       "      <th></th>\n",
       "      <th></th>\n",
       "      <th></th>\n",
       "      <th></th>\n",
       "      <th></th>\n",
       "      <th></th>\n",
       "      <th></th>\n",
       "      <th></th>\n",
       "    </tr>\n",
       "  </thead>\n",
       "  <tbody>\n",
       "    <tr>\n",
       "      <th>2019-11</th>\n",
       "      <td>4673046</td>\n",
       "      <td>632269</td>\n",
       "      <td>226815</td>\n",
       "      <td>178204</td>\n",
       "      <td>1545112</td>\n",
       "      <td>7373998</td>\n",
       "      <td>16015572</td>\n",
       "      <td>38847628</td>\n",
       "      <td>63980335</td>\n",
       "      <td>44391584</td>\n",
       "      <td>...</td>\n",
       "      <td>34429181</td>\n",
       "      <td>37621012</td>\n",
       "      <td>43101411</td>\n",
       "      <td>50394656</td>\n",
       "      <td>63666940</td>\n",
       "      <td>46147509</td>\n",
       "      <td>32524277</td>\n",
       "      <td>30650650</td>\n",
       "      <td>28400139</td>\n",
       "      <td>16392559</td>\n",
       "    </tr>\n",
       "    <tr>\n",
       "      <th>2019-12</th>\n",
       "      <td>5374999</td>\n",
       "      <td>894129</td>\n",
       "      <td>284658</td>\n",
       "      <td>205711</td>\n",
       "      <td>1508785</td>\n",
       "      <td>7102122</td>\n",
       "      <td>15312007</td>\n",
       "      <td>36548547</td>\n",
       "      <td>61293678</td>\n",
       "      <td>42821402</td>\n",
       "      <td>...</td>\n",
       "      <td>36315505</td>\n",
       "      <td>39572005</td>\n",
       "      <td>44295328</td>\n",
       "      <td>51354740</td>\n",
       "      <td>63240031</td>\n",
       "      <td>45627653</td>\n",
       "      <td>32970482</td>\n",
       "      <td>31787814</td>\n",
       "      <td>29838776</td>\n",
       "      <td>17951621</td>\n",
       "    </tr>\n",
       "  </tbody>\n",
       "</table>\n",
       "<p>2 rows × 24 columns</p>\n",
       "</div>"
      ],
      "text/plain": [
       "시간            0       1       2       3        4        5         6   \\\n",
       "월                                                                      \n",
       "2019-11  4673046  632269  226815  178204  1545112  7373998  16015572   \n",
       "2019-12  5374999  894129  284658  205711  1508785  7102122  15312007   \n",
       "\n",
       "시간             7         8         9   ...        14        15        16  \\\n",
       "월                                      ...                                 \n",
       "2019-11  38847628  63980335  44391584  ...  34429181  37621012  43101411   \n",
       "2019-12  36548547  61293678  42821402  ...  36315505  39572005  44295328   \n",
       "\n",
       "시간             17        18        19        20        21        22        23  \n",
       "월                                                                              \n",
       "2019-11  50394656  63666940  46147509  32524277  30650650  28400139  16392559  \n",
       "2019-12  51354740  63240031  45627653  32970482  31787814  29838776  17951621  \n",
       "\n",
       "[2 rows x 24 columns]"
      ]
     },
     "execution_count": 4,
     "metadata": {},
     "output_type": "execute_result"
    }
   ],
   "source": [
    "traffic_m_2019 = df1.pivot_table(\"count\", \"월\", \"시간\", aggfunc=np.sum)\n",
    "traffic_m_2019.tail(2)"
   ]
  },
  {
   "cell_type": "code",
   "execution_count": 5,
   "id": "63e80af7",
   "metadata": {},
   "outputs": [
    {
     "data": {
      "text/html": [
       "<div>\n",
       "<style scoped>\n",
       "    .dataframe tbody tr th:only-of-type {\n",
       "        vertical-align: middle;\n",
       "    }\n",
       "\n",
       "    .dataframe tbody tr th {\n",
       "        vertical-align: top;\n",
       "    }\n",
       "\n",
       "    .dataframe thead th {\n",
       "        text-align: right;\n",
       "    }\n",
       "</style>\n",
       "<table border=\"1\" class=\"dataframe\">\n",
       "  <thead>\n",
       "    <tr style=\"text-align: right;\">\n",
       "      <th>시간</th>\n",
       "      <th>0</th>\n",
       "      <th>1</th>\n",
       "      <th>2</th>\n",
       "      <th>3</th>\n",
       "      <th>4</th>\n",
       "      <th>5</th>\n",
       "      <th>6</th>\n",
       "      <th>7</th>\n",
       "      <th>8</th>\n",
       "      <th>9</th>\n",
       "      <th>...</th>\n",
       "      <th>15</th>\n",
       "      <th>16</th>\n",
       "      <th>17</th>\n",
       "      <th>18</th>\n",
       "      <th>19</th>\n",
       "      <th>20</th>\n",
       "      <th>21</th>\n",
       "      <th>22</th>\n",
       "      <th>23</th>\n",
       "      <th>total</th>\n",
       "    </tr>\n",
       "    <tr>\n",
       "      <th>월</th>\n",
       "      <th></th>\n",
       "      <th></th>\n",
       "      <th></th>\n",
       "      <th></th>\n",
       "      <th></th>\n",
       "      <th></th>\n",
       "      <th></th>\n",
       "      <th></th>\n",
       "      <th></th>\n",
       "      <th></th>\n",
       "      <th></th>\n",
       "      <th></th>\n",
       "      <th></th>\n",
       "      <th></th>\n",
       "      <th></th>\n",
       "      <th></th>\n",
       "      <th></th>\n",
       "      <th></th>\n",
       "      <th></th>\n",
       "      <th></th>\n",
       "      <th></th>\n",
       "    </tr>\n",
       "  </thead>\n",
       "  <tbody>\n",
       "    <tr>\n",
       "      <th>2019-11</th>\n",
       "      <td>4673046</td>\n",
       "      <td>632269</td>\n",
       "      <td>226815</td>\n",
       "      <td>178204</td>\n",
       "      <td>1545112</td>\n",
       "      <td>7373998</td>\n",
       "      <td>16015572</td>\n",
       "      <td>38847628</td>\n",
       "      <td>63980335</td>\n",
       "      <td>44391584</td>\n",
       "      <td>...</td>\n",
       "      <td>37621012</td>\n",
       "      <td>43101411</td>\n",
       "      <td>50394656</td>\n",
       "      <td>63666940</td>\n",
       "      <td>46147509</td>\n",
       "      <td>32524277</td>\n",
       "      <td>30650650</td>\n",
       "      <td>28400139</td>\n",
       "      <td>16392559</td>\n",
       "      <td>690195489</td>\n",
       "    </tr>\n",
       "    <tr>\n",
       "      <th>2019-12</th>\n",
       "      <td>5374999</td>\n",
       "      <td>894129</td>\n",
       "      <td>284658</td>\n",
       "      <td>205711</td>\n",
       "      <td>1508785</td>\n",
       "      <td>7102122</td>\n",
       "      <td>15312007</td>\n",
       "      <td>36548547</td>\n",
       "      <td>61293678</td>\n",
       "      <td>42821402</td>\n",
       "      <td>...</td>\n",
       "      <td>39572005</td>\n",
       "      <td>44295328</td>\n",
       "      <td>51354740</td>\n",
       "      <td>63240031</td>\n",
       "      <td>45627653</td>\n",
       "      <td>32970482</td>\n",
       "      <td>31787814</td>\n",
       "      <td>29838776</td>\n",
       "      <td>17951621</td>\n",
       "      <td>697837963</td>\n",
       "    </tr>\n",
       "  </tbody>\n",
       "</table>\n",
       "<p>2 rows × 25 columns</p>\n",
       "</div>"
      ],
      "text/plain": [
       "시간             0       1       2       3        4        5         6  \\\n",
       "월                                                                      \n",
       "2019-11  4673046  632269  226815  178204  1545112  7373998  16015572   \n",
       "2019-12  5374999  894129  284658  205711  1508785  7102122  15312007   \n",
       "\n",
       "시간              7         8         9  ...        15        16        17  \\\n",
       "월                                      ...                                 \n",
       "2019-11  38847628  63980335  44391584  ...  37621012  43101411  50394656   \n",
       "2019-12  36548547  61293678  42821402  ...  39572005  44295328  51354740   \n",
       "\n",
       "시간             18        19        20        21        22        23      total  \n",
       "월                                                                               \n",
       "2019-11  63666940  46147509  32524277  30650650  28400139  16392559  690195489  \n",
       "2019-12  63240031  45627653  32970482  31787814  29838776  17951621  697837963  \n",
       "\n",
       "[2 rows x 25 columns]"
      ]
     },
     "execution_count": 5,
     "metadata": {},
     "output_type": "execute_result"
    }
   ],
   "source": [
    "traffic_m_2019.loc[:, \"total\"] = traffic_m_2019.sum(axis=1)\n",
    "traffic_m_2019.tail(2)"
   ]
  },
  {
   "cell_type": "code",
   "execution_count": 6,
   "id": "419640e2",
   "metadata": {},
   "outputs": [
    {
     "data": {
      "text/html": [
       "<div>\n",
       "<style scoped>\n",
       "    .dataframe tbody tr th:only-of-type {\n",
       "        vertical-align: middle;\n",
       "    }\n",
       "\n",
       "    .dataframe tbody tr th {\n",
       "        vertical-align: top;\n",
       "    }\n",
       "\n",
       "    .dataframe thead th {\n",
       "        text-align: right;\n",
       "    }\n",
       "</style>\n",
       "<table border=\"1\" class=\"dataframe\">\n",
       "  <thead>\n",
       "    <tr style=\"text-align: right;\">\n",
       "      <th>시간</th>\n",
       "      <th>0</th>\n",
       "      <th>1</th>\n",
       "      <th>2</th>\n",
       "      <th>3</th>\n",
       "      <th>4</th>\n",
       "      <th>5</th>\n",
       "      <th>6</th>\n",
       "      <th>7</th>\n",
       "      <th>8</th>\n",
       "      <th>9</th>\n",
       "      <th>...</th>\n",
       "      <th>14</th>\n",
       "      <th>15</th>\n",
       "      <th>16</th>\n",
       "      <th>17</th>\n",
       "      <th>18</th>\n",
       "      <th>19</th>\n",
       "      <th>20</th>\n",
       "      <th>21</th>\n",
       "      <th>22</th>\n",
       "      <th>23</th>\n",
       "    </tr>\n",
       "    <tr>\n",
       "      <th>지명</th>\n",
       "      <th></th>\n",
       "      <th></th>\n",
       "      <th></th>\n",
       "      <th></th>\n",
       "      <th></th>\n",
       "      <th></th>\n",
       "      <th></th>\n",
       "      <th></th>\n",
       "      <th></th>\n",
       "      <th></th>\n",
       "      <th></th>\n",
       "      <th></th>\n",
       "      <th></th>\n",
       "      <th></th>\n",
       "      <th></th>\n",
       "      <th></th>\n",
       "      <th></th>\n",
       "      <th></th>\n",
       "      <th></th>\n",
       "      <th></th>\n",
       "      <th></th>\n",
       "    </tr>\n",
       "  </thead>\n",
       "  <tbody>\n",
       "    <tr>\n",
       "      <th>중구</th>\n",
       "      <td>3518016</td>\n",
       "      <td>572340</td>\n",
       "      <td>239087</td>\n",
       "      <td>215153</td>\n",
       "      <td>501450</td>\n",
       "      <td>3155734</td>\n",
       "      <td>5716093</td>\n",
       "      <td>12502745</td>\n",
       "      <td>25150575</td>\n",
       "      <td>18739397</td>\n",
       "      <td>...</td>\n",
       "      <td>23852366</td>\n",
       "      <td>26960738</td>\n",
       "      <td>29865336</td>\n",
       "      <td>37557276</td>\n",
       "      <td>55470515</td>\n",
       "      <td>38990793</td>\n",
       "      <td>27587356</td>\n",
       "      <td>25132393</td>\n",
       "      <td>21287791</td>\n",
       "      <td>12756123</td>\n",
       "    </tr>\n",
       "    <tr>\n",
       "      <th>중랑구</th>\n",
       "      <td>1429246</td>\n",
       "      <td>237634</td>\n",
       "      <td>75320</td>\n",
       "      <td>66496</td>\n",
       "      <td>865449</td>\n",
       "      <td>3163495</td>\n",
       "      <td>6457136</td>\n",
       "      <td>15182553</td>\n",
       "      <td>22283249</td>\n",
       "      <td>13902473</td>\n",
       "      <td>...</td>\n",
       "      <td>9500318</td>\n",
       "      <td>10034266</td>\n",
       "      <td>11444769</td>\n",
       "      <td>12500258</td>\n",
       "      <td>14244402</td>\n",
       "      <td>12439521</td>\n",
       "      <td>8442147</td>\n",
       "      <td>7587105</td>\n",
       "      <td>6741702</td>\n",
       "      <td>3980054</td>\n",
       "    </tr>\n",
       "  </tbody>\n",
       "</table>\n",
       "<p>2 rows × 24 columns</p>\n",
       "</div>"
      ],
      "text/plain": [
       "시간        0       1       2       3       4        5        6         7   \\\n",
       "지명                                                                         \n",
       "중구   3518016  572340  239087  215153  501450  3155734  5716093  12502745   \n",
       "중랑구  1429246  237634   75320   66496  865449  3163495  6457136  15182553   \n",
       "\n",
       "시간         8         9   ...        14        15        16        17  \\\n",
       "지명                       ...                                           \n",
       "중구   25150575  18739397  ...  23852366  26960738  29865336  37557276   \n",
       "중랑구  22283249  13902473  ...   9500318  10034266  11444769  12500258   \n",
       "\n",
       "시간         18        19        20        21        22        23  \n",
       "지명                                                               \n",
       "중구   55470515  38990793  27587356  25132393  21287791  12756123  \n",
       "중랑구  14244402  12439521   8442147   7587105   6741702   3980054  \n",
       "\n",
       "[2 rows x 24 columns]"
      ]
     },
     "execution_count": 6,
     "metadata": {},
     "output_type": "execute_result"
    }
   ],
   "source": [
    "traffic_r_2019 = df1.pivot_table(\"count\", \"지명\", \"시간\", aggfunc=np.sum)\n",
    "traffic_r_2019.tail(2)"
   ]
  },
  {
   "cell_type": "code",
   "execution_count": 7,
   "id": "7dce99bd",
   "metadata": {},
   "outputs": [
    {
     "data": {
      "text/html": [
       "<div>\n",
       "<style scoped>\n",
       "    .dataframe tbody tr th:only-of-type {\n",
       "        vertical-align: middle;\n",
       "    }\n",
       "\n",
       "    .dataframe tbody tr th {\n",
       "        vertical-align: top;\n",
       "    }\n",
       "\n",
       "    .dataframe thead th {\n",
       "        text-align: right;\n",
       "    }\n",
       "</style>\n",
       "<table border=\"1\" class=\"dataframe\">\n",
       "  <thead>\n",
       "    <tr style=\"text-align: right;\">\n",
       "      <th>시간</th>\n",
       "      <th>0</th>\n",
       "      <th>1</th>\n",
       "      <th>2</th>\n",
       "      <th>3</th>\n",
       "      <th>4</th>\n",
       "      <th>5</th>\n",
       "      <th>6</th>\n",
       "      <th>7</th>\n",
       "      <th>8</th>\n",
       "      <th>9</th>\n",
       "      <th>...</th>\n",
       "      <th>15</th>\n",
       "      <th>16</th>\n",
       "      <th>17</th>\n",
       "      <th>18</th>\n",
       "      <th>19</th>\n",
       "      <th>20</th>\n",
       "      <th>21</th>\n",
       "      <th>22</th>\n",
       "      <th>23</th>\n",
       "      <th>total</th>\n",
       "    </tr>\n",
       "    <tr>\n",
       "      <th>지명</th>\n",
       "      <th></th>\n",
       "      <th></th>\n",
       "      <th></th>\n",
       "      <th></th>\n",
       "      <th></th>\n",
       "      <th></th>\n",
       "      <th></th>\n",
       "      <th></th>\n",
       "      <th></th>\n",
       "      <th></th>\n",
       "      <th></th>\n",
       "      <th></th>\n",
       "      <th></th>\n",
       "      <th></th>\n",
       "      <th></th>\n",
       "      <th></th>\n",
       "      <th></th>\n",
       "      <th></th>\n",
       "      <th></th>\n",
       "      <th></th>\n",
       "      <th></th>\n",
       "    </tr>\n",
       "  </thead>\n",
       "  <tbody>\n",
       "    <tr>\n",
       "      <th>중구</th>\n",
       "      <td>3518016</td>\n",
       "      <td>572340</td>\n",
       "      <td>239087</td>\n",
       "      <td>215153</td>\n",
       "      <td>501450</td>\n",
       "      <td>3155734</td>\n",
       "      <td>5716093</td>\n",
       "      <td>12502745</td>\n",
       "      <td>25150575</td>\n",
       "      <td>18739397</td>\n",
       "      <td>...</td>\n",
       "      <td>26960738</td>\n",
       "      <td>29865336</td>\n",
       "      <td>37557276</td>\n",
       "      <td>55470515</td>\n",
       "      <td>38990793</td>\n",
       "      <td>27587356</td>\n",
       "      <td>25132393</td>\n",
       "      <td>21287791</td>\n",
       "      <td>12756123</td>\n",
       "      <td>447485581</td>\n",
       "    </tr>\n",
       "    <tr>\n",
       "      <th>중랑구</th>\n",
       "      <td>1429246</td>\n",
       "      <td>237634</td>\n",
       "      <td>75320</td>\n",
       "      <td>66496</td>\n",
       "      <td>865449</td>\n",
       "      <td>3163495</td>\n",
       "      <td>6457136</td>\n",
       "      <td>15182553</td>\n",
       "      <td>22283249</td>\n",
       "      <td>13902473</td>\n",
       "      <td>...</td>\n",
       "      <td>10034266</td>\n",
       "      <td>11444769</td>\n",
       "      <td>12500258</td>\n",
       "      <td>14244402</td>\n",
       "      <td>12439521</td>\n",
       "      <td>8442147</td>\n",
       "      <td>7587105</td>\n",
       "      <td>6741702</td>\n",
       "      <td>3980054</td>\n",
       "      <td>199074236</td>\n",
       "    </tr>\n",
       "  </tbody>\n",
       "</table>\n",
       "<p>2 rows × 25 columns</p>\n",
       "</div>"
      ],
      "text/plain": [
       "시간         0       1       2       3       4        5        6         7  \\\n",
       "지명                                                                         \n",
       "중구   3518016  572340  239087  215153  501450  3155734  5716093  12502745   \n",
       "중랑구  1429246  237634   75320   66496  865449  3163495  6457136  15182553   \n",
       "\n",
       "시간          8         9  ...        15        16        17        18  \\\n",
       "지명                       ...                                           \n",
       "중구   25150575  18739397  ...  26960738  29865336  37557276  55470515   \n",
       "중랑구  22283249  13902473  ...  10034266  11444769  12500258  14244402   \n",
       "\n",
       "시간         19        20        21        22        23      total  \n",
       "지명                                                                \n",
       "중구   38990793  27587356  25132393  21287791  12756123  447485581  \n",
       "중랑구  12439521   8442147   7587105   6741702   3980054  199074236  \n",
       "\n",
       "[2 rows x 25 columns]"
      ]
     },
     "execution_count": 7,
     "metadata": {},
     "output_type": "execute_result"
    }
   ],
   "source": [
    "traffic_r_2019.loc[:, \"total\"] = traffic_r_2019.sum(axis=1)\n",
    "traffic_r_2019.tail(2)"
   ]
  },
  {
   "cell_type": "code",
   "execution_count": 8,
   "id": "2f6ecd19",
   "metadata": {},
   "outputs": [
    {
     "data": {
      "text/html": [
       "<div>\n",
       "<style scoped>\n",
       "    .dataframe tbody tr th:only-of-type {\n",
       "        vertical-align: middle;\n",
       "    }\n",
       "\n",
       "    .dataframe tbody tr th {\n",
       "        vertical-align: top;\n",
       "    }\n",
       "\n",
       "    .dataframe thead th {\n",
       "        text-align: right;\n",
       "    }\n",
       "</style>\n",
       "<table border=\"1\" class=\"dataframe\">\n",
       "  <thead>\n",
       "    <tr style=\"text-align: right;\">\n",
       "      <th></th>\n",
       "      <th>year</th>\n",
       "      <th>month</th>\n",
       "      <th>day</th>\n",
       "      <th>요일</th>\n",
       "      <th>구</th>\n",
       "      <th>총합</th>\n",
       "      <th>0</th>\n",
       "      <th>1</th>\n",
       "      <th>2</th>\n",
       "      <th>3</th>\n",
       "      <th>...</th>\n",
       "      <th>14</th>\n",
       "      <th>15</th>\n",
       "      <th>16</th>\n",
       "      <th>17</th>\n",
       "      <th>18</th>\n",
       "      <th>19</th>\n",
       "      <th>20</th>\n",
       "      <th>21</th>\n",
       "      <th>22</th>\n",
       "      <th>23</th>\n",
       "    </tr>\n",
       "  </thead>\n",
       "  <tbody>\n",
       "    <tr>\n",
       "      <th>49273</th>\n",
       "      <td>2019</td>\n",
       "      <td>12</td>\n",
       "      <td>30</td>\n",
       "      <td>월</td>\n",
       "      <td>영등포구</td>\n",
       "      <td>110342</td>\n",
       "      <td>3199</td>\n",
       "      <td>2144</td>\n",
       "      <td>1541</td>\n",
       "      <td>1462</td>\n",
       "      <td>...</td>\n",
       "      <td>4993</td>\n",
       "      <td>4987</td>\n",
       "      <td>4852</td>\n",
       "      <td>4551</td>\n",
       "      <td>4281</td>\n",
       "      <td>5368</td>\n",
       "      <td>5603</td>\n",
       "      <td>5844</td>\n",
       "      <td>5857</td>\n",
       "      <td>5832</td>\n",
       "    </tr>\n",
       "    <tr>\n",
       "      <th>49274</th>\n",
       "      <td>2019</td>\n",
       "      <td>12</td>\n",
       "      <td>31</td>\n",
       "      <td>화</td>\n",
       "      <td>영등포구</td>\n",
       "      <td>108784</td>\n",
       "      <td>4978</td>\n",
       "      <td>3737</td>\n",
       "      <td>2699</td>\n",
       "      <td>1948</td>\n",
       "      <td>...</td>\n",
       "      <td>5188</td>\n",
       "      <td>4080</td>\n",
       "      <td>3566</td>\n",
       "      <td>3706</td>\n",
       "      <td>3345</td>\n",
       "      <td>4519</td>\n",
       "      <td>5544</td>\n",
       "      <td>5564</td>\n",
       "      <td>5815</td>\n",
       "      <td>5107</td>\n",
       "    </tr>\n",
       "  </tbody>\n",
       "</table>\n",
       "<p>2 rows × 30 columns</p>\n",
       "</div>"
      ],
      "text/plain": [
       "       year  month  day 요일     구      총합     0     1     2     3  ...    14  \\\n",
       "49273  2019     12   30  월  영등포구  110342  3199  2144  1541  1462  ...  4993   \n",
       "49274  2019     12   31  화  영등포구  108784  4978  3737  2699  1948  ...  5188   \n",
       "\n",
       "         15    16    17    18    19    20    21    22    23  \n",
       "49273  4987  4852  4551  4281  5368  5603  5844  5857  5832  \n",
       "49274  4080  3566  3706  3345  4519  5544  5564  5815  5107  \n",
       "\n",
       "[2 rows x 30 columns]"
      ]
     },
     "execution_count": 8,
     "metadata": {},
     "output_type": "execute_result"
    }
   ],
   "source": [
    "traffic_2019 = pd.read_csv(df_2019_url)\n",
    "traffic_2019.tail(2)[['year','month','day','요일','구','총합','0','1','2','3','4','5','6','7','8','9','10','11','12','13',\n",
    "              '14','15','16','17','18','19','20','21','22','23']]"
   ]
  },
  {
   "cell_type": "markdown",
   "id": "d73e0380",
   "metadata": {},
   "source": [
    "### Pub_transpor data 2020"
   ]
  },
  {
   "cell_type": "code",
   "execution_count": 9,
   "id": "a624417f",
   "metadata": {},
   "outputs": [
    {
     "data": {
      "text/html": [
       "<div>\n",
       "<style scoped>\n",
       "    .dataframe tbody tr th:only-of-type {\n",
       "        vertical-align: middle;\n",
       "    }\n",
       "\n",
       "    .dataframe tbody tr th {\n",
       "        vertical-align: top;\n",
       "    }\n",
       "\n",
       "    .dataframe thead th {\n",
       "        text-align: right;\n",
       "    }\n",
       "</style>\n",
       "<table border=\"1\" class=\"dataframe\">\n",
       "  <thead>\n",
       "    <tr style=\"text-align: right;\">\n",
       "      <th>시간</th>\n",
       "      <th>0</th>\n",
       "      <th>1</th>\n",
       "      <th>2</th>\n",
       "      <th>3</th>\n",
       "      <th>4</th>\n",
       "      <th>5</th>\n",
       "      <th>6</th>\n",
       "      <th>7</th>\n",
       "      <th>8</th>\n",
       "      <th>9</th>\n",
       "      <th>...</th>\n",
       "      <th>14</th>\n",
       "      <th>15</th>\n",
       "      <th>16</th>\n",
       "      <th>17</th>\n",
       "      <th>18</th>\n",
       "      <th>19</th>\n",
       "      <th>20</th>\n",
       "      <th>21</th>\n",
       "      <th>22</th>\n",
       "      <th>23</th>\n",
       "    </tr>\n",
       "    <tr>\n",
       "      <th>월</th>\n",
       "      <th></th>\n",
       "      <th></th>\n",
       "      <th></th>\n",
       "      <th></th>\n",
       "      <th></th>\n",
       "      <th></th>\n",
       "      <th></th>\n",
       "      <th></th>\n",
       "      <th></th>\n",
       "      <th></th>\n",
       "      <th></th>\n",
       "      <th></th>\n",
       "      <th></th>\n",
       "      <th></th>\n",
       "      <th></th>\n",
       "      <th></th>\n",
       "      <th></th>\n",
       "      <th></th>\n",
       "      <th></th>\n",
       "      <th></th>\n",
       "      <th></th>\n",
       "    </tr>\n",
       "  </thead>\n",
       "  <tbody>\n",
       "    <tr>\n",
       "      <th>2020-11</th>\n",
       "      <td>2098081</td>\n",
       "      <td>349867</td>\n",
       "      <td>155377</td>\n",
       "      <td>130386</td>\n",
       "      <td>1329355</td>\n",
       "      <td>6136505</td>\n",
       "      <td>13402605</td>\n",
       "      <td>32537726</td>\n",
       "      <td>52019524</td>\n",
       "      <td>33591727</td>\n",
       "      <td>...</td>\n",
       "      <td>25337088</td>\n",
       "      <td>27905265</td>\n",
       "      <td>31454781</td>\n",
       "      <td>38669351</td>\n",
       "      <td>50479289</td>\n",
       "      <td>34838703</td>\n",
       "      <td>23676409</td>\n",
       "      <td>22284310</td>\n",
       "      <td>18204449</td>\n",
       "      <td>9614244</td>\n",
       "    </tr>\n",
       "    <tr>\n",
       "      <th>2020-12</th>\n",
       "      <td>768884</td>\n",
       "      <td>144747</td>\n",
       "      <td>81844</td>\n",
       "      <td>79404</td>\n",
       "      <td>1185775</td>\n",
       "      <td>5460206</td>\n",
       "      <td>11851038</td>\n",
       "      <td>27047114</td>\n",
       "      <td>44277285</td>\n",
       "      <td>28695709</td>\n",
       "      <td>...</td>\n",
       "      <td>21300746</td>\n",
       "      <td>23283325</td>\n",
       "      <td>25506856</td>\n",
       "      <td>31762247</td>\n",
       "      <td>41623937</td>\n",
       "      <td>28400927</td>\n",
       "      <td>19939147</td>\n",
       "      <td>19568978</td>\n",
       "      <td>9363563</td>\n",
       "      <td>4006368</td>\n",
       "    </tr>\n",
       "  </tbody>\n",
       "</table>\n",
       "<p>2 rows × 24 columns</p>\n",
       "</div>"
      ],
      "text/plain": [
       "시간            0       1       2       3        4        5         6   \\\n",
       "월                                                                      \n",
       "2020-11  2098081  349867  155377  130386  1329355  6136505  13402605   \n",
       "2020-12   768884  144747   81844   79404  1185775  5460206  11851038   \n",
       "\n",
       "시간             7         8         9   ...        14        15        16  \\\n",
       "월                                      ...                                 \n",
       "2020-11  32537726  52019524  33591727  ...  25337088  27905265  31454781   \n",
       "2020-12  27047114  44277285  28695709  ...  21300746  23283325  25506856   \n",
       "\n",
       "시간             17        18        19        20        21        22       23  \n",
       "월                                                                             \n",
       "2020-11  38669351  50479289  34838703  23676409  22284310  18204449  9614244  \n",
       "2020-12  31762247  41623937  28400927  19939147  19568978   9363563  4006368  \n",
       "\n",
       "[2 rows x 24 columns]"
      ]
     },
     "execution_count": 9,
     "metadata": {},
     "output_type": "execute_result"
    }
   ],
   "source": [
    "traffic_m_2020 = df2.pivot_table(\"count\", \"월\", \"시간\", aggfunc=np.sum)\n",
    "traffic_m_2020.tail(2)"
   ]
  },
  {
   "cell_type": "code",
   "execution_count": 10,
   "id": "8887174a",
   "metadata": {},
   "outputs": [
    {
     "data": {
      "text/html": [
       "<div>\n",
       "<style scoped>\n",
       "    .dataframe tbody tr th:only-of-type {\n",
       "        vertical-align: middle;\n",
       "    }\n",
       "\n",
       "    .dataframe tbody tr th {\n",
       "        vertical-align: top;\n",
       "    }\n",
       "\n",
       "    .dataframe thead th {\n",
       "        text-align: right;\n",
       "    }\n",
       "</style>\n",
       "<table border=\"1\" class=\"dataframe\">\n",
       "  <thead>\n",
       "    <tr style=\"text-align: right;\">\n",
       "      <th>시간</th>\n",
       "      <th>0</th>\n",
       "      <th>1</th>\n",
       "      <th>2</th>\n",
       "      <th>3</th>\n",
       "      <th>4</th>\n",
       "      <th>5</th>\n",
       "      <th>6</th>\n",
       "      <th>7</th>\n",
       "      <th>8</th>\n",
       "      <th>9</th>\n",
       "      <th>...</th>\n",
       "      <th>15</th>\n",
       "      <th>16</th>\n",
       "      <th>17</th>\n",
       "      <th>18</th>\n",
       "      <th>19</th>\n",
       "      <th>20</th>\n",
       "      <th>21</th>\n",
       "      <th>22</th>\n",
       "      <th>23</th>\n",
       "      <th>total</th>\n",
       "    </tr>\n",
       "    <tr>\n",
       "      <th>월</th>\n",
       "      <th></th>\n",
       "      <th></th>\n",
       "      <th></th>\n",
       "      <th></th>\n",
       "      <th></th>\n",
       "      <th></th>\n",
       "      <th></th>\n",
       "      <th></th>\n",
       "      <th></th>\n",
       "      <th></th>\n",
       "      <th></th>\n",
       "      <th></th>\n",
       "      <th></th>\n",
       "      <th></th>\n",
       "      <th></th>\n",
       "      <th></th>\n",
       "      <th></th>\n",
       "      <th></th>\n",
       "      <th></th>\n",
       "      <th></th>\n",
       "      <th></th>\n",
       "    </tr>\n",
       "  </thead>\n",
       "  <tbody>\n",
       "    <tr>\n",
       "      <th>2020-11</th>\n",
       "      <td>2098081</td>\n",
       "      <td>349867</td>\n",
       "      <td>155377</td>\n",
       "      <td>130386</td>\n",
       "      <td>1329355</td>\n",
       "      <td>6136505</td>\n",
       "      <td>13402605</td>\n",
       "      <td>32537726</td>\n",
       "      <td>52019524</td>\n",
       "      <td>33591727</td>\n",
       "      <td>...</td>\n",
       "      <td>27905265</td>\n",
       "      <td>31454781</td>\n",
       "      <td>38669351</td>\n",
       "      <td>50479289</td>\n",
       "      <td>34838703</td>\n",
       "      <td>23676409</td>\n",
       "      <td>22284310</td>\n",
       "      <td>18204449</td>\n",
       "      <td>9614244</td>\n",
       "      <td>516629667</td>\n",
       "    </tr>\n",
       "    <tr>\n",
       "      <th>2020-12</th>\n",
       "      <td>768884</td>\n",
       "      <td>144747</td>\n",
       "      <td>81844</td>\n",
       "      <td>79404</td>\n",
       "      <td>1185775</td>\n",
       "      <td>5460206</td>\n",
       "      <td>11851038</td>\n",
       "      <td>27047114</td>\n",
       "      <td>44277285</td>\n",
       "      <td>28695709</td>\n",
       "      <td>...</td>\n",
       "      <td>23283325</td>\n",
       "      <td>25506856</td>\n",
       "      <td>31762247</td>\n",
       "      <td>41623937</td>\n",
       "      <td>28400927</td>\n",
       "      <td>19939147</td>\n",
       "      <td>19568978</td>\n",
       "      <td>9363563</td>\n",
       "      <td>4006368</td>\n",
       "      <td>421314351</td>\n",
       "    </tr>\n",
       "  </tbody>\n",
       "</table>\n",
       "<p>2 rows × 25 columns</p>\n",
       "</div>"
      ],
      "text/plain": [
       "시간             0       1       2       3        4        5         6  \\\n",
       "월                                                                      \n",
       "2020-11  2098081  349867  155377  130386  1329355  6136505  13402605   \n",
       "2020-12   768884  144747   81844   79404  1185775  5460206  11851038   \n",
       "\n",
       "시간              7         8         9  ...        15        16        17  \\\n",
       "월                                      ...                                 \n",
       "2020-11  32537726  52019524  33591727  ...  27905265  31454781  38669351   \n",
       "2020-12  27047114  44277285  28695709  ...  23283325  25506856  31762247   \n",
       "\n",
       "시간             18        19        20        21        22       23      total  \n",
       "월                                                                              \n",
       "2020-11  50479289  34838703  23676409  22284310  18204449  9614244  516629667  \n",
       "2020-12  41623937  28400927  19939147  19568978   9363563  4006368  421314351  \n",
       "\n",
       "[2 rows x 25 columns]"
      ]
     },
     "execution_count": 10,
     "metadata": {},
     "output_type": "execute_result"
    }
   ],
   "source": [
    "traffic_m_2020.loc[:, \"total\"] = traffic_m_2020.sum(axis=1)\n",
    "traffic_m_2020.tail(2)"
   ]
  },
  {
   "cell_type": "code",
   "execution_count": 11,
   "id": "cdbd7dbb",
   "metadata": {},
   "outputs": [
    {
     "data": {
      "text/html": [
       "<div>\n",
       "<style scoped>\n",
       "    .dataframe tbody tr th:only-of-type {\n",
       "        vertical-align: middle;\n",
       "    }\n",
       "\n",
       "    .dataframe tbody tr th {\n",
       "        vertical-align: top;\n",
       "    }\n",
       "\n",
       "    .dataframe thead th {\n",
       "        text-align: right;\n",
       "    }\n",
       "</style>\n",
       "<table border=\"1\" class=\"dataframe\">\n",
       "  <thead>\n",
       "    <tr style=\"text-align: right;\">\n",
       "      <th>시간</th>\n",
       "      <th>0</th>\n",
       "      <th>1</th>\n",
       "      <th>2</th>\n",
       "      <th>3</th>\n",
       "      <th>4</th>\n",
       "      <th>5</th>\n",
       "      <th>6</th>\n",
       "      <th>7</th>\n",
       "      <th>8</th>\n",
       "      <th>9</th>\n",
       "      <th>...</th>\n",
       "      <th>14</th>\n",
       "      <th>15</th>\n",
       "      <th>16</th>\n",
       "      <th>17</th>\n",
       "      <th>18</th>\n",
       "      <th>19</th>\n",
       "      <th>20</th>\n",
       "      <th>21</th>\n",
       "      <th>22</th>\n",
       "      <th>23</th>\n",
       "    </tr>\n",
       "    <tr>\n",
       "      <th>지명</th>\n",
       "      <th></th>\n",
       "      <th></th>\n",
       "      <th></th>\n",
       "      <th></th>\n",
       "      <th></th>\n",
       "      <th></th>\n",
       "      <th></th>\n",
       "      <th></th>\n",
       "      <th></th>\n",
       "      <th></th>\n",
       "      <th></th>\n",
       "      <th></th>\n",
       "      <th></th>\n",
       "      <th></th>\n",
       "      <th></th>\n",
       "      <th></th>\n",
       "      <th></th>\n",
       "      <th></th>\n",
       "      <th></th>\n",
       "      <th></th>\n",
       "      <th></th>\n",
       "    </tr>\n",
       "  </thead>\n",
       "  <tbody>\n",
       "    <tr>\n",
       "      <th>중구</th>\n",
       "      <td>1030686</td>\n",
       "      <td>267406</td>\n",
       "      <td>125901</td>\n",
       "      <td>144638</td>\n",
       "      <td>524518</td>\n",
       "      <td>2845992</td>\n",
       "      <td>6134273</td>\n",
       "      <td>15971819</td>\n",
       "      <td>33999864</td>\n",
       "      <td>20472449</td>\n",
       "      <td>...</td>\n",
       "      <td>14554400</td>\n",
       "      <td>15679344</td>\n",
       "      <td>17012446</td>\n",
       "      <td>23538009</td>\n",
       "      <td>33093127</td>\n",
       "      <td>18656846</td>\n",
       "      <td>13260295</td>\n",
       "      <td>11477169</td>\n",
       "      <td>8628758</td>\n",
       "      <td>4649330</td>\n",
       "    </tr>\n",
       "    <tr>\n",
       "      <th>중랑구</th>\n",
       "      <td>999460</td>\n",
       "      <td>179205</td>\n",
       "      <td>71499</td>\n",
       "      <td>63145</td>\n",
       "      <td>722886</td>\n",
       "      <td>2550547</td>\n",
       "      <td>4890796</td>\n",
       "      <td>10808463</td>\n",
       "      <td>14961209</td>\n",
       "      <td>8788647</td>\n",
       "      <td>...</td>\n",
       "      <td>7304112</td>\n",
       "      <td>8024669</td>\n",
       "      <td>8997200</td>\n",
       "      <td>10484633</td>\n",
       "      <td>13326202</td>\n",
       "      <td>11698006</td>\n",
       "      <td>7464722</td>\n",
       "      <td>6621289</td>\n",
       "      <td>5495151</td>\n",
       "      <td>3253670</td>\n",
       "    </tr>\n",
       "  </tbody>\n",
       "</table>\n",
       "<p>2 rows × 24 columns</p>\n",
       "</div>"
      ],
      "text/plain": [
       "시간        0       1       2       3       4        5        6         7   \\\n",
       "지명                                                                         \n",
       "중구   1030686  267406  125901  144638  524518  2845992  6134273  15971819   \n",
       "중랑구   999460  179205   71499   63145  722886  2550547  4890796  10808463   \n",
       "\n",
       "시간         8         9   ...        14        15        16        17  \\\n",
       "지명                       ...                                           \n",
       "중구   33999864  20472449  ...  14554400  15679344  17012446  23538009   \n",
       "중랑구  14961209   8788647  ...   7304112   8024669   8997200  10484633   \n",
       "\n",
       "시간         18        19        20        21       22       23  \n",
       "지명                                                             \n",
       "중구   33093127  18656846  13260295  11477169  8628758  4649330  \n",
       "중랑구  13326202  11698006   7464722   6621289  5495151  3253670  \n",
       "\n",
       "[2 rows x 24 columns]"
      ]
     },
     "execution_count": 11,
     "metadata": {},
     "output_type": "execute_result"
    }
   ],
   "source": [
    "traffic_r_2020 = df2.pivot_table(\"count\", \"지명\", \"시간\", aggfunc=np.sum)\n",
    "traffic_r_2020.tail(2)"
   ]
  },
  {
   "cell_type": "code",
   "execution_count": 12,
   "id": "aae9b2fb",
   "metadata": {},
   "outputs": [
    {
     "data": {
      "text/html": [
       "<div>\n",
       "<style scoped>\n",
       "    .dataframe tbody tr th:only-of-type {\n",
       "        vertical-align: middle;\n",
       "    }\n",
       "\n",
       "    .dataframe tbody tr th {\n",
       "        vertical-align: top;\n",
       "    }\n",
       "\n",
       "    .dataframe thead th {\n",
       "        text-align: right;\n",
       "    }\n",
       "</style>\n",
       "<table border=\"1\" class=\"dataframe\">\n",
       "  <thead>\n",
       "    <tr style=\"text-align: right;\">\n",
       "      <th>시간</th>\n",
       "      <th>0</th>\n",
       "      <th>1</th>\n",
       "      <th>2</th>\n",
       "      <th>3</th>\n",
       "      <th>4</th>\n",
       "      <th>5</th>\n",
       "      <th>6</th>\n",
       "      <th>7</th>\n",
       "      <th>8</th>\n",
       "      <th>9</th>\n",
       "      <th>...</th>\n",
       "      <th>15</th>\n",
       "      <th>16</th>\n",
       "      <th>17</th>\n",
       "      <th>18</th>\n",
       "      <th>19</th>\n",
       "      <th>20</th>\n",
       "      <th>21</th>\n",
       "      <th>22</th>\n",
       "      <th>23</th>\n",
       "      <th>total</th>\n",
       "    </tr>\n",
       "    <tr>\n",
       "      <th>지명</th>\n",
       "      <th></th>\n",
       "      <th></th>\n",
       "      <th></th>\n",
       "      <th></th>\n",
       "      <th></th>\n",
       "      <th></th>\n",
       "      <th></th>\n",
       "      <th></th>\n",
       "      <th></th>\n",
       "      <th></th>\n",
       "      <th></th>\n",
       "      <th></th>\n",
       "      <th></th>\n",
       "      <th></th>\n",
       "      <th></th>\n",
       "      <th></th>\n",
       "      <th></th>\n",
       "      <th></th>\n",
       "      <th></th>\n",
       "      <th></th>\n",
       "      <th></th>\n",
       "    </tr>\n",
       "  </thead>\n",
       "  <tbody>\n",
       "    <tr>\n",
       "      <th>중구</th>\n",
       "      <td>1030686</td>\n",
       "      <td>267406</td>\n",
       "      <td>125901</td>\n",
       "      <td>144638</td>\n",
       "      <td>524518</td>\n",
       "      <td>2845992</td>\n",
       "      <td>6134273</td>\n",
       "      <td>15971819</td>\n",
       "      <td>33999864</td>\n",
       "      <td>20472449</td>\n",
       "      <td>...</td>\n",
       "      <td>15679344</td>\n",
       "      <td>17012446</td>\n",
       "      <td>23538009</td>\n",
       "      <td>33093127</td>\n",
       "      <td>18656846</td>\n",
       "      <td>13260295</td>\n",
       "      <td>11477169</td>\n",
       "      <td>8628758</td>\n",
       "      <td>4649330</td>\n",
       "      <td>295154710</td>\n",
       "    </tr>\n",
       "    <tr>\n",
       "      <th>중랑구</th>\n",
       "      <td>999460</td>\n",
       "      <td>179205</td>\n",
       "      <td>71499</td>\n",
       "      <td>63145</td>\n",
       "      <td>722886</td>\n",
       "      <td>2550547</td>\n",
       "      <td>4890796</td>\n",
       "      <td>10808463</td>\n",
       "      <td>14961209</td>\n",
       "      <td>8788647</td>\n",
       "      <td>...</td>\n",
       "      <td>8024669</td>\n",
       "      <td>8997200</td>\n",
       "      <td>10484633</td>\n",
       "      <td>13326202</td>\n",
       "      <td>11698006</td>\n",
       "      <td>7464722</td>\n",
       "      <td>6621289</td>\n",
       "      <td>5495151</td>\n",
       "      <td>3253670</td>\n",
       "      <td>153829883</td>\n",
       "    </tr>\n",
       "  </tbody>\n",
       "</table>\n",
       "<p>2 rows × 25 columns</p>\n",
       "</div>"
      ],
      "text/plain": [
       "시간         0       1       2       3       4        5        6         7  \\\n",
       "지명                                                                         \n",
       "중구   1030686  267406  125901  144638  524518  2845992  6134273  15971819   \n",
       "중랑구   999460  179205   71499   63145  722886  2550547  4890796  10808463   \n",
       "\n",
       "시간          8         9  ...        15        16        17        18  \\\n",
       "지명                       ...                                           \n",
       "중구   33999864  20472449  ...  15679344  17012446  23538009  33093127   \n",
       "중랑구  14961209   8788647  ...   8024669   8997200  10484633  13326202   \n",
       "\n",
       "시간         19        20        21       22       23      total  \n",
       "지명                                                              \n",
       "중구   18656846  13260295  11477169  8628758  4649330  295154710  \n",
       "중랑구  11698006   7464722   6621289  5495151  3253670  153829883  \n",
       "\n",
       "[2 rows x 25 columns]"
      ]
     },
     "execution_count": 12,
     "metadata": {},
     "output_type": "execute_result"
    }
   ],
   "source": [
    "traffic_r_2020.loc[:, \"total\"] = traffic_r_2020.sum(axis=1)\n",
    "traffic_r_2020.tail(2)"
   ]
  },
  {
   "cell_type": "code",
   "execution_count": 13,
   "id": "1448ef4b",
   "metadata": {},
   "outputs": [
    {
     "data": {
      "text/html": [
       "<div>\n",
       "<style scoped>\n",
       "    .dataframe tbody tr th:only-of-type {\n",
       "        vertical-align: middle;\n",
       "    }\n",
       "\n",
       "    .dataframe tbody tr th {\n",
       "        vertical-align: top;\n",
       "    }\n",
       "\n",
       "    .dataframe thead th {\n",
       "        text-align: right;\n",
       "    }\n",
       "</style>\n",
       "<table border=\"1\" class=\"dataframe\">\n",
       "  <thead>\n",
       "    <tr style=\"text-align: right;\">\n",
       "      <th></th>\n",
       "      <th>year</th>\n",
       "      <th>month</th>\n",
       "      <th>day</th>\n",
       "      <th>요일</th>\n",
       "      <th>구</th>\n",
       "      <th>총합</th>\n",
       "      <th>0</th>\n",
       "      <th>1</th>\n",
       "      <th>2</th>\n",
       "      <th>3</th>\n",
       "      <th>...</th>\n",
       "      <th>14</th>\n",
       "      <th>15</th>\n",
       "      <th>16</th>\n",
       "      <th>17</th>\n",
       "      <th>18</th>\n",
       "      <th>19</th>\n",
       "      <th>20</th>\n",
       "      <th>21</th>\n",
       "      <th>22</th>\n",
       "      <th>23</th>\n",
       "    </tr>\n",
       "  </thead>\n",
       "  <tbody>\n",
       "    <tr>\n",
       "      <th>49408</th>\n",
       "      <td>2020</td>\n",
       "      <td>12</td>\n",
       "      <td>30</td>\n",
       "      <td>수</td>\n",
       "      <td>영등포구</td>\n",
       "      <td>97701</td>\n",
       "      <td>2696</td>\n",
       "      <td>1718</td>\n",
       "      <td>1247</td>\n",
       "      <td>1191</td>\n",
       "      <td>...</td>\n",
       "      <td>4893</td>\n",
       "      <td>4599</td>\n",
       "      <td>3792</td>\n",
       "      <td>3432</td>\n",
       "      <td>3340</td>\n",
       "      <td>4543</td>\n",
       "      <td>5158</td>\n",
       "      <td>5234</td>\n",
       "      <td>5217</td>\n",
       "      <td>4079</td>\n",
       "    </tr>\n",
       "    <tr>\n",
       "      <th>49409</th>\n",
       "      <td>2020</td>\n",
       "      <td>12</td>\n",
       "      <td>31</td>\n",
       "      <td>목</td>\n",
       "      <td>영등포구</td>\n",
       "      <td>96422</td>\n",
       "      <td>2905</td>\n",
       "      <td>1801</td>\n",
       "      <td>1363</td>\n",
       "      <td>1129</td>\n",
       "      <td>...</td>\n",
       "      <td>4619</td>\n",
       "      <td>3993</td>\n",
       "      <td>3539</td>\n",
       "      <td>3374</td>\n",
       "      <td>3071</td>\n",
       "      <td>4232</td>\n",
       "      <td>5270</td>\n",
       "      <td>4927</td>\n",
       "      <td>4889</td>\n",
       "      <td>3822</td>\n",
       "    </tr>\n",
       "  </tbody>\n",
       "</table>\n",
       "<p>2 rows × 30 columns</p>\n",
       "</div>"
      ],
      "text/plain": [
       "       year  month  day 요일     구     총합     0     1     2     3  ...    14  \\\n",
       "49408  2020     12   30  수  영등포구  97701  2696  1718  1247  1191  ...  4893   \n",
       "49409  2020     12   31  목  영등포구  96422  2905  1801  1363  1129  ...  4619   \n",
       "\n",
       "         15    16    17    18    19    20    21    22    23  \n",
       "49408  4599  3792  3432  3340  4543  5158  5234  5217  4079  \n",
       "49409  3993  3539  3374  3071  4232  5270  4927  4889  3822  \n",
       "\n",
       "[2 rows x 30 columns]"
      ]
     },
     "execution_count": 13,
     "metadata": {},
     "output_type": "execute_result"
    }
   ],
   "source": [
    "traffic_2020 = pd.read_csv(df_2020_url)\n",
    "traffic_2020.tail(2)[['year','month','day','요일','구','총합','0','1','2','3','4','5','6','7','8','9','10','11','12','13',\n",
    "              '14','15','16','17','18','19','20','21','22','23']]"
   ]
  },
  {
   "cell_type": "markdown",
   "id": "8c6794cf",
   "metadata": {},
   "source": [
    "###  * 결측 데이터 검색"
   ]
  },
  {
   "cell_type": "code",
   "execution_count": 14,
   "id": "93cf8eae",
   "metadata": {},
   "outputs": [
    {
     "data": {
      "text/plain": [
       "날짜       0\n",
       "시간       0\n",
       "지명       0\n",
       "발생량      0\n",
       "도착량      0\n",
       "count    0\n",
       "월        0\n",
       "dtype: int64"
      ]
     },
     "execution_count": 14,
     "metadata": {},
     "output_type": "execute_result"
    }
   ],
   "source": [
    "df1.isna().sum()"
   ]
  },
  {
   "cell_type": "code",
   "execution_count": 15,
   "id": "50f86972",
   "metadata": {},
   "outputs": [
    {
     "data": {
      "text/plain": [
       "날짜       0\n",
       "시간       0\n",
       "지명       0\n",
       "발생량      0\n",
       "도착량      0\n",
       "count    0\n",
       "월        0\n",
       "dtype: int64"
      ]
     },
     "execution_count": 15,
     "metadata": {},
     "output_type": "execute_result"
    }
   ],
   "source": [
    "df2.isna().sum()"
   ]
  },
  {
   "cell_type": "code",
   "execution_count": 16,
   "id": "ea206002",
   "metadata": {},
   "outputs": [
    {
     "data": {
      "image/png": "[encoded data removed]",
      "text/plain": [
       "<Figure size 1800x720 with 2 Axes>"
      ]
     },
     "metadata": {
      "image/png": {
       "height": 620,
       "width": 1483
      },
      "needs_background": "light"
     },
     "output_type": "display_data"
    },
    {
     "ename": "NameError",
     "evalue": "name 'warnings' is not defined",
     "output_type": "error",
     "traceback": [
      "\u001b[0;31m---------------------------------------------------------------------------\u001b[0m",
      "\u001b[0;31mNameError\u001b[0m                                 Traceback (most recent call last)",
      "\u001b[0;32m<ipython-input-16-a20101ef4f06>\u001b[0m in \u001b[0;36m<module>\u001b[0;34m\u001b[0m\n\u001b[1;32m      2\u001b[0m \u001b[0mplt\u001b[0m\u001b[0;34m.\u001b[0m\u001b[0mshow\u001b[0m\u001b[0;34m(\u001b[0m\u001b[0;34m)\u001b[0m\u001b[0;34m\u001b[0m\u001b[0;34m\u001b[0m\u001b[0m\n\u001b[1;32m      3\u001b[0m \u001b[0;34m\u001b[0m\u001b[0m\n\u001b[0;32m----> 4\u001b[0;31m \u001b[0mwarnings\u001b[0m\u001b[0;34m.\u001b[0m\u001b[0mfilterwarnings\u001b[0m\u001b[0;34m(\u001b[0m\u001b[0;34m'ignore'\u001b[0m\u001b[0;34m)\u001b[0m\u001b[0;34m\u001b[0m\u001b[0;34m\u001b[0m\u001b[0m\n\u001b[0m",
      "\u001b[0;31mNameError\u001b[0m: name 'warnings' is not defined"
     ]
    }
   ],
   "source": [
    "msno.matrix(df1)\n",
    "plt.show()\n",
    "\n",
    "warnings.filterwarnings('ignore')"
   ]
  },
  {
   "cell_type": "code",
   "execution_count": 17,
   "id": "1f0280cf",
   "metadata": {},
   "outputs": [
    {
     "data": {
      "image/png": "[encoded data removed]",
      "text/plain": [
       "<Figure size 1800x720 with 2 Axes>"
      ]
     },
     "metadata": {
      "image/png": {
       "height": 620,
       "width": 1483
      },
      "needs_background": "light"
     },
     "output_type": "display_data"
    },
    {
     "ename": "NameError",
     "evalue": "name 'warnings' is not defined",
     "output_type": "error",
     "traceback": [
      "\u001b[0;31m---------------------------------------------------------------------------\u001b[0m",
      "\u001b[0;31mNameError\u001b[0m                                 Traceback (most recent call last)",
      "\u001b[0;32m<ipython-input-17-a8698421872d>\u001b[0m in \u001b[0;36m<module>\u001b[0;34m\u001b[0m\n\u001b[1;32m      1\u001b[0m \u001b[0mmsno\u001b[0m\u001b[0;34m.\u001b[0m\u001b[0mmatrix\u001b[0m\u001b[0;34m(\u001b[0m\u001b[0mdf2\u001b[0m\u001b[0;34m)\u001b[0m\u001b[0;34m\u001b[0m\u001b[0;34m\u001b[0m\u001b[0m\n\u001b[1;32m      2\u001b[0m \u001b[0mplt\u001b[0m\u001b[0;34m.\u001b[0m\u001b[0mshow\u001b[0m\u001b[0;34m(\u001b[0m\u001b[0;34m)\u001b[0m\u001b[0;34m\u001b[0m\u001b[0;34m\u001b[0m\u001b[0m\n\u001b[0;32m----> 3\u001b[0;31m \u001b[0mwarnings\u001b[0m\u001b[0;34m.\u001b[0m\u001b[0mfilterwarnings\u001b[0m\u001b[0;34m(\u001b[0m\u001b[0;34m'ignore'\u001b[0m\u001b[0;34m)\u001b[0m\u001b[0;34m\u001b[0m\u001b[0;34m\u001b[0m\u001b[0m\n\u001b[0m",
      "\u001b[0;31mNameError\u001b[0m: name 'warnings' is not defined"
     ]
    }
   ],
   "source": [
    "msno.matrix(df2)\n",
    "plt.show()\n",
    "warnings.filterwarnings('ignore')"
   ]
  },
  {
   "cell_type": "markdown",
   "id": "84594331",
   "metadata": {},
   "source": [
    "## 1-1 2019_2020 서울 전체 대중교통량 비교"
   ]
  },
  {
   "cell_type": "code",
   "execution_count": 28,
   "id": "38df6cb6",
   "metadata": {},
   "outputs": [
    {
     "name": "stdout",
     "output_type": "stream",
     "text": [
      "percentage : -26.06603037719734\n"
     ]
    }
   ],
   "source": [
    "y1 = traffic_m_2019[\"total\"].sum() \n",
    "y2 = traffic_m_2020[\"total\"].sum()\n",
    "print(\"percentage :\", (((y2 - y1) / y1 * 100)))"
   ]
  },
  {
   "cell_type": "code",
   "execution_count": 29,
   "id": "40c28493",
   "metadata": {},
   "outputs": [
    {
     "name": "stderr",
     "output_type": "stream",
     "text": [
      "/home/chaebeen/anaconda3/envs/dss/lib/python3.7/site-packages/matplotlib/backends/backend_agg.py:238: RuntimeWarning: Glyph 8722 missing from current font.\n",
      "  font.set_text(s, 0.0, flags=flags)\n",
      "/home/chaebeen/anaconda3/envs/dss/lib/python3.7/site-packages/matplotlib/backends/backend_agg.py:201: RuntimeWarning: Glyph 8722 missing from current font.\n",
      "  font.set_text(s, 0, flags=flags)\n"
     ]
    },
    {
     "data": {
      "image/png": "[encoded data removed]",
      "text/plain": [
       "<Figure size 432x288 with 1 Axes>"
      ]
     },
     "metadata": {
      "image/png": {
       "height": 268,
       "width": 371
      },
      "needs_background": "light"
     },
     "output_type": "display_data"
    }
   ],
   "source": [
    "x1 = [0]\n",
    "x2 = [1]\n",
    "y1 = traffic_m_2019[\"total\"].sum() #2019 Total 교통량\n",
    "y2 = traffic_m_2020[\"total\"].sum() #2020 Total 교통량\n",
    "\n",
    "plt.bar(x1,y1, label='2019 traffic', color='b')\n",
    "plt.bar(x2,y2, label='2020 traffic', color='g')\n",
    "plt.legend()\n",
    "plt.ylim([0,100000000000/6])\n",
    "plt.title(\"rate : -26.07%\", fontsize = 20)\n",
    "\n",
    "plt.show()"
   ]
  },
  {
   "cell_type": "markdown",
   "id": "322b4ff0",
   "metadata": {},
   "source": [
    "## 1-2 2019_2020 서울 전체 차량 통행량 비교"
   ]
  },
  {
   "cell_type": "code",
   "execution_count": 30,
   "id": "a07d1097",
   "metadata": {},
   "outputs": [],
   "source": [
    "df_2019 = traffic_2019\n",
    "df_2020 = traffic_2020"
   ]
  },
  {
   "cell_type": "code",
   "execution_count": 31,
   "id": "f3f98a3f",
   "metadata": {},
   "outputs": [
    {
     "name": "stdout",
     "output_type": "stream",
     "text": [
      "rate : 총합   -5.515189\n",
      "dtype: float64\n"
     ]
    }
   ],
   "source": [
    "total_2019_df = pd.DataFrame(df_2019, columns=[\"총합\"]).sum()\n",
    "total_2020_df = pd.DataFrame(df_2020, columns=[\"총합\"]).sum()\n",
    "#plt.title(\"rate : -5.51%\", fontsize=20)\n",
    "print(\"rate :\",(((total_2020_df-total_2019_df)/(total_2019_df))*100))"
   ]
  },
  {
   "cell_type": "code",
   "execution_count": 32,
   "id": "0f47f425",
   "metadata": {},
   "outputs": [
    {
     "data": {
      "image/png": "[encoded data removed]",
      "text/plain": [
       "<Figure size 432x288 with 1 Axes>"
      ]
     },
     "metadata": {
      "image/png": {
       "height": 262,
       "width": 371
      },
      "needs_background": "light"
     },
     "output_type": "display_data"
    }
   ],
   "source": [
    "x1 = 0\n",
    "x2 = 1\n",
    "df_sum_2019 = pd.DataFrame(traffic_2019, columns=[\"총합\"])\n",
    "df_sum_2020 = pd.DataFrame(traffic_2020, columns=[\"총합\"])\n",
    "\n",
    "plt.bar(x1, df_sum_2019.sum(), label=\"2019 traffic\", color='b')\n",
    "plt.bar(x2, df_sum_2020.sum(), label=\"2020 traffic\", color='g')\n",
    "\n",
    "plt.legend()\n",
    "plt.text(0,200*10000000,\"3,471,799,610\",ha='center')\n",
    "#plt.text(0.5,400*10000000,\"3,280,323,284\",ha='center')\n",
    "plt.text(0.5,380*10000000,\"-5.52% 감소\",fontsize=20,ha='center')\n",
    "plt.text(1,200*10000000,\"3,280,323,284\",ha='center')\n",
    "plt.ylim([350000000,4500000000])\n",
    "#plt.xlabel(\"aaaa\")\n",
    "plt.title(\"2019-2020 Traffic Counting\")\n",
    "\n",
    "plt.show()"
   ]
  },
  {
   "cell_type": "markdown",
   "id": "8f6cc7ea",
   "metadata": {},
   "source": [
    "# 2-1 2019-2020 월별 서울 대중 교통량 비교"
   ]
  },
  {
   "cell_type": "code",
   "execution_count": 33,
   "id": "acoustic-emphasis",
   "metadata": {},
   "outputs": [
    {
     "name": "stdout",
     "output_type": "stream",
     "text": [
      "2019년 평균 통행량 : 676359867 대\n"
     ]
    }
   ],
   "source": [
    "pub_tans_2019 = round(traffic_m_2019[\"total\"].mean())\n",
    "print(\"2019년 평균 통행량 :\", pub_tans_2019,\"대\")"
   ]
  },
  {
   "cell_type": "code",
   "execution_count": 34,
   "id": "turned-bankruptcy",
   "metadata": {},
   "outputs": [
    {
     "data": {
      "text/html": [
       "<div>\n",
       "<style scoped>\n",
       "    .dataframe tbody tr th:only-of-type {\n",
       "        vertical-align: middle;\n",
       "    }\n",
       "\n",
       "    .dataframe tbody tr th {\n",
       "        vertical-align: top;\n",
       "    }\n",
       "\n",
       "    .dataframe thead th {\n",
       "        text-align: right;\n",
       "    }\n",
       "</style>\n",
       "<table border=\"1\" class=\"dataframe\">\n",
       "  <thead>\n",
       "    <tr style=\"text-align: right;\">\n",
       "      <th></th>\n",
       "      <th>total</th>\n",
       "    </tr>\n",
       "    <tr>\n",
       "      <th>월</th>\n",
       "      <th></th>\n",
       "    </tr>\n",
       "  </thead>\n",
       "  <tbody>\n",
       "    <tr>\n",
       "      <th>2019-03</th>\n",
       "      <td>695974373</td>\n",
       "    </tr>\n",
       "    <tr>\n",
       "      <th>2019-04</th>\n",
       "      <td>699471154</td>\n",
       "    </tr>\n",
       "    <tr>\n",
       "      <th>2019-05</th>\n",
       "      <td>719349046</td>\n",
       "    </tr>\n",
       "    <tr>\n",
       "      <th>2019-07</th>\n",
       "      <td>695624147</td>\n",
       "    </tr>\n",
       "    <tr>\n",
       "      <th>2019-10</th>\n",
       "      <td>711970874</td>\n",
       "    </tr>\n",
       "    <tr>\n",
       "      <th>2019-11</th>\n",
       "      <td>690195489</td>\n",
       "    </tr>\n",
       "    <tr>\n",
       "      <th>2019-12</th>\n",
       "      <td>697837963</td>\n",
       "    </tr>\n",
       "  </tbody>\n",
       "</table>\n",
       "</div>"
      ],
      "text/plain": [
       "             total\n",
       "월                 \n",
       "2019-03  695974373\n",
       "2019-04  699471154\n",
       "2019-05  719349046\n",
       "2019-07  695624147\n",
       "2019-10  711970874\n",
       "2019-11  690195489\n",
       "2019-12  697837963"
      ]
     },
     "execution_count": 34,
     "metadata": {},
     "output_type": "execute_result"
    }
   ],
   "source": [
    "dfdf_2019 = traffic_m_2019[traffic_m_2019[\"total\"] > traffic_m_2019[\"total\"].mean()]\n",
    "dfdfdf_2019 = pd.DataFrame(dfdf_2019, columns=[\"total\"])\n",
    "dfdfdf_2019"
   ]
  },
  {
   "cell_type": "code",
   "execution_count": 35,
   "id": "secure-nightmare",
   "metadata": {},
   "outputs": [
    {
     "name": "stdout",
     "output_type": "stream",
     "text": [
      "2020년 평균 통행량 : 500059699 대\n"
     ]
    }
   ],
   "source": [
    "pub_tans_2020 = round(traffic_m_2020[\"total\"].mean())\n",
    "print(\"2020년 평균 통행량 :\", pub_tans_2020,\"대\")"
   ]
  },
  {
   "cell_type": "code",
   "execution_count": 36,
   "id": "unnecessary-stack",
   "metadata": {},
   "outputs": [
    {
     "data": {
      "text/html": [
       "<div>\n",
       "<style scoped>\n",
       "    .dataframe tbody tr th:only-of-type {\n",
       "        vertical-align: middle;\n",
       "    }\n",
       "\n",
       "    .dataframe tbody tr th {\n",
       "        vertical-align: top;\n",
       "    }\n",
       "\n",
       "    .dataframe thead th {\n",
       "        text-align: right;\n",
       "    }\n",
       "</style>\n",
       "<table border=\"1\" class=\"dataframe\">\n",
       "  <thead>\n",
       "    <tr style=\"text-align: right;\">\n",
       "      <th></th>\n",
       "      <th>total</th>\n",
       "    </tr>\n",
       "    <tr>\n",
       "      <th>월</th>\n",
       "      <th></th>\n",
       "    </tr>\n",
       "  </thead>\n",
       "  <tbody>\n",
       "    <tr>\n",
       "      <th>2020-01</th>\n",
       "      <td>619873025</td>\n",
       "    </tr>\n",
       "    <tr>\n",
       "      <th>2020-02</th>\n",
       "      <td>518782694</td>\n",
       "    </tr>\n",
       "    <tr>\n",
       "      <th>2020-05</th>\n",
       "      <td>503179606</td>\n",
       "    </tr>\n",
       "    <tr>\n",
       "      <th>2020-06</th>\n",
       "      <td>530270196</td>\n",
       "    </tr>\n",
       "    <tr>\n",
       "      <th>2020-07</th>\n",
       "      <td>566899895</td>\n",
       "    </tr>\n",
       "    <tr>\n",
       "      <th>2020-10</th>\n",
       "      <td>510247343</td>\n",
       "    </tr>\n",
       "    <tr>\n",
       "      <th>2020-11</th>\n",
       "      <td>516629667</td>\n",
       "    </tr>\n",
       "  </tbody>\n",
       "</table>\n",
       "</div>"
      ],
      "text/plain": [
       "             total\n",
       "월                 \n",
       "2020-01  619873025\n",
       "2020-02  518782694\n",
       "2020-05  503179606\n",
       "2020-06  530270196\n",
       "2020-07  566899895\n",
       "2020-10  510247343\n",
       "2020-11  516629667"
      ]
     },
     "execution_count": 36,
     "metadata": {},
     "output_type": "execute_result"
    }
   ],
   "source": [
    "dfdf_2020 = traffic_m_2020[traffic_m_2020[\"total\"] > traffic_m_2020[\"total\"].mean()]\n",
    "dfdfdf_2020 = pd.DataFrame(dfdf_2020, columns=[\"total\"])\n",
    "dfdfdf_2020"
   ]
  },
  {
   "cell_type": "code",
   "execution_count": 37,
   "id": "answering-sherman",
   "metadata": {},
   "outputs": [
    {
     "data": {
      "image/png": "[encoded data removed]",
      "text/plain": [
       "<Figure size 1440x360 with 1 Axes>"
      ]
     },
     "metadata": {
      "image/png": {
       "height": 316,
       "width": 1152
      },
      "needs_background": "light"
     },
     "output_type": "display_data"
    }
   ],
   "source": [
    "X1 = [\"1월\",\"2월\",\"3월\",\"4월\",\"5월\",\"6월\",\"7월\",\"8월\",\"9월\",\"10월\",\"11월\",\"12월\"]\n",
    "X2 = [\"1월\",\"2월\",\"3월\",\"4월\",\"5월\",\"6월\",\"7월\",\"8월\",\"9월\",\"10월\",\"11월\",\"12월\"]\n",
    "y1 = traffic_m_2019.total\n",
    "y2 = traffic_m_2020.total\n",
    "\n",
    "plt.figure(figsize=(20, 5))\n",
    "plt.plot(X1,y1, label='2019 traffic(month)', color='b')\n",
    "plt.plot(X2,y2, label='2020 traffic(month)', color='g')\n",
    "plt.legend()\n",
    "plt.title(\"2019-2020 Pub_Traffic Counting\")\n",
    "plt.axhline(y=pub_tans_2019, color='r', linewidth=1)\n",
    "plt.axhline(y=pub_tans_2020, color='r', linewidth=1)\n",
    "#plt.title(\"2019_Traffic\")\n",
    "#plt.xlabel('region')\n",
    "#plt.ylabel('Traffic')\n",
    "\n",
    "plt.show()"
   ]
  },
  {
   "cell_type": "markdown",
   "id": "2dcc11db",
   "metadata": {},
   "source": [
    "# 2-2 2019-2020 월별 통행량 비교"
   ]
  },
  {
   "cell_type": "code",
   "execution_count": 38,
   "id": "armed-electronics",
   "metadata": {},
   "outputs": [],
   "source": [
    "monthly_2019 = (df_2019[[\"month\", \"총합\"]].groupby(\"month\").sum()).values"
   ]
  },
  {
   "cell_type": "code",
   "execution_count": 39,
   "id": "oriental-stuart",
   "metadata": {},
   "outputs": [
    {
     "name": "stdout",
     "output_type": "stream",
     "text": [
      "2019년 평균 통행량 : 289316634 대\n"
     ]
    }
   ],
   "source": [
    "tans_2019 = round(monthly_2019.mean())\n",
    "print(\"2019년 평균 통행량 :\", tans_2019,\"대\")"
   ]
  },
  {
   "cell_type": "code",
   "execution_count": 40,
   "id": "irish-legend",
   "metadata": {},
   "outputs": [
    {
     "data": {
      "text/html": [
       "<div>\n",
       "<style scoped>\n",
       "    .dataframe tbody tr th:only-of-type {\n",
       "        vertical-align: middle;\n",
       "    }\n",
       "\n",
       "    .dataframe tbody tr th {\n",
       "        vertical-align: top;\n",
       "    }\n",
       "\n",
       "    .dataframe thead th {\n",
       "        text-align: right;\n",
       "    }\n",
       "</style>\n",
       "<table border=\"1\" class=\"dataframe\">\n",
       "  <thead>\n",
       "    <tr style=\"text-align: right;\">\n",
       "      <th></th>\n",
       "      <th>total</th>\n",
       "    </tr>\n",
       "  </thead>\n",
       "  <tbody>\n",
       "    <tr>\n",
       "      <th>0</th>\n",
       "      <td>293047880</td>\n",
       "    </tr>\n",
       "    <tr>\n",
       "      <th>1</th>\n",
       "      <td>291462852</td>\n",
       "    </tr>\n",
       "    <tr>\n",
       "      <th>2</th>\n",
       "      <td>294804467</td>\n",
       "    </tr>\n",
       "    <tr>\n",
       "      <th>3</th>\n",
       "      <td>301733907</td>\n",
       "    </tr>\n",
       "    <tr>\n",
       "      <th>4</th>\n",
       "      <td>292395939</td>\n",
       "    </tr>\n",
       "    <tr>\n",
       "      <th>5</th>\n",
       "      <td>294338097</td>\n",
       "    </tr>\n",
       "    <tr>\n",
       "      <th>6</th>\n",
       "      <td>294622641</td>\n",
       "    </tr>\n",
       "    <tr>\n",
       "      <th>7</th>\n",
       "      <td>293036874</td>\n",
       "    </tr>\n",
       "    <tr>\n",
       "      <th>8</th>\n",
       "      <td>300392571</td>\n",
       "    </tr>\n",
       "  </tbody>\n",
       "</table>\n",
       "</div>"
      ],
      "text/plain": [
       "       total\n",
       "0  293047880\n",
       "1  291462852\n",
       "2  294804467\n",
       "3  301733907\n",
       "4  292395939\n",
       "5  294338097\n",
       "6  294622641\n",
       "7  293036874\n",
       "8  300392571"
      ]
     },
     "execution_count": 40,
     "metadata": {},
     "output_type": "execute_result"
    }
   ],
   "source": [
    "hh = monthly_2019[monthly_2019 > monthly_2019.mean()]\n",
    "hhh = pd.DataFrame(hh, columns=['total'])\n",
    "hhh"
   ]
  },
  {
   "cell_type": "code",
   "execution_count": 41,
   "id": "expired-activation",
   "metadata": {},
   "outputs": [],
   "source": [
    "monthly_2020 = (df_2020[[\"month\", \"총합\"]].groupby(\"month\").sum()).values"
   ]
  },
  {
   "cell_type": "code",
   "execution_count": 42,
   "id": "clean-interference",
   "metadata": {},
   "outputs": [
    {
     "name": "stdout",
     "output_type": "stream",
     "text": [
      "2020년 평균 통행량 : 273360274 대\n"
     ]
    }
   ],
   "source": [
    "tans_2020 = round(monthly_2020.mean())\n",
    "print(\"2020년 평균 통행량 :\", tans_2020,\"대\")"
   ]
  },
  {
   "cell_type": "code",
   "execution_count": 43,
   "id": "packed-ambassador",
   "metadata": {},
   "outputs": [
    {
     "data": {
      "text/html": [
       "<div>\n",
       "<style scoped>\n",
       "    .dataframe tbody tr th:only-of-type {\n",
       "        vertical-align: middle;\n",
       "    }\n",
       "\n",
       "    .dataframe tbody tr th {\n",
       "        vertical-align: top;\n",
       "    }\n",
       "\n",
       "    .dataframe thead th {\n",
       "        text-align: right;\n",
       "    }\n",
       "</style>\n",
       "<table border=\"1\" class=\"dataframe\">\n",
       "  <thead>\n",
       "    <tr style=\"text-align: right;\">\n",
       "      <th></th>\n",
       "      <th>총합</th>\n",
       "    </tr>\n",
       "  </thead>\n",
       "  <tbody>\n",
       "    <tr>\n",
       "      <th>0</th>\n",
       "      <td>287338914</td>\n",
       "    </tr>\n",
       "    <tr>\n",
       "      <th>1</th>\n",
       "      <td>276988930</td>\n",
       "    </tr>\n",
       "    <tr>\n",
       "      <th>2</th>\n",
       "      <td>275890542</td>\n",
       "    </tr>\n",
       "    <tr>\n",
       "      <th>3</th>\n",
       "      <td>291438374</td>\n",
       "    </tr>\n",
       "    <tr>\n",
       "      <th>4</th>\n",
       "      <td>284005714</td>\n",
       "    </tr>\n",
       "    <tr>\n",
       "      <th>5</th>\n",
       "      <td>292195000</td>\n",
       "    </tr>\n",
       "  </tbody>\n",
       "</table>\n",
       "</div>"
      ],
      "text/plain": [
       "          총합\n",
       "0  287338914\n",
       "1  276988930\n",
       "2  275890542\n",
       "3  291438374\n",
       "4  284005714\n",
       "5  292195000"
      ]
     },
     "execution_count": 43,
     "metadata": {},
     "output_type": "execute_result"
    }
   ],
   "source": [
    "hhhh = monthly_2020[monthly_2020 > monthly_2020.mean()]\n",
    "hhhhh = pd.DataFrame(hhhh, columns=[\"총합\"])\n",
    "hhhhh"
   ]
  },
  {
   "cell_type": "code",
   "execution_count": 44,
   "id": "square-geography",
   "metadata": {},
   "outputs": [
    {
     "data": {
      "image/png": "[encoded data removed]",
      "text/plain": [
       "<Figure size 1440x360 with 1 Axes>"
      ]
     },
     "metadata": {
      "image/png": {
       "height": 316,
       "width": 1152
      },
      "needs_background": "light"
     },
     "output_type": "display_data"
    }
   ],
   "source": [
    "X = [\"1월\",\"2월\",\"3월\",\"4월\",\"5월\",\"6월\",\"7월\",\"8월\",\"9월\",\"10월\",\"11월\",\"12월\"]\n",
    "#X1 = [\"1월\",\"2월\",\"3월\",\"4월\",\"5월\",\"6월\",\"7월\",\"8월\",\"9월\",\"10월\",\"11월\",\"12월\"]\n",
    "#X2 = [\"1월\",\"2월\",\"3월\",\"4월\",\"5월\",\"6월\",\"7월\",\"8월\",\"9월\",\"10월\",\"11월\",\"12월\"]\n",
    "y1 = monthly_2019\n",
    "y2 = monthly_2020\n",
    "\n",
    "plt.figure(figsize=(20, 5))\n",
    "plt.plot(X,y1, label='2019 traffic(month)', color='b')\n",
    "plt.plot(X,y2, label='2020 traffic(month)', color='g')\n",
    "plt.legend()\n",
    "plt.title(\"2019-2020 Traffic Counting\")\n",
    "plt.axhline(y=tans_2019, color='r', linewidth=1)\n",
    "plt.axhline(y=tans_2020, color='r', linewidth=1)\n",
    "\n",
    "plt.show()"
   ]
  },
  {
   "cell_type": "markdown",
   "id": "84d8a6c6",
   "metadata": {},
   "source": [
    "# 3. 요일별 대중 교통량 비교"
   ]
  },
  {
   "cell_type": "code",
   "execution_count": 45,
   "id": "40caa51b",
   "metadata": {},
   "outputs": [
    {
     "data": {
      "text/html": [
       "<div>\n",
       "<style scoped>\n",
       "    .dataframe tbody tr th:only-of-type {\n",
       "        vertical-align: middle;\n",
       "    }\n",
       "\n",
       "    .dataframe tbody tr th {\n",
       "        vertical-align: top;\n",
       "    }\n",
       "\n",
       "    .dataframe thead th {\n",
       "        text-align: right;\n",
       "    }\n",
       "</style>\n",
       "<table border=\"1\" class=\"dataframe\">\n",
       "  <thead>\n",
       "    <tr style=\"text-align: right;\">\n",
       "      <th></th>\n",
       "      <th>날짜</th>\n",
       "      <th>count</th>\n",
       "    </tr>\n",
       "  </thead>\n",
       "  <tbody>\n",
       "    <tr>\n",
       "      <th>0</th>\n",
       "      <td>2019-01-01(화)</td>\n",
       "      <td>3869</td>\n",
       "    </tr>\n",
       "    <tr>\n",
       "      <th>1</th>\n",
       "      <td>2019-01-01(화)</td>\n",
       "      <td>3393</td>\n",
       "    </tr>\n",
       "    <tr>\n",
       "      <th>2</th>\n",
       "      <td>2019-01-01(화)</td>\n",
       "      <td>1571</td>\n",
       "    </tr>\n",
       "    <tr>\n",
       "      <th>3</th>\n",
       "      <td>2019-01-01(화)</td>\n",
       "      <td>4798</td>\n",
       "    </tr>\n",
       "    <tr>\n",
       "      <th>4</th>\n",
       "      <td>2019-01-01(화)</td>\n",
       "      <td>3785</td>\n",
       "    </tr>\n",
       "    <tr>\n",
       "      <th>...</th>\n",
       "      <td>...</td>\n",
       "      <td>...</td>\n",
       "    </tr>\n",
       "    <tr>\n",
       "      <th>218995</th>\n",
       "      <td>2019-12-31(화)</td>\n",
       "      <td>11500</td>\n",
       "    </tr>\n",
       "    <tr>\n",
       "      <th>218996</th>\n",
       "      <td>2019-12-31(화)</td>\n",
       "      <td>17901</td>\n",
       "    </tr>\n",
       "    <tr>\n",
       "      <th>218997</th>\n",
       "      <td>2019-12-31(화)</td>\n",
       "      <td>26981</td>\n",
       "    </tr>\n",
       "    <tr>\n",
       "      <th>218998</th>\n",
       "      <td>2019-12-31(화)</td>\n",
       "      <td>29817</td>\n",
       "    </tr>\n",
       "    <tr>\n",
       "      <th>218999</th>\n",
       "      <td>2019-12-31(화)</td>\n",
       "      <td>13772</td>\n",
       "    </tr>\n",
       "  </tbody>\n",
       "</table>\n",
       "<p>219000 rows × 2 columns</p>\n",
       "</div>"
      ],
      "text/plain": [
       "                   날짜  count\n",
       "0       2019-01-01(화)   3869\n",
       "1       2019-01-01(화)   3393\n",
       "2       2019-01-01(화)   1571\n",
       "3       2019-01-01(화)   4798\n",
       "4       2019-01-01(화)   3785\n",
       "...               ...    ...\n",
       "218995  2019-12-31(화)  11500\n",
       "218996  2019-12-31(화)  17901\n",
       "218997  2019-12-31(화)  26981\n",
       "218998  2019-12-31(화)  29817\n",
       "218999  2019-12-31(화)  13772\n",
       "\n",
       "[219000 rows x 2 columns]"
      ]
     },
     "execution_count": 45,
     "metadata": {},
     "output_type": "execute_result"
    }
   ],
   "source": [
    "df3 = pd.read_csv(\"2019.csv\")\n",
    "df_y = df3.drop(columns=[\"시간\", \"지명\", \"발생량\", \"도착량\", \"월\"])\n",
    "df_y"
   ]
  },
  {
   "cell_type": "code",
   "execution_count": 46,
   "id": "36723f7d",
   "metadata": {},
   "outputs": [],
   "source": [
    "data, weeks = [], [\"월\", \"화\", \"수\", \"목\", \"금\", \"토\", \"일\"]\n",
    "for week in weeks:\n",
    "    data.append(df_y[df_y[\"날짜\"].str.contains(week)][\"count\"].sum())"
   ]
  },
  {
   "cell_type": "code",
   "execution_count": 47,
   "id": "4775e4d4",
   "metadata": {},
   "outputs": [
    {
     "data": {
      "text/html": [
       "<div>\n",
       "<style scoped>\n",
       "    .dataframe tbody tr th:only-of-type {\n",
       "        vertical-align: middle;\n",
       "    }\n",
       "\n",
       "    .dataframe tbody tr th {\n",
       "        vertical-align: top;\n",
       "    }\n",
       "\n",
       "    .dataframe thead th {\n",
       "        text-align: right;\n",
       "    }\n",
       "</style>\n",
       "<table border=\"1\" class=\"dataframe\">\n",
       "  <thead>\n",
       "    <tr style=\"text-align: right;\">\n",
       "      <th></th>\n",
       "      <th>요일</th>\n",
       "      <th>count</th>\n",
       "    </tr>\n",
       "  </thead>\n",
       "  <tbody>\n",
       "    <tr>\n",
       "      <th>0</th>\n",
       "      <td>월</td>\n",
       "      <td>1248519518</td>\n",
       "    </tr>\n",
       "    <tr>\n",
       "      <th>1</th>\n",
       "      <td>화</td>\n",
       "      <td>1295266170</td>\n",
       "    </tr>\n",
       "    <tr>\n",
       "      <th>2</th>\n",
       "      <td>수</td>\n",
       "      <td>1271578659</td>\n",
       "    </tr>\n",
       "    <tr>\n",
       "      <th>3</th>\n",
       "      <td>목</td>\n",
       "      <td>1261426762</td>\n",
       "    </tr>\n",
       "    <tr>\n",
       "      <th>4</th>\n",
       "      <td>금</td>\n",
       "      <td>1317295673</td>\n",
       "    </tr>\n",
       "    <tr>\n",
       "      <th>5</th>\n",
       "      <td>토</td>\n",
       "      <td>989868437</td>\n",
       "    </tr>\n",
       "    <tr>\n",
       "      <th>6</th>\n",
       "      <td>일</td>\n",
       "      <td>732363190</td>\n",
       "    </tr>\n",
       "  </tbody>\n",
       "</table>\n",
       "</div>"
      ],
      "text/plain": [
       "  요일       count\n",
       "0  월  1248519518\n",
       "1  화  1295266170\n",
       "2  수  1271578659\n",
       "3  목  1261426762\n",
       "4  금  1317295673\n",
       "5  토   989868437\n",
       "6  일   732363190"
      ]
     },
     "execution_count": 47,
     "metadata": {},
     "output_type": "execute_result"
    }
   ],
   "source": [
    "ytraffic_2019 = pd.DataFrame(data=data, index=weeks).reset_index()\n",
    "ytraffic_2019.columns = [\"요일\", \"count\"]\n",
    "ytraffic_2019"
   ]
  },
  {
   "cell_type": "code",
   "execution_count": 48,
   "id": "08795ae0",
   "metadata": {},
   "outputs": [
    {
     "data": {
      "text/html": [
       "<div>\n",
       "<style scoped>\n",
       "    .dataframe tbody tr th:only-of-type {\n",
       "        vertical-align: middle;\n",
       "    }\n",
       "\n",
       "    .dataframe tbody tr th {\n",
       "        vertical-align: top;\n",
       "    }\n",
       "\n",
       "    .dataframe thead th {\n",
       "        text-align: right;\n",
       "    }\n",
       "</style>\n",
       "<table border=\"1\" class=\"dataframe\">\n",
       "  <thead>\n",
       "    <tr style=\"text-align: right;\">\n",
       "      <th></th>\n",
       "      <th>날짜</th>\n",
       "      <th>count</th>\n",
       "    </tr>\n",
       "  </thead>\n",
       "  <tbody>\n",
       "    <tr>\n",
       "      <th>0</th>\n",
       "      <td>2020-01-01(수)</td>\n",
       "      <td>2873</td>\n",
       "    </tr>\n",
       "    <tr>\n",
       "      <th>1</th>\n",
       "      <td>2020-01-01(수)</td>\n",
       "      <td>3251</td>\n",
       "    </tr>\n",
       "    <tr>\n",
       "      <th>2</th>\n",
       "      <td>2020-01-01(수)</td>\n",
       "      <td>1877</td>\n",
       "    </tr>\n",
       "    <tr>\n",
       "      <th>3</th>\n",
       "      <td>2020-01-01(수)</td>\n",
       "      <td>3677</td>\n",
       "    </tr>\n",
       "    <tr>\n",
       "      <th>4</th>\n",
       "      <td>2020-01-01(수)</td>\n",
       "      <td>3077</td>\n",
       "    </tr>\n",
       "    <tr>\n",
       "      <th>...</th>\n",
       "      <td>...</td>\n",
       "      <td>...</td>\n",
       "    </tr>\n",
       "    <tr>\n",
       "      <th>219595</th>\n",
       "      <td>2020-12-31(목)</td>\n",
       "      <td>2483</td>\n",
       "    </tr>\n",
       "    <tr>\n",
       "      <th>219596</th>\n",
       "      <td>2020-12-31(목)</td>\n",
       "      <td>2779</td>\n",
       "    </tr>\n",
       "    <tr>\n",
       "      <th>219597</th>\n",
       "      <td>2020-12-31(목)</td>\n",
       "      <td>3203</td>\n",
       "    </tr>\n",
       "    <tr>\n",
       "      <th>219598</th>\n",
       "      <td>2020-12-31(목)</td>\n",
       "      <td>3305</td>\n",
       "    </tr>\n",
       "    <tr>\n",
       "      <th>219599</th>\n",
       "      <td>2020-12-31(목)</td>\n",
       "      <td>3142</td>\n",
       "    </tr>\n",
       "  </tbody>\n",
       "</table>\n",
       "<p>219600 rows × 2 columns</p>\n",
       "</div>"
      ],
      "text/plain": [
       "                   날짜  count\n",
       "0       2020-01-01(수)   2873\n",
       "1       2020-01-01(수)   3251\n",
       "2       2020-01-01(수)   1877\n",
       "3       2020-01-01(수)   3677\n",
       "4       2020-01-01(수)   3077\n",
       "...               ...    ...\n",
       "219595  2020-12-31(목)   2483\n",
       "219596  2020-12-31(목)   2779\n",
       "219597  2020-12-31(목)   3203\n",
       "219598  2020-12-31(목)   3305\n",
       "219599  2020-12-31(목)   3142\n",
       "\n",
       "[219600 rows x 2 columns]"
      ]
     },
     "execution_count": 48,
     "metadata": {},
     "output_type": "execute_result"
    }
   ],
   "source": [
    "df4 = pd.read_csv(\"2020.csv\")\n",
    "df_u = df4.drop(columns=[\"시간\", \"지명\", \"발생량\", \"도착량\", \"월\"])\n",
    "df_u"
   ]
  },
  {
   "cell_type": "code",
   "execution_count": 49,
   "id": "12aee123",
   "metadata": {},
   "outputs": [],
   "source": [
    "data, weeks = [], [\"월\", \"화\", \"수\", \"목\", \"금\", \"토\", \"일\"]\n",
    "for week in weeks:\n",
    "    data.append(df_u[df_u[\"날짜\"].str.contains(week)][\"count\"].sum())"
   ]
  },
  {
   "cell_type": "code",
   "execution_count": 50,
   "id": "ce487088",
   "metadata": {},
   "outputs": [
    {
     "data": {
      "text/html": [
       "<div>\n",
       "<style scoped>\n",
       "    .dataframe tbody tr th:only-of-type {\n",
       "        vertical-align: middle;\n",
       "    }\n",
       "\n",
       "    .dataframe tbody tr th {\n",
       "        vertical-align: top;\n",
       "    }\n",
       "\n",
       "    .dataframe thead th {\n",
       "        text-align: right;\n",
       "    }\n",
       "</style>\n",
       "<table border=\"1\" class=\"dataframe\">\n",
       "  <thead>\n",
       "    <tr style=\"text-align: right;\">\n",
       "      <th></th>\n",
       "      <th>요일</th>\n",
       "      <th>count</th>\n",
       "    </tr>\n",
       "  </thead>\n",
       "  <tbody>\n",
       "    <tr>\n",
       "      <th>0</th>\n",
       "      <td>월</td>\n",
       "      <td>958279301</td>\n",
       "    </tr>\n",
       "    <tr>\n",
       "      <th>1</th>\n",
       "      <td>화</td>\n",
       "      <td>978872517</td>\n",
       "    </tr>\n",
       "    <tr>\n",
       "      <th>2</th>\n",
       "      <td>수</td>\n",
       "      <td>986414298</td>\n",
       "    </tr>\n",
       "    <tr>\n",
       "      <th>3</th>\n",
       "      <td>목</td>\n",
       "      <td>989556461</td>\n",
       "    </tr>\n",
       "    <tr>\n",
       "      <th>4</th>\n",
       "      <td>금</td>\n",
       "      <td>974119077</td>\n",
       "    </tr>\n",
       "    <tr>\n",
       "      <th>5</th>\n",
       "      <td>토</td>\n",
       "      <td>649499462</td>\n",
       "    </tr>\n",
       "    <tr>\n",
       "      <th>6</th>\n",
       "      <td>일</td>\n",
       "      <td>463975271</td>\n",
       "    </tr>\n",
       "  </tbody>\n",
       "</table>\n",
       "</div>"
      ],
      "text/plain": [
       "  요일      count\n",
       "0  월  958279301\n",
       "1  화  978872517\n",
       "2  수  986414298\n",
       "3  목  989556461\n",
       "4  금  974119077\n",
       "5  토  649499462\n",
       "6  일  463975271"
      ]
     },
     "execution_count": 50,
     "metadata": {},
     "output_type": "execute_result"
    }
   ],
   "source": [
    "ytraffic_2020 = pd.DataFrame(data=data, index=weeks).reset_index()\n",
    "ytraffic_2020.columns = [\"요일\", \"count\"]\n",
    "ytraffic_2020"
   ]
  },
  {
   "cell_type": "markdown",
   "id": "5bc9a79f",
   "metadata": {},
   "source": [
    "## 3 요일별 대중교통 이용량 비교"
   ]
  },
  {
   "cell_type": "markdown",
   "id": "2c77028e",
   "metadata": {},
   "source": [
    "### 3.1.1주말 대중교통 이용량 비교(토,일)"
   ]
  },
  {
   "cell_type": "code",
   "execution_count": 51,
   "id": "6226f7a9",
   "metadata": {},
   "outputs": [
    {
     "data": {
      "text/plain": [
       "-35.34698146615792"
      ]
     },
     "execution_count": 51,
     "metadata": {},
     "output_type": "execute_result"
    }
   ],
   "source": [
    "(np.sum(ytraffic_2020[\"count\"][-2:]) - np.sum(ytraffic_2019[\"count\"][-2:]))\\\n",
    "/ np.sum(ytraffic_2019[\"count\"][-2:]) * 100"
   ]
  },
  {
   "cell_type": "code",
   "execution_count": 52,
   "id": "7e40946e",
   "metadata": {},
   "outputs": [
    {
     "data": {
      "image/png": "[encoded data removed]",
      "text/plain": [
       "<Figure size 432x288 with 1 Axes>"
      ]
     },
     "metadata": {
      "image/png": {
       "height": 268,
       "width": 376
      },
      "needs_background": "light"
     },
     "output_type": "display_data"
    }
   ],
   "source": [
    "plt.bar(\"2019주말\",np.sum(ytraffic_2019[\"count\"][-2:]))\n",
    "plt.bar(\"2020주말\",np.sum(ytraffic_2020[\"count\"][-2:]))\n",
    "\n",
    "a = np.sum(ytraffic_2019[\"count\"][-2:])\n",
    "b = np.sum(ytraffic_2020[\"count\"][-2:])\n",
    "plt.text(\"2019주말\",80*10000000, a, ha=\"center\", fontsize = 20)\n",
    "plt.text(\"2020주말\", 80*10000000, b, ha=\"center\", fontsize = 20)\n",
    "plt.title(\"rate : -35.35%\", fontsize = 20)\n",
    "plt.show()"
   ]
  },
  {
   "cell_type": "markdown",
   "id": "99546c13",
   "metadata": {},
   "source": [
    "### ok 3.1.2 주말 차량 통행량 비교(토,일) <<수정필요>>"
   ]
  },
  {
   "cell_type": "code",
   "execution_count": 53,
   "id": "662260f7",
   "metadata": {},
   "outputs": [],
   "source": [
    "dayofthweek_2019 = df_2019[\"총합\"].groupby([df_2019[\"요일\"],df_2019[\"year\"]]).sum().unstack(\"year\")\n",
    "dayofthweek_2020 = df_2020[\"총합\"].groupby([df_2020[\"요일\"],df_2020[\"year\"]]).sum().unstack(\"year\")"
   ]
  },
  {
   "cell_type": "code",
   "execution_count": 54,
   "id": "e34d2e1b",
   "metadata": {},
   "outputs": [],
   "source": [
    "week_2019 = np.sum(dayofthweek_2019[4:6].values)\n",
    "week_2020 = np.sum(dayofthweek_2020[4:6].values)"
   ]
  },
  {
   "cell_type": "code",
   "execution_count": 55,
   "id": "10e564dd",
   "metadata": {},
   "outputs": [
    {
     "data": {
      "text/plain": [
       "-10.268388193095756"
      ]
     },
     "execution_count": 55,
     "metadata": {},
     "output_type": "execute_result"
    }
   ],
   "source": [
    "((week_2020 - week_2019) / week_2019 ) * 100"
   ]
  },
  {
   "cell_type": "code",
   "execution_count": 56,
   "id": "950aaadd",
   "metadata": {},
   "outputs": [
    {
     "data": {
      "text/plain": [
       "-35.34698146615792"
      ]
     },
     "execution_count": 56,
     "metadata": {},
     "output_type": "execute_result"
    }
   ],
   "source": [
    "(np.sum(ytraffic_2020[\"count\"][-2:]) - np.sum(ytraffic_2019[\"count\"][-2:]))\\\n",
    "/ np.sum(ytraffic_2019[\"count\"][-2:]) * 100"
   ]
  },
  {
   "cell_type": "code",
   "execution_count": 57,
   "id": "8734a962",
   "metadata": {},
   "outputs": [
    {
     "data": {
      "image/png": "[encoded data removed]",
      "text/plain": [
       "<Figure size 432x288 with 1 Axes>"
      ]
     },
     "metadata": {
      "image/png": {
       "height": 268,
       "width": 371
      },
      "needs_background": "light"
     },
     "output_type": "display_data"
    }
   ],
   "source": [
    "X1 = [\"2019년\"]\n",
    "X2 = [\"2020년\"]\n",
    "\n",
    "y1 = week_2019\n",
    "y2 = week_2020\n",
    "\n",
    "plt.bar(X1, y1)\n",
    "plt.bar(X2, y2)\n",
    "plt.ylim([300000000, 120*10000000]) \n",
    "\n",
    "plt.text(X1, 60*10000000, week_2019, ha=\"center\", fontsize = 20)\n",
    "plt.text(X2, 60*10000000, week_2020, ha=\"center\" ,fontsize = 20)\n",
    "plt.title(\"rate : -10.27.%\", fontsize = 20)\n",
    "plt.show()\n",
    "\n",
    "\n",
    "plt.show()"
   ]
  },
  {
   "cell_type": "markdown",
   "id": "a27b3f9b",
   "metadata": {},
   "source": [
    "### 3.2.1 평일 대중교통 이용량 비교"
   ]
  },
  {
   "cell_type": "code",
   "execution_count": 58,
   "id": "0d742a55",
   "metadata": {},
   "outputs": [
    {
     "data": {
      "image/png": "[encoded data removed]",
      "text/plain": [
       "<Figure size 432x288 with 1 Axes>"
      ]
     },
     "metadata": {
      "image/png": {
       "height": 265,
       "width": 371
      },
      "needs_background": "light"
     },
     "output_type": "display_data"
    }
   ],
   "source": [
    "plt.bar(ytraffic_2019[\"요일\"][:-2], ytraffic_2019[\"count\"][:-2])\n",
    "plt.title(\"2019년 평일 요일별 교통량\", fontsize = 15)\n",
    "plt.show()"
   ]
  },
  {
   "cell_type": "code",
   "execution_count": 59,
   "id": "6c24a150",
   "metadata": {
    "scrolled": true
   },
   "outputs": [
    {
     "data": {
      "image/png": "[encoded data removed]",
      "text/plain": [
       "<Figure size 432x288 with 1 Axes>"
      ]
     },
     "metadata": {
      "image/png": {
       "height": 265,
       "width": 371
      },
      "needs_background": "light"
     },
     "output_type": "display_data"
    }
   ],
   "source": [
    "plt.bar(ytraffic_2020[\"요일\"][:-2], ytraffic_2020[\"count\"][:-2])\n",
    "plt.title(\"2020년 평일 요일별 교통량\", fontsize = 15)\n",
    "plt.show()"
   ]
  },
  {
   "cell_type": "code",
   "execution_count": 60,
   "id": "creative-outreach",
   "metadata": {},
   "outputs": [],
   "source": [
    "# 2019년, 2020년 평일 전체 대중교통량 비교"
   ]
  },
  {
   "cell_type": "code",
   "execution_count": 61,
   "id": "remarkable-bachelor",
   "metadata": {},
   "outputs": [
    {
     "data": {
      "text/plain": [
       "-23.56622891390716"
      ]
     },
     "execution_count": 61,
     "metadata": {},
     "output_type": "execute_result"
    }
   ],
   "source": [
    "(np.sum(ytraffic_2020[\"count\"][:-2]) - np.sum(ytraffic_2019[\"count\"][:-2]))\\\n",
    "/ np.sum(ytraffic_2019[\"count\"][:-2]) * 100"
   ]
  },
  {
   "cell_type": "code",
   "execution_count": 62,
   "id": "twelve-wonder",
   "metadata": {},
   "outputs": [
    {
     "data": {
      "text/plain": [
       "(6394086782, 4887241654)"
      ]
     },
     "execution_count": 62,
     "metadata": {},
     "output_type": "execute_result"
    }
   ],
   "source": [
    "y1 = sum(ytraffic_2019[\"count\"][:-2])\n",
    "y2 = sum(ytraffic_2020[\"count\"][:-2])\n",
    "y1, y2"
   ]
  },
  {
   "cell_type": "code",
   "execution_count": 63,
   "id": "original-saying",
   "metadata": {},
   "outputs": [
    {
     "data": {
      "image/png": "[encoded data removed]",
      "text/plain": [
       "<Figure size 432x288 with 1 Axes>"
      ]
     },
     "metadata": {
      "image/png": {
       "height": 268,
       "width": 361
      },
      "needs_background": "light"
     },
     "output_type": "display_data"
    }
   ],
   "source": [
    "plt.bar(\"2019년 평일 교통량\", y1)\n",
    "plt.bar(\"2020년 평일 교통량\", y2)\n",
    "\n",
    "a = np.sum(ytraffic_2019[\"count\"][:-2])\n",
    "b = np.sum(ytraffic_2020[\"count\"][:-2])\n",
    "plt.text(\"2019년 평일 교통량\",80*10000000, a, ha=\"center\", fontsize = 20)\n",
    "plt.text(\"2020년 평일 교통량\", 80*10000000, b, ha=\"center\", fontsize = 20)\n",
    "plt.title(\"-23.57%\", fontsize = 20)\n",
    "plt.show()"
   ]
  },
  {
   "cell_type": "markdown",
   "id": "cdd7d388",
   "metadata": {},
   "source": [
    "### 3.2.2 ok 평일 교통량 비교 <<수정필요>>"
   ]
  },
  {
   "cell_type": "code",
   "execution_count": 64,
   "id": "6a7f16a7",
   "metadata": {
    "scrolled": true
   },
   "outputs": [
    {
     "data": {
      "text/html": [
       "<div>\n",
       "<style scoped>\n",
       "    .dataframe tbody tr th:only-of-type {\n",
       "        vertical-align: middle;\n",
       "    }\n",
       "\n",
       "    .dataframe tbody tr th {\n",
       "        vertical-align: top;\n",
       "    }\n",
       "\n",
       "    .dataframe thead th {\n",
       "        text-align: right;\n",
       "    }\n",
       "</style>\n",
       "<table border=\"1\" class=\"dataframe\">\n",
       "  <thead>\n",
       "    <tr style=\"text-align: right;\">\n",
       "      <th>year</th>\n",
       "      <th>2020</th>\n",
       "    </tr>\n",
       "    <tr>\n",
       "      <th>요일</th>\n",
       "      <th></th>\n",
       "    </tr>\n",
       "  </thead>\n",
       "  <tbody>\n",
       "    <tr>\n",
       "      <th>금</th>\n",
       "      <td>495326562</td>\n",
       "    </tr>\n",
       "    <tr>\n",
       "      <th>목</th>\n",
       "      <td>498696678</td>\n",
       "    </tr>\n",
       "    <tr>\n",
       "      <th>수</th>\n",
       "      <td>493765368</td>\n",
       "    </tr>\n",
       "    <tr>\n",
       "      <th>월</th>\n",
       "      <td>475181608</td>\n",
       "    </tr>\n",
       "    <tr>\n",
       "      <th>일</th>\n",
       "      <td>375774867</td>\n",
       "    </tr>\n",
       "    <tr>\n",
       "      <th>토</th>\n",
       "      <td>454937964</td>\n",
       "    </tr>\n",
       "    <tr>\n",
       "      <th>화</th>\n",
       "      <td>486640237</td>\n",
       "    </tr>\n",
       "  </tbody>\n",
       "</table>\n",
       "</div>"
      ],
      "text/plain": [
       "year       2020\n",
       "요일             \n",
       "금     495326562\n",
       "목     498696678\n",
       "수     493765368\n",
       "월     475181608\n",
       "일     375774867\n",
       "토     454937964\n",
       "화     486640237"
      ]
     },
     "execution_count": 64,
     "metadata": {},
     "output_type": "execute_result"
    }
   ],
   "source": [
    "dayofthweek_2020"
   ]
  },
  {
   "cell_type": "code",
   "execution_count": 65,
   "id": "9ab6301b",
   "metadata": {},
   "outputs": [],
   "source": [
    "yy1 = (np.sum(dayofthweek_2019[0:4])+np.sum(dayofthweek_2019[-1:])).values\n",
    "yy2 = (np.sum(dayofthweek_2020[0:4])+np.sum(dayofthweek_2020[-1:])).values"
   ]
  },
  {
   "cell_type": "code",
   "execution_count": 66,
   "id": "edf6fbc2",
   "metadata": {},
   "outputs": [
    {
     "data": {
      "text/plain": [
       "array([-3.93589744])"
      ]
     },
     "execution_count": 66,
     "metadata": {},
     "output_type": "execute_result"
    }
   ],
   "source": [
    "((yy2 - yy1) / yy2 ) * 100"
   ]
  },
  {
   "cell_type": "code",
   "execution_count": 67,
   "id": "72beb7e6",
   "metadata": {},
   "outputs": [
    {
     "name": "stderr",
     "output_type": "stream",
     "text": [
      "/home/chaebeen/anaconda3/envs/dss/lib/python3.7/site-packages/matplotlib/text.py:1165: FutureWarning: elementwise comparison failed; returning scalar instead, but in the future will perform elementwise comparison\n",
      "  if s != self._text:\n"
     ]
    },
    {
     "data": {
      "image/png": "[encoded data removed]",
      "text/plain": [
       "<Figure size 432x288 with 1 Axes>"
      ]
     },
     "metadata": {
      "image/png": {
       "height": 268,
       "width": 371
      },
      "needs_background": "light"
     },
     "output_type": "display_data"
    }
   ],
   "source": [
    "plt.bar(\"2019년 평일 교통량\", yy1)\n",
    "plt.bar(\"2020년 평일 교통량\", yy2)\n",
    "\n",
    "yy1 = (np.sum(dayofthweek_2019[0:4])+np.sum(dayofthweek_2019[-1:])).values\n",
    "yy2 = (np.sum(dayofthweek_2020[0:4])+np.sum(dayofthweek_2020[-1:])).values\n",
    "plt.text(\"2019년 평일 교통량\", 50*10000000, yy1, ha=\"center\", fontsize = 13)\n",
    "plt.text(\"2020년 평일 교통량\", 50*10000000, yy2, ha=\"center\", fontsize = 13)\n",
    "plt.title(\"-3.94%\", fontsize = 20)\n",
    "plt.show()"
   ]
  },
  {
   "cell_type": "markdown",
   "id": "8d29b29b",
   "metadata": {},
   "source": [
    "## 4.지역별 비교"
   ]
  },
  {
   "cell_type": "markdown",
   "id": "553e9ad5",
   "metadata": {},
   "source": [
    "### 4.1지역별 대중교통량 비교"
   ]
  },
  {
   "cell_type": "code",
   "execution_count": 69,
   "id": "7050810b",
   "metadata": {},
   "outputs": [
    {
     "data": {
      "text/html": [
       "<div>\n",
       "<style scoped>\n",
       "    .dataframe tbody tr th:only-of-type {\n",
       "        vertical-align: middle;\n",
       "    }\n",
       "\n",
       "    .dataframe tbody tr th {\n",
       "        vertical-align: top;\n",
       "    }\n",
       "\n",
       "    .dataframe thead th {\n",
       "        text-align: right;\n",
       "    }\n",
       "</style>\n",
       "<table border=\"1\" class=\"dataframe\">\n",
       "  <thead>\n",
       "    <tr style=\"text-align: right;\">\n",
       "      <th>시간</th>\n",
       "      <th>0</th>\n",
       "      <th>1</th>\n",
       "      <th>2</th>\n",
       "      <th>3</th>\n",
       "      <th>4</th>\n",
       "      <th>5</th>\n",
       "      <th>6</th>\n",
       "      <th>7</th>\n",
       "      <th>8</th>\n",
       "      <th>9</th>\n",
       "      <th>...</th>\n",
       "      <th>16</th>\n",
       "      <th>17</th>\n",
       "      <th>18</th>\n",
       "      <th>19</th>\n",
       "      <th>20</th>\n",
       "      <th>21</th>\n",
       "      <th>22</th>\n",
       "      <th>23</th>\n",
       "      <th>total</th>\n",
       "      <th>region</th>\n",
       "    </tr>\n",
       "    <tr>\n",
       "      <th>지명</th>\n",
       "      <th></th>\n",
       "      <th></th>\n",
       "      <th></th>\n",
       "      <th></th>\n",
       "      <th></th>\n",
       "      <th></th>\n",
       "      <th></th>\n",
       "      <th></th>\n",
       "      <th></th>\n",
       "      <th></th>\n",
       "      <th></th>\n",
       "      <th></th>\n",
       "      <th></th>\n",
       "      <th></th>\n",
       "      <th></th>\n",
       "      <th></th>\n",
       "      <th></th>\n",
       "      <th></th>\n",
       "      <th></th>\n",
       "      <th></th>\n",
       "      <th></th>\n",
       "    </tr>\n",
       "  </thead>\n",
       "  <tbody>\n",
       "    <tr>\n",
       "      <th>중구</th>\n",
       "      <td>3518016</td>\n",
       "      <td>572340</td>\n",
       "      <td>239087</td>\n",
       "      <td>215153</td>\n",
       "      <td>501450</td>\n",
       "      <td>3155734</td>\n",
       "      <td>5716093</td>\n",
       "      <td>12502745</td>\n",
       "      <td>25150575</td>\n",
       "      <td>18739397</td>\n",
       "      <td>...</td>\n",
       "      <td>29865336</td>\n",
       "      <td>37557276</td>\n",
       "      <td>55470515</td>\n",
       "      <td>38990793</td>\n",
       "      <td>27587356</td>\n",
       "      <td>25132393</td>\n",
       "      <td>21287791</td>\n",
       "      <td>12756123</td>\n",
       "      <td>447485581</td>\n",
       "      <td>중구</td>\n",
       "    </tr>\n",
       "    <tr>\n",
       "      <th>중랑구</th>\n",
       "      <td>1429246</td>\n",
       "      <td>237634</td>\n",
       "      <td>75320</td>\n",
       "      <td>66496</td>\n",
       "      <td>865449</td>\n",
       "      <td>3163495</td>\n",
       "      <td>6457136</td>\n",
       "      <td>15182553</td>\n",
       "      <td>22283249</td>\n",
       "      <td>13902473</td>\n",
       "      <td>...</td>\n",
       "      <td>11444769</td>\n",
       "      <td>12500258</td>\n",
       "      <td>14244402</td>\n",
       "      <td>12439521</td>\n",
       "      <td>8442147</td>\n",
       "      <td>7587105</td>\n",
       "      <td>6741702</td>\n",
       "      <td>3980054</td>\n",
       "      <td>199074236</td>\n",
       "      <td>중랑구</td>\n",
       "    </tr>\n",
       "  </tbody>\n",
       "</table>\n",
       "<p>2 rows × 26 columns</p>\n",
       "</div>"
      ],
      "text/plain": [
       "시간         0       1       2       3       4        5        6         7  \\\n",
       "지명                                                                         \n",
       "중구   3518016  572340  239087  215153  501450  3155734  5716093  12502745   \n",
       "중랑구  1429246  237634   75320   66496  865449  3163495  6457136  15182553   \n",
       "\n",
       "시간          8         9  ...        16        17        18        19  \\\n",
       "지명                       ...                                           \n",
       "중구   25150575  18739397  ...  29865336  37557276  55470515  38990793   \n",
       "중랑구  22283249  13902473  ...  11444769  12500258  14244402  12439521   \n",
       "\n",
       "시간         20        21        22        23      total  region  \n",
       "지명                                                              \n",
       "중구   27587356  25132393  21287791  12756123  447485581      중구  \n",
       "중랑구   8442147   7587105   6741702   3980054  199074236     중랑구  \n",
       "\n",
       "[2 rows x 26 columns]"
      ]
     },
     "execution_count": 69,
     "metadata": {},
     "output_type": "execute_result"
    }
   ],
   "source": [
    "traffic_r_2019.loc[:,'region'] = ['강남구', '강동구', '강북구', '강서구', '관악구', '광진구', '구로구', '금천구', \\\n",
    "                                  '노원구', '도봉구', '동대문구', '동작구', '마포구', '서대문구', '서초구', '성동구', \\\n",
    "                                 '성북구', '송파구', '양천구', '영등포구', '용산구', '은평구', '종로구', '중구', '중랑구' ]\n",
    "\n",
    "traffic_r_2019.tail(2)"
   ]
  },
  {
   "cell_type": "code",
   "execution_count": 70,
   "id": "7aad8d3c",
   "metadata": {},
   "outputs": [
    {
     "data": {
      "text/plain": [
       "324652736.36"
      ]
     },
     "execution_count": 70,
     "metadata": {},
     "output_type": "execute_result"
    }
   ],
   "source": [
    "traffic_r_2019['total'].mean()"
   ]
  },
  {
   "cell_type": "code",
   "execution_count": 71,
   "id": "bcd897ac",
   "metadata": {},
   "outputs": [
    {
     "name": "stdout",
     "output_type": "stream",
     "text": [
      "2019년 평균 통행량 : 324652736 대\n"
     ]
    }
   ],
   "source": [
    "traffic_r_2019_a = round(traffic_r_2019['total'].mean())\n",
    "print(\"2019년 평균 통행량 :\", traffic_r_2019_a,\"대\")"
   ]
  },
  {
   "cell_type": "code",
   "execution_count": 72,
   "id": "a0d3522b",
   "metadata": {},
   "outputs": [
    {
     "name": "stderr",
     "output_type": "stream",
     "text": [
      "/home/chaebeen/anaconda3/envs/dss/lib/python3.7/site-packages/ipykernel_launcher.py:1: FutureWarning: Automatic reindexing on DataFrame vs Series comparisons is deprecated and will raise ValueError in a future version.  Do `left, right = left.align(right, axis=1, copy=False)` before e.g. `left == right`\n",
      "  \"\"\"Entry point for launching an IPython kernel.\n"
     ]
    },
    {
     "data": {
      "text/html": [
       "<div>\n",
       "<style scoped>\n",
       "    .dataframe tbody tr th:only-of-type {\n",
       "        vertical-align: middle;\n",
       "    }\n",
       "\n",
       "    .dataframe tbody tr th {\n",
       "        vertical-align: top;\n",
       "    }\n",
       "\n",
       "    .dataframe thead th {\n",
       "        text-align: right;\n",
       "    }\n",
       "</style>\n",
       "<table border=\"1\" class=\"dataframe\">\n",
       "  <thead>\n",
       "    <tr style=\"text-align: right;\">\n",
       "      <th></th>\n",
       "      <th>total</th>\n",
       "    </tr>\n",
       "    <tr>\n",
       "      <th>지명</th>\n",
       "      <th></th>\n",
       "    </tr>\n",
       "  </thead>\n",
       "  <tbody>\n",
       "    <tr>\n",
       "      <th>강남구</th>\n",
       "      <td>737727211.0</td>\n",
       "    </tr>\n",
       "    <tr>\n",
       "      <th>강동구</th>\n",
       "      <td>NaN</td>\n",
       "    </tr>\n",
       "    <tr>\n",
       "      <th>강북구</th>\n",
       "      <td>NaN</td>\n",
       "    </tr>\n",
       "    <tr>\n",
       "      <th>강서구</th>\n",
       "      <td>345163358.0</td>\n",
       "    </tr>\n",
       "    <tr>\n",
       "      <th>관악구</th>\n",
       "      <td>379996454.0</td>\n",
       "    </tr>\n",
       "    <tr>\n",
       "      <th>광진구</th>\n",
       "      <td>NaN</td>\n",
       "    </tr>\n",
       "    <tr>\n",
       "      <th>구로구</th>\n",
       "      <td>377044464.0</td>\n",
       "    </tr>\n",
       "    <tr>\n",
       "      <th>금천구</th>\n",
       "      <td>NaN</td>\n",
       "    </tr>\n",
       "    <tr>\n",
       "      <th>노원구</th>\n",
       "      <td>NaN</td>\n",
       "    </tr>\n",
       "    <tr>\n",
       "      <th>도봉구</th>\n",
       "      <td>NaN</td>\n",
       "    </tr>\n",
       "    <tr>\n",
       "      <th>동대문구</th>\n",
       "      <td>NaN</td>\n",
       "    </tr>\n",
       "    <tr>\n",
       "      <th>동작구</th>\n",
       "      <td>NaN</td>\n",
       "    </tr>\n",
       "    <tr>\n",
       "      <th>마포구</th>\n",
       "      <td>408143716.0</td>\n",
       "    </tr>\n",
       "    <tr>\n",
       "      <th>서대문구</th>\n",
       "      <td>NaN</td>\n",
       "    </tr>\n",
       "    <tr>\n",
       "      <th>서초구</th>\n",
       "      <td>508376369.0</td>\n",
       "    </tr>\n",
       "    <tr>\n",
       "      <th>성동구</th>\n",
       "      <td>NaN</td>\n",
       "    </tr>\n",
       "    <tr>\n",
       "      <th>성북구</th>\n",
       "      <td>NaN</td>\n",
       "    </tr>\n",
       "    <tr>\n",
       "      <th>송파구</th>\n",
       "      <td>475428128.0</td>\n",
       "    </tr>\n",
       "    <tr>\n",
       "      <th>양천구</th>\n",
       "      <td>NaN</td>\n",
       "    </tr>\n",
       "    <tr>\n",
       "      <th>영등포구</th>\n",
       "      <td>411573195.0</td>\n",
       "    </tr>\n",
       "    <tr>\n",
       "      <th>용산구</th>\n",
       "      <td>NaN</td>\n",
       "    </tr>\n",
       "    <tr>\n",
       "      <th>은평구</th>\n",
       "      <td>NaN</td>\n",
       "    </tr>\n",
       "    <tr>\n",
       "      <th>종로구</th>\n",
       "      <td>410146010.0</td>\n",
       "    </tr>\n",
       "    <tr>\n",
       "      <th>중구</th>\n",
       "      <td>447485581.0</td>\n",
       "    </tr>\n",
       "    <tr>\n",
       "      <th>중랑구</th>\n",
       "      <td>NaN</td>\n",
       "    </tr>\n",
       "  </tbody>\n",
       "</table>\n",
       "</div>"
      ],
      "text/plain": [
       "            total\n",
       "지명               \n",
       "강남구   737727211.0\n",
       "강동구           NaN\n",
       "강북구           NaN\n",
       "강서구   345163358.0\n",
       "관악구   379996454.0\n",
       "광진구           NaN\n",
       "구로구   377044464.0\n",
       "금천구           NaN\n",
       "노원구           NaN\n",
       "도봉구           NaN\n",
       "동대문구          NaN\n",
       "동작구           NaN\n",
       "마포구   408143716.0\n",
       "서대문구          NaN\n",
       "서초구   508376369.0\n",
       "성동구           NaN\n",
       "성북구           NaN\n",
       "송파구   475428128.0\n",
       "양천구           NaN\n",
       "영등포구  411573195.0\n",
       "용산구           NaN\n",
       "은평구           NaN\n",
       "종로구   410146010.0\n",
       "중구    447485581.0\n",
       "중랑구           NaN"
      ]
     },
     "execution_count": 72,
     "metadata": {},
     "output_type": "execute_result"
    }
   ],
   "source": [
    "aa = traffic_r_2019[traffic_r_2019 > traffic_r_2019.mean()]\n",
    "aaa = pd.DataFrame(aa, columns=[\"total\"])\n",
    "aaa"
   ]
  },
  {
   "cell_type": "code",
   "execution_count": 73,
   "id": "6dab4f1a",
   "metadata": {},
   "outputs": [
    {
     "data": {
      "text/html": [
       "<div>\n",
       "<style scoped>\n",
       "    .dataframe tbody tr th:only-of-type {\n",
       "        vertical-align: middle;\n",
       "    }\n",
       "\n",
       "    .dataframe tbody tr th {\n",
       "        vertical-align: top;\n",
       "    }\n",
       "\n",
       "    .dataframe thead th {\n",
       "        text-align: right;\n",
       "    }\n",
       "</style>\n",
       "<table border=\"1\" class=\"dataframe\">\n",
       "  <thead>\n",
       "    <tr style=\"text-align: right;\">\n",
       "      <th>시간</th>\n",
       "      <th>0</th>\n",
       "      <th>1</th>\n",
       "      <th>2</th>\n",
       "      <th>3</th>\n",
       "      <th>4</th>\n",
       "      <th>5</th>\n",
       "      <th>6</th>\n",
       "      <th>7</th>\n",
       "      <th>8</th>\n",
       "      <th>9</th>\n",
       "      <th>...</th>\n",
       "      <th>16</th>\n",
       "      <th>17</th>\n",
       "      <th>18</th>\n",
       "      <th>19</th>\n",
       "      <th>20</th>\n",
       "      <th>21</th>\n",
       "      <th>22</th>\n",
       "      <th>23</th>\n",
       "      <th>total</th>\n",
       "      <th>region</th>\n",
       "    </tr>\n",
       "    <tr>\n",
       "      <th>지명</th>\n",
       "      <th></th>\n",
       "      <th></th>\n",
       "      <th></th>\n",
       "      <th></th>\n",
       "      <th></th>\n",
       "      <th></th>\n",
       "      <th></th>\n",
       "      <th></th>\n",
       "      <th></th>\n",
       "      <th></th>\n",
       "      <th></th>\n",
       "      <th></th>\n",
       "      <th></th>\n",
       "      <th></th>\n",
       "      <th></th>\n",
       "      <th></th>\n",
       "      <th></th>\n",
       "      <th></th>\n",
       "      <th></th>\n",
       "      <th></th>\n",
       "      <th></th>\n",
       "    </tr>\n",
       "  </thead>\n",
       "  <tbody>\n",
       "    <tr>\n",
       "      <th>중구</th>\n",
       "      <td>1030686</td>\n",
       "      <td>267406</td>\n",
       "      <td>125901</td>\n",
       "      <td>144638</td>\n",
       "      <td>524518</td>\n",
       "      <td>2845992</td>\n",
       "      <td>6134273</td>\n",
       "      <td>15971819</td>\n",
       "      <td>33999864</td>\n",
       "      <td>20472449</td>\n",
       "      <td>...</td>\n",
       "      <td>17012446</td>\n",
       "      <td>23538009</td>\n",
       "      <td>33093127</td>\n",
       "      <td>18656846</td>\n",
       "      <td>13260295</td>\n",
       "      <td>11477169</td>\n",
       "      <td>8628758</td>\n",
       "      <td>4649330</td>\n",
       "      <td>295154710</td>\n",
       "      <td>중구</td>\n",
       "    </tr>\n",
       "    <tr>\n",
       "      <th>중랑구</th>\n",
       "      <td>999460</td>\n",
       "      <td>179205</td>\n",
       "      <td>71499</td>\n",
       "      <td>63145</td>\n",
       "      <td>722886</td>\n",
       "      <td>2550547</td>\n",
       "      <td>4890796</td>\n",
       "      <td>10808463</td>\n",
       "      <td>14961209</td>\n",
       "      <td>8788647</td>\n",
       "      <td>...</td>\n",
       "      <td>8997200</td>\n",
       "      <td>10484633</td>\n",
       "      <td>13326202</td>\n",
       "      <td>11698006</td>\n",
       "      <td>7464722</td>\n",
       "      <td>6621289</td>\n",
       "      <td>5495151</td>\n",
       "      <td>3253670</td>\n",
       "      <td>153829883</td>\n",
       "      <td>중랑구</td>\n",
       "    </tr>\n",
       "  </tbody>\n",
       "</table>\n",
       "<p>2 rows × 26 columns</p>\n",
       "</div>"
      ],
      "text/plain": [
       "시간         0       1       2       3       4        5        6         7  \\\n",
       "지명                                                                         \n",
       "중구   1030686  267406  125901  144638  524518  2845992  6134273  15971819   \n",
       "중랑구   999460  179205   71499   63145  722886  2550547  4890796  10808463   \n",
       "\n",
       "시간          8         9  ...        16        17        18        19  \\\n",
       "지명                       ...                                           \n",
       "중구   33999864  20472449  ...  17012446  23538009  33093127  18656846   \n",
       "중랑구  14961209   8788647  ...   8997200  10484633  13326202  11698006   \n",
       "\n",
       "시간         20        21       22       23      total  region  \n",
       "지명                                                            \n",
       "중구   13260295  11477169  8628758  4649330  295154710      중구  \n",
       "중랑구   7464722   6621289  5495151  3253670  153829883     중랑구  \n",
       "\n",
       "[2 rows x 26 columns]"
      ]
     },
     "execution_count": 73,
     "metadata": {},
     "output_type": "execute_result"
    }
   ],
   "source": [
    "traffic_r_2020.loc[:,'region'] = ['강남구', '강동구', '강북구', '강서구', '관악구', '광진구', '구로구', '금천구', \\\n",
    "                                   '노원구', '도봉구', '동대문구', '동작구', '마포구', '서대문구', '서초구', '성동구', \\\n",
    "                                 '성북구', '송파구', '양천구', '영등포구', '용산구', '은평구', '종로구', '중구', '중랑구' ]\n",
    "\n",
    "traffic_r_2020.tail(2)"
   ]
  },
  {
   "cell_type": "code",
   "execution_count": 74,
   "id": "054adaaf",
   "metadata": {},
   "outputs": [
    {
     "data": {
      "text/plain": [
       "240028655.48"
      ]
     },
     "execution_count": 74,
     "metadata": {},
     "output_type": "execute_result"
    }
   ],
   "source": [
    "traffic_r_2020['total'].mean()"
   ]
  },
  {
   "cell_type": "code",
   "execution_count": 75,
   "id": "d538ade0",
   "metadata": {},
   "outputs": [
    {
     "name": "stdout",
     "output_type": "stream",
     "text": [
      "2020년 평균 통행량 : 240028655 대\n"
     ]
    }
   ],
   "source": [
    "traffic_r_2020_a = round(traffic_r_2020['total'].mean())\n",
    "print(\"2020년 평균 통행량 :\", traffic_r_2020_a,\"대\")"
   ]
  },
  {
   "cell_type": "code",
   "execution_count": 76,
   "id": "236ed5a6",
   "metadata": {},
   "outputs": [
    {
     "name": "stderr",
     "output_type": "stream",
     "text": [
      "/home/chaebeen/anaconda3/envs/dss/lib/python3.7/site-packages/ipykernel_launcher.py:1: FutureWarning: Automatic reindexing on DataFrame vs Series comparisons is deprecated and will raise ValueError in a future version.  Do `left, right = left.align(right, axis=1, copy=False)` before e.g. `left == right`\n",
      "  \"\"\"Entry point for launching an IPython kernel.\n"
     ]
    },
    {
     "data": {
      "text/html": [
       "<div>\n",
       "<style scoped>\n",
       "    .dataframe tbody tr th:only-of-type {\n",
       "        vertical-align: middle;\n",
       "    }\n",
       "\n",
       "    .dataframe tbody tr th {\n",
       "        vertical-align: top;\n",
       "    }\n",
       "\n",
       "    .dataframe thead th {\n",
       "        text-align: right;\n",
       "    }\n",
       "</style>\n",
       "<table border=\"1\" class=\"dataframe\">\n",
       "  <thead>\n",
       "    <tr style=\"text-align: right;\">\n",
       "      <th></th>\n",
       "      <th>total</th>\n",
       "    </tr>\n",
       "    <tr>\n",
       "      <th>지명</th>\n",
       "      <th></th>\n",
       "    </tr>\n",
       "  </thead>\n",
       "  <tbody>\n",
       "    <tr>\n",
       "      <th>강남구</th>\n",
       "      <td>567110115.0</td>\n",
       "    </tr>\n",
       "    <tr>\n",
       "      <th>강동구</th>\n",
       "      <td>NaN</td>\n",
       "    </tr>\n",
       "    <tr>\n",
       "      <th>강북구</th>\n",
       "      <td>NaN</td>\n",
       "    </tr>\n",
       "    <tr>\n",
       "      <th>강서구</th>\n",
       "      <td>260342153.0</td>\n",
       "    </tr>\n",
       "    <tr>\n",
       "      <th>관악구</th>\n",
       "      <td>289329188.0</td>\n",
       "    </tr>\n",
       "    <tr>\n",
       "      <th>광진구</th>\n",
       "      <td>NaN</td>\n",
       "    </tr>\n",
       "    <tr>\n",
       "      <th>구로구</th>\n",
       "      <td>283206229.0</td>\n",
       "    </tr>\n",
       "    <tr>\n",
       "      <th>금천구</th>\n",
       "      <td>NaN</td>\n",
       "    </tr>\n",
       "    <tr>\n",
       "      <th>노원구</th>\n",
       "      <td>NaN</td>\n",
       "    </tr>\n",
       "    <tr>\n",
       "      <th>도봉구</th>\n",
       "      <td>NaN</td>\n",
       "    </tr>\n",
       "    <tr>\n",
       "      <th>동대문구</th>\n",
       "      <td>NaN</td>\n",
       "    </tr>\n",
       "    <tr>\n",
       "      <th>동작구</th>\n",
       "      <td>NaN</td>\n",
       "    </tr>\n",
       "    <tr>\n",
       "      <th>마포구</th>\n",
       "      <td>290281580.0</td>\n",
       "    </tr>\n",
       "    <tr>\n",
       "      <th>서대문구</th>\n",
       "      <td>NaN</td>\n",
       "    </tr>\n",
       "    <tr>\n",
       "      <th>서초구</th>\n",
       "      <td>368079647.0</td>\n",
       "    </tr>\n",
       "    <tr>\n",
       "      <th>성동구</th>\n",
       "      <td>NaN</td>\n",
       "    </tr>\n",
       "    <tr>\n",
       "      <th>성북구</th>\n",
       "      <td>NaN</td>\n",
       "    </tr>\n",
       "    <tr>\n",
       "      <th>송파구</th>\n",
       "      <td>351362444.0</td>\n",
       "    </tr>\n",
       "    <tr>\n",
       "      <th>양천구</th>\n",
       "      <td>NaN</td>\n",
       "    </tr>\n",
       "    <tr>\n",
       "      <th>영등포구</th>\n",
       "      <td>311535742.0</td>\n",
       "    </tr>\n",
       "    <tr>\n",
       "      <th>용산구</th>\n",
       "      <td>NaN</td>\n",
       "    </tr>\n",
       "    <tr>\n",
       "      <th>은평구</th>\n",
       "      <td>NaN</td>\n",
       "    </tr>\n",
       "    <tr>\n",
       "      <th>종로구</th>\n",
       "      <td>280859306.0</td>\n",
       "    </tr>\n",
       "    <tr>\n",
       "      <th>중구</th>\n",
       "      <td>295154710.0</td>\n",
       "    </tr>\n",
       "    <tr>\n",
       "      <th>중랑구</th>\n",
       "      <td>NaN</td>\n",
       "    </tr>\n",
       "  </tbody>\n",
       "</table>\n",
       "</div>"
      ],
      "text/plain": [
       "            total\n",
       "지명               \n",
       "강남구   567110115.0\n",
       "강동구           NaN\n",
       "강북구           NaN\n",
       "강서구   260342153.0\n",
       "관악구   289329188.0\n",
       "광진구           NaN\n",
       "구로구   283206229.0\n",
       "금천구           NaN\n",
       "노원구           NaN\n",
       "도봉구           NaN\n",
       "동대문구          NaN\n",
       "동작구           NaN\n",
       "마포구   290281580.0\n",
       "서대문구          NaN\n",
       "서초구   368079647.0\n",
       "성동구           NaN\n",
       "성북구           NaN\n",
       "송파구   351362444.0\n",
       "양천구           NaN\n",
       "영등포구  311535742.0\n",
       "용산구           NaN\n",
       "은평구           NaN\n",
       "종로구   280859306.0\n",
       "중구    295154710.0\n",
       "중랑구           NaN"
      ]
     },
     "execution_count": 76,
     "metadata": {},
     "output_type": "execute_result"
    }
   ],
   "source": [
    "bb = traffic_r_2020[traffic_r_2020 > traffic_r_2020.mean()]\n",
    "bbb = pd.DataFrame(bb, columns=[\"total\"])\n",
    "bbb"
   ]
  },
  {
   "cell_type": "code",
   "execution_count": 77,
   "id": "82aca5a1",
   "metadata": {},
   "outputs": [
    {
     "name": "stderr",
     "output_type": "stream",
     "text": [
      "No handles with labels found to put in legend.\n"
     ]
    },
    {
     "data": {
      "image/png": "[encoded data removed]",
      "text/plain": [
       "<Figure size 1440x360 with 1 Axes>"
      ]
     },
     "metadata": {
      "image/png": {
       "height": 313,
       "width": 1142
      },
      "needs_background": "light"
     },
     "output_type": "display_data"
    }
   ],
   "source": [
    "plt.figure(figsize=(20, 5))\n",
    "\n",
    "X = ['강남구', '강동구', '강북구', '강서구', '관악구', '광진구', '구로구', '금천구', \\\n",
    "    '노원구', '도봉구', '동대문구', '동작구', '마포구', '서대문구', '서초구', '성동구', \\\n",
    "    '성북구', '송파구', '양천구', '영등포구', '용산구', '은평구', '종로구', '중구', '중랑구' ]\n",
    "\n",
    "plt.bar(X, traffic_r_2019[\"total\"])\n",
    "plt.bar(X, traffic_r_2020[\"total\"])\n",
    "\n",
    "\n",
    "#plt.bar(traffic_r_2019[\"region\"], traffic_r_2019[\"total\"])\n",
    "#plt.bar(traffic_r_2020[\"region\"], traffic_r_2020[\"total\"])\n",
    "plt.legend()\n",
    "plt.axhline(y=traffic_r_2019['total'].mean(), color='g', linewidth=1) #label=\"2019\")\n",
    "plt.axhline(y=traffic_r_2020['total'].mean(), color='r', linewidth=1) #label=\"2020\")\n",
    "\n",
    "\n",
    "plt.show()"
   ]
  },
  {
   "cell_type": "code",
   "execution_count": 78,
   "id": "51f9f0aa",
   "metadata": {},
   "outputs": [],
   "source": [
    "#4.2 지역별 차량 교통량 비교"
   ]
  },
  {
   "cell_type": "code",
   "execution_count": 79,
   "id": "korean-proof",
   "metadata": {},
   "outputs": [],
   "source": [
    "ddf_2019 = traffic_2019"
   ]
  },
  {
   "cell_type": "code",
   "execution_count": 80,
   "id": "employed-tiffany",
   "metadata": {},
   "outputs": [
    {
     "data": {
      "text/html": [
       "<div>\n",
       "<style scoped>\n",
       "    .dataframe tbody tr th:only-of-type {\n",
       "        vertical-align: middle;\n",
       "    }\n",
       "\n",
       "    .dataframe tbody tr th {\n",
       "        vertical-align: top;\n",
       "    }\n",
       "\n",
       "    .dataframe thead th {\n",
       "        text-align: right;\n",
       "    }\n",
       "</style>\n",
       "<table border=\"1\" class=\"dataframe\">\n",
       "  <thead>\n",
       "    <tr style=\"text-align: right;\">\n",
       "      <th></th>\n",
       "      <th>구</th>\n",
       "      <th>총합</th>\n",
       "    </tr>\n",
       "  </thead>\n",
       "  <tbody>\n",
       "    <tr>\n",
       "      <th>27</th>\n",
       "      <td>금천구</td>\n",
       "      <td>27050329</td>\n",
       "    </tr>\n",
       "    <tr>\n",
       "      <th>28</th>\n",
       "      <td>동대문구</td>\n",
       "      <td>51638629</td>\n",
       "    </tr>\n",
       "    <tr>\n",
       "      <th>29</th>\n",
       "      <td>서대문구</td>\n",
       "      <td>90434112</td>\n",
       "    </tr>\n",
       "    <tr>\n",
       "      <th>30</th>\n",
       "      <td>영등포구</td>\n",
       "      <td>258662532</td>\n",
       "    </tr>\n",
       "    <tr>\n",
       "      <th>31</th>\n",
       "      <td>중구</td>\n",
       "      <td>164525130</td>\n",
       "    </tr>\n",
       "  </tbody>\n",
       "</table>\n",
       "</div>"
      ],
      "text/plain": [
       "       구         총합\n",
       "27   금천구   27050329\n",
       "28  동대문구   51638629\n",
       "29  서대문구   90434112\n",
       "30  영등포구  258662532\n",
       "31    중구  164525130"
      ]
     },
     "execution_count": 80,
     "metadata": {},
     "output_type": "execute_result"
    }
   ],
   "source": [
    "ddf_2019 = ddf_2019.pivot_table(\"총합\",\"구\",aggfunc=np.sum)\n",
    "ddf_2019 = ddf_2019.reset_index()\n",
    "ddf_2019.tail()"
   ]
  },
  {
   "cell_type": "code",
   "execution_count": 81,
   "id": "blessed-single",
   "metadata": {},
   "outputs": [
    {
     "name": "stdout",
     "output_type": "stream",
     "text": [
      "2019년 평균 통행량 : 108493738 대\n"
     ]
    }
   ],
   "source": [
    "gein_tans_2019 = round(ddf_2019[\"총합\"].mean())\n",
    "print(\"2019년 평균 통행량 :\", gein_tans_2019,\"대\")"
   ]
  },
  {
   "cell_type": "code",
   "execution_count": 82,
   "id": "cathedral-picture",
   "metadata": {},
   "outputs": [
    {
     "data": {
      "text/html": [
       "<div>\n",
       "<style scoped>\n",
       "    .dataframe tbody tr th:only-of-type {\n",
       "        vertical-align: middle;\n",
       "    }\n",
       "\n",
       "    .dataframe tbody tr th {\n",
       "        vertical-align: top;\n",
       "    }\n",
       "\n",
       "    .dataframe thead th {\n",
       "        text-align: right;\n",
       "    }\n",
       "</style>\n",
       "<table border=\"1\" class=\"dataframe\">\n",
       "  <thead>\n",
       "    <tr style=\"text-align: right;\">\n",
       "      <th></th>\n",
       "      <th>구</th>\n",
       "      <th>총합</th>\n",
       "    </tr>\n",
       "  </thead>\n",
       "  <tbody>\n",
       "    <tr>\n",
       "      <th>0</th>\n",
       "      <td>강남구</td>\n",
       "      <td>324045199</td>\n",
       "    </tr>\n",
       "    <tr>\n",
       "      <th>2</th>\n",
       "      <td>강서구</td>\n",
       "      <td>128036025</td>\n",
       "    </tr>\n",
       "    <tr>\n",
       "      <th>11</th>\n",
       "      <td>노원구</td>\n",
       "      <td>130213251</td>\n",
       "    </tr>\n",
       "    <tr>\n",
       "      <th>13</th>\n",
       "      <td>동작구</td>\n",
       "      <td>114474299</td>\n",
       "    </tr>\n",
       "    <tr>\n",
       "      <th>14</th>\n",
       "      <td>마포구</td>\n",
       "      <td>223305329</td>\n",
       "    </tr>\n",
       "    <tr>\n",
       "      <th>16</th>\n",
       "      <td>서초구</td>\n",
       "      <td>341425467</td>\n",
       "    </tr>\n",
       "    <tr>\n",
       "      <th>17</th>\n",
       "      <td>성동구</td>\n",
       "      <td>135300187</td>\n",
       "    </tr>\n",
       "    <tr>\n",
       "      <th>18</th>\n",
       "      <td>성북구</td>\n",
       "      <td>141905753</td>\n",
       "    </tr>\n",
       "    <tr>\n",
       "      <th>19</th>\n",
       "      <td>송파구</td>\n",
       "      <td>184148545</td>\n",
       "    </tr>\n",
       "    <tr>\n",
       "      <th>20</th>\n",
       "      <td>양천구</td>\n",
       "      <td>121845149</td>\n",
       "    </tr>\n",
       "    <tr>\n",
       "      <th>21</th>\n",
       "      <td>용산구</td>\n",
       "      <td>212742829</td>\n",
       "    </tr>\n",
       "    <tr>\n",
       "      <th>23</th>\n",
       "      <td>종로구</td>\n",
       "      <td>158205040</td>\n",
       "    </tr>\n",
       "    <tr>\n",
       "      <th>30</th>\n",
       "      <td>영등포구</td>\n",
       "      <td>258662532</td>\n",
       "    </tr>\n",
       "    <tr>\n",
       "      <th>31</th>\n",
       "      <td>중구</td>\n",
       "      <td>164525130</td>\n",
       "    </tr>\n",
       "  </tbody>\n",
       "</table>\n",
       "</div>"
      ],
      "text/plain": [
       "       구         총합\n",
       "0    강남구  324045199\n",
       "2    강서구  128036025\n",
       "11   노원구  130213251\n",
       "13   동작구  114474299\n",
       "14   마포구  223305329\n",
       "16   서초구  341425467\n",
       "17   성동구  135300187\n",
       "18   성북구  141905753\n",
       "19   송파구  184148545\n",
       "20   양천구  121845149\n",
       "21   용산구  212742829\n",
       "23   종로구  158205040\n",
       "30  영등포구  258662532\n",
       "31    중구  164525130"
      ]
     },
     "execution_count": 82,
     "metadata": {},
     "output_type": "execute_result"
    }
   ],
   "source": [
    "ddff_2019 = ddf_2019[ddf_2019[\"총합\"] > ddf_2019[\"총합\"].mean()]\n",
    "ddff_2019"
   ]
  },
  {
   "cell_type": "code",
   "execution_count": 83,
   "id": "contained-abraham",
   "metadata": {},
   "outputs": [],
   "source": [
    "ddf_2020 = traffic_2020"
   ]
  },
  {
   "cell_type": "code",
   "execution_count": 84,
   "id": "engaging-chinese",
   "metadata": {},
   "outputs": [
    {
     "data": {
      "text/html": [
       "<div>\n",
       "<style scoped>\n",
       "    .dataframe tbody tr th:only-of-type {\n",
       "        vertical-align: middle;\n",
       "    }\n",
       "\n",
       "    .dataframe tbody tr th {\n",
       "        vertical-align: top;\n",
       "    }\n",
       "\n",
       "    .dataframe thead th {\n",
       "        text-align: right;\n",
       "    }\n",
       "</style>\n",
       "<table border=\"1\" class=\"dataframe\">\n",
       "  <thead>\n",
       "    <tr style=\"text-align: right;\">\n",
       "      <th></th>\n",
       "      <th>구</th>\n",
       "      <th>총합</th>\n",
       "    </tr>\n",
       "  </thead>\n",
       "  <tbody>\n",
       "    <tr>\n",
       "      <th>27</th>\n",
       "      <td>금천구</td>\n",
       "      <td>28356169</td>\n",
       "    </tr>\n",
       "    <tr>\n",
       "      <th>28</th>\n",
       "      <td>동대문구</td>\n",
       "      <td>49919679</td>\n",
       "    </tr>\n",
       "    <tr>\n",
       "      <th>29</th>\n",
       "      <td>서대문구</td>\n",
       "      <td>72687504</td>\n",
       "    </tr>\n",
       "    <tr>\n",
       "      <th>30</th>\n",
       "      <td>영등포구</td>\n",
       "      <td>226580316</td>\n",
       "    </tr>\n",
       "    <tr>\n",
       "      <th>31</th>\n",
       "      <td>중구</td>\n",
       "      <td>137745441</td>\n",
       "    </tr>\n",
       "  </tbody>\n",
       "</table>\n",
       "</div>"
      ],
      "text/plain": [
       "       구         총합\n",
       "27   금천구   28356169\n",
       "28  동대문구   49919679\n",
       "29  서대문구   72687504\n",
       "30  영등포구  226580316\n",
       "31    중구  137745441"
      ]
     },
     "execution_count": 84,
     "metadata": {},
     "output_type": "execute_result"
    }
   ],
   "source": [
    "ddf_2020 = ddf_2020.pivot_table(\"총합\",\"구\",aggfunc=np.sum)\n",
    "ddf_2020 = ddf_2020.reset_index()\n",
    "ddf_2020.tail()"
   ]
  },
  {
   "cell_type": "code",
   "execution_count": 85,
   "id": "specific-spectacular",
   "metadata": {},
   "outputs": [
    {
     "name": "stdout",
     "output_type": "stream",
     "text": [
      "2020년 평균 통행량 : 102510103 대\n"
     ]
    }
   ],
   "source": [
    "gein_tans_2020 = round(ddf_2020[\"총합\"].mean())\n",
    "print(\"2020년 평균 통행량 :\", gein_tans_2020,\"대\")"
   ]
  },
  {
   "cell_type": "code",
   "execution_count": 86,
   "id": "fresh-humor",
   "metadata": {},
   "outputs": [
    {
     "data": {
      "text/html": [
       "<div>\n",
       "<style scoped>\n",
       "    .dataframe tbody tr th:only-of-type {\n",
       "        vertical-align: middle;\n",
       "    }\n",
       "\n",
       "    .dataframe tbody tr th {\n",
       "        vertical-align: top;\n",
       "    }\n",
       "\n",
       "    .dataframe thead th {\n",
       "        text-align: right;\n",
       "    }\n",
       "</style>\n",
       "<table border=\"1\" class=\"dataframe\">\n",
       "  <thead>\n",
       "    <tr style=\"text-align: right;\">\n",
       "      <th></th>\n",
       "      <th>구</th>\n",
       "      <th>총합</th>\n",
       "    </tr>\n",
       "  </thead>\n",
       "  <tbody>\n",
       "    <tr>\n",
       "      <th>0</th>\n",
       "      <td>강남구</td>\n",
       "      <td>294592122</td>\n",
       "    </tr>\n",
       "    <tr>\n",
       "      <th>2</th>\n",
       "      <td>강서구</td>\n",
       "      <td>128733424</td>\n",
       "    </tr>\n",
       "    <tr>\n",
       "      <th>11</th>\n",
       "      <td>노원구</td>\n",
       "      <td>124490761</td>\n",
       "    </tr>\n",
       "    <tr>\n",
       "      <th>13</th>\n",
       "      <td>동작구</td>\n",
       "      <td>109572681</td>\n",
       "    </tr>\n",
       "    <tr>\n",
       "      <th>14</th>\n",
       "      <td>마포구</td>\n",
       "      <td>220787222</td>\n",
       "    </tr>\n",
       "    <tr>\n",
       "      <th>16</th>\n",
       "      <td>서초구</td>\n",
       "      <td>322516550</td>\n",
       "    </tr>\n",
       "    <tr>\n",
       "      <th>17</th>\n",
       "      <td>성동구</td>\n",
       "      <td>143301660</td>\n",
       "    </tr>\n",
       "    <tr>\n",
       "      <th>18</th>\n",
       "      <td>성북구</td>\n",
       "      <td>133427860</td>\n",
       "    </tr>\n",
       "    <tr>\n",
       "      <th>19</th>\n",
       "      <td>송파구</td>\n",
       "      <td>166771016</td>\n",
       "    </tr>\n",
       "    <tr>\n",
       "      <th>20</th>\n",
       "      <td>양천구</td>\n",
       "      <td>115724129</td>\n",
       "    </tr>\n",
       "    <tr>\n",
       "      <th>21</th>\n",
       "      <td>용산구</td>\n",
       "      <td>204284926</td>\n",
       "    </tr>\n",
       "    <tr>\n",
       "      <th>23</th>\n",
       "      <td>종로구</td>\n",
       "      <td>146611263</td>\n",
       "    </tr>\n",
       "    <tr>\n",
       "      <th>30</th>\n",
       "      <td>영등포구</td>\n",
       "      <td>226580316</td>\n",
       "    </tr>\n",
       "    <tr>\n",
       "      <th>31</th>\n",
       "      <td>중구</td>\n",
       "      <td>137745441</td>\n",
       "    </tr>\n",
       "  </tbody>\n",
       "</table>\n",
       "</div>"
      ],
      "text/plain": [
       "       구         총합\n",
       "0    강남구  294592122\n",
       "2    강서구  128733424\n",
       "11   노원구  124490761\n",
       "13   동작구  109572681\n",
       "14   마포구  220787222\n",
       "16   서초구  322516550\n",
       "17   성동구  143301660\n",
       "18   성북구  133427860\n",
       "19   송파구  166771016\n",
       "20   양천구  115724129\n",
       "21   용산구  204284926\n",
       "23   종로구  146611263\n",
       "30  영등포구  226580316\n",
       "31    중구  137745441"
      ]
     },
     "execution_count": 86,
     "metadata": {},
     "output_type": "execute_result"
    }
   ],
   "source": [
    "ddff_2020 = ddf_2020[ddf_2020[\"총합\"] > ddf_2020[\"총합\"].mean()]\n",
    "ddff_2020"
   ]
  },
  {
   "cell_type": "code",
   "execution_count": 87,
   "id": "former-visitor",
   "metadata": {},
   "outputs": [
    {
     "data": {
      "image/png": "[encoded data removed]",
      "text/plain": [
       "<Figure size 1440x576 with 1 Axes>"
      ]
     },
     "metadata": {
      "image/png": {
       "height": 476,
       "width": 1152
      },
      "needs_background": "light"
     },
     "output_type": "display_data"
    }
   ],
   "source": [
    "plt.figure(figsize=(20, 8))\n",
    "plt.bar(ddf_2019[\"구\"], ddf_2019[\"총합\"])\n",
    "plt.bar(ddf_2020[\"구\"], ddf_2020[\"총합\"])\n",
    "\n",
    "#plt.legend()\n",
    "plt.axhline(y=gein_tans_2019, color='g', linewidth=1) #label=\"2019\")\n",
    "plt.axhline(y=gein_tans_2020, color='r', linewidth=1) #label=\"2020\")\n",
    "\n",
    "\n",
    "plt.show()\n"
   ]
  },
  {
   "cell_type": "code",
   "execution_count": null,
   "id": "protective-queensland",
   "metadata": {},
   "outputs": [],
   "source": []
  },
  {
   "cell_type": "code",
   "execution_count": null,
   "id": "rubber-creation",
   "metadata": {},
   "outputs": [],
   "source": []
  },
  {
   "cell_type": "code",
   "execution_count": null,
   "id": "accessible-elephant",
   "metadata": {},
   "outputs": [],
   "source": []
  },
  {
   "cell_type": "code",
   "execution_count": null,
   "id": "golden-victor",
   "metadata": {},
   "outputs": [],
   "source": []
  },
  {
   "cell_type": "code",
   "execution_count": null,
   "id": "lyric-nutrition",
   "metadata": {},
   "outputs": [],
   "source": []
  },
  {
   "cell_type": "code",
   "execution_count": null,
   "id": "herbal-kennedy",
   "metadata": {},
   "outputs": [],
   "source": []
  },
  {
   "cell_type": "code",
   "execution_count": null,
   "id": "protective-panic",
   "metadata": {},
   "outputs": [],
   "source": []
  },
  {
   "cell_type": "code",
   "execution_count": null,
   "id": "cardiovascular-lying",
   "metadata": {},
   "outputs": [],
   "source": []
  },
  {
   "cell_type": "code",
   "execution_count": null,
   "id": "missing-consumption",
   "metadata": {},
   "outputs": [],
   "source": []
  },
  {
   "cell_type": "code",
   "execution_count": null,
   "id": "military-brazil",
   "metadata": {},
   "outputs": [],
   "source": []
  },
  {
   "cell_type": "code",
   "execution_count": null,
   "id": "needed-parish",
   "metadata": {},
   "outputs": [],
   "source": []
  },
  {
   "cell_type": "code",
   "execution_count": null,
   "id": "brown-technical",
   "metadata": {},
   "outputs": [],
   "source": []
  },
  {
   "cell_type": "code",
   "execution_count": null,
   "id": "familiar-verse",
   "metadata": {},
   "outputs": [],
   "source": []
  },
  {
   "cell_type": "code",
   "execution_count": null,
   "id": "narrative-church",
   "metadata": {},
   "outputs": [],
   "source": []
  },
  {
   "cell_type": "code",
   "execution_count": null,
   "id": "hawaiian-douglas",
   "metadata": {},
   "outputs": [],
   "source": []
  },
  {
   "cell_type": "code",
   "execution_count": null,
   "id": "desirable-fight",
   "metadata": {},
   "outputs": [],
   "source": []
  },
  {
   "cell_type": "code",
   "execution_count": null,
   "id": "practical-prophet",
   "metadata": {},
   "outputs": [],
   "source": []
  },
  {
   "cell_type": "code",
   "execution_count": null,
   "id": "activated-station",
   "metadata": {},
   "outputs": [],
   "source": []
  },
  {
   "cell_type": "code",
   "execution_count": null,
   "id": "compact-fusion",
   "metadata": {},
   "outputs": [],
   "source": []
  },
  {
   "cell_type": "code",
   "execution_count": null,
   "id": "smooth-thread",
   "metadata": {},
   "outputs": [],
   "source": []
  },
  {
   "cell_type": "code",
   "execution_count": null,
   "id": "binary-python",
   "metadata": {},
   "outputs": [],
   "source": []
  },
  {
   "cell_type": "code",
   "execution_count": null,
   "id": "advanced-maximum",
   "metadata": {},
   "outputs": [],
   "source": []
  },
  {
   "cell_type": "code",
   "execution_count": null,
   "id": "elementary-bacon",
   "metadata": {},
   "outputs": [],
   "source": []
  },
  {
   "cell_type": "code",
   "execution_count": null,
   "id": "impressive-throw",
   "metadata": {},
   "outputs": [],
   "source": []
  },
  {
   "cell_type": "code",
   "execution_count": null,
   "id": "spare-beverage",
   "metadata": {},
   "outputs": [],
   "source": []
  },
  {
   "cell_type": "code",
   "execution_count": null,
   "id": "failing-reality",
   "metadata": {},
   "outputs": [],
   "source": []
  }
 ],
 "metadata": {
  "kernelspec": {
   "display_name": "Python 3",
   "language": "python",
   "name": "python3"
  },
  "language_info": {
   "codemirror_mode": {
    "name": "ipython",
    "version": 3
   },
   "file_extension": ".py",
   "mimetype": "text/x-python",
   "name": "python",
   "nbconvert_exporter": "python",
   "pygments_lexer": "ipython3",
   "version": "3.7.10"
  }
 },
 "nbformat": 4,
 "nbformat_minor": 5
}
