{
 "cells": [
  {
   "cell_type": "code",
   "execution_count": 10,
   "id": "c64d725c",
   "metadata": {},
   "outputs": [],
   "source": [
    "# 2-1 2019-2020 월별 서울 대중 교통량 비교"
   ]
  },
  {
   "cell_type": "code",
   "execution_count": null,
   "id": "2ca3dccf",
   "metadata": {},
   "outputs": [],
   "source": [
    "pub_tans_2019 = round(traffic_m_2019[\"total\"].mean())\n",
    "print(\"2019년 평균 통행량 :\", pub_tans_2019,\"대\")"
   ]
  },
  {
   "cell_type": "code",
   "execution_count": null,
   "id": "7f92d756",
   "metadata": {},
   "outputs": [],
   "source": [
    "dfdf_2019 = traffic_m_2019[traffic_m_2019[\"total\"] > traffic_m_2019[\"total\"].mean()]\n",
    "dfdfdf_2019 = pd.DataFrame(dfdf_2019, columns=[\"total\"])\n",
    "dfdfdf_2019"
   ]
  },
  {
   "cell_type": "code",
   "execution_count": null,
   "id": "ead5ae04",
   "metadata": {},
   "outputs": [],
   "source": [
    "pub_tans_2020 = round(traffic_m_2020[\"total\"].mean())\n",
    "print(\"2020년 평균 통행량 :\", pub_tans_2020,\"대\")"
   ]
  },
  {
   "cell_type": "code",
   "execution_count": null,
   "id": "7b214674",
   "metadata": {},
   "outputs": [],
   "source": [
    "dfdf_2020 = traffic_m_2020[traffic_m_2020[\"total\"] > traffic_m_2020[\"total\"].mean()]\n",
    "dfdfdf_2020 = pd.DataFrame(dfdf_2020, columns=[\"total\"])\n",
    "dfdfdf_2020"
   ]
  },
  {
   "cell_type": "code",
   "execution_count": null,
   "id": "14118352",
   "metadata": {},
   "outputs": [],
   "source": [
    "X1 = [\"1월\",\"2월\",\"3월\",\"4월\",\"5월\",\"6월\",\"7월\",\"8월\",\"9월\",\"10월\",\"11월\",\"12월\"]\n",
    "X2 = [\"1월\",\"2월\",\"3월\",\"4월\",\"5월\",\"6월\",\"7월\",\"8월\",\"9월\",\"10월\",\"11월\",\"12월\"]\n",
    "y1 = traffic_m_2019.total\n",
    "y2 = traffic_m_2020.total\n",
    "\n",
    "plt.figure(figsize=(20, 5))\n",
    "plt.plot(X1,y1, label='2019 traffic(month)', color='b')\n",
    "plt.plot(X2,y2, label='2020 traffic(month)', color='g')\n",
    "plt.legend()\n",
    "plt.title(\"2019-2020 Traffic Counting\")\n",
    "plt.axhline(y=pub_tans_2019, color='r', linewidth=1)\n",
    "plt.axhline(y=pub_tans_2020, color='r', linewidth=1)\n",
    "#plt.title(\"2019_Traffic\")\n",
    "#plt.xlabel('region')\n",
    "#plt.ylabel('Traffic')\n",
    "\n",
    "plt.show()"
   ]
  },
  {
   "cell_type": "code",
   "execution_count": null,
   "id": "360b99ad",
   "metadata": {},
   "outputs": [],
   "source": [
    "# 2-2 2019-2020 월별 통행량 비교"
   ]
  },
  {
   "cell_type": "code",
   "execution_count": null,
   "id": "cfd02459",
   "metadata": {},
   "outputs": [],
   "source": [
    "monthly_2019 = (df_2019[[\"month\", \"총합\"]].groupby(\"month\").sum()).values"
   ]
  },
  {
   "cell_type": "code",
   "execution_count": null,
   "id": "e29f6156",
   "metadata": {},
   "outputs": [],
   "source": [
    "tans_2019 = round(monthly_2019.mean())\n",
    "print(\"2019년 평균 통행량 :\", tans_2019,\"대\")"
   ]
  },
  {
   "cell_type": "code",
   "execution_count": null,
   "id": "6ee6973a",
   "metadata": {},
   "outputs": [],
   "source": [
    "hh = monthly_2019[monthly_2019 > monthly_2019.mean()]\n",
    "hhh = pd.DataFrame(hhh, columns=['total'])\n",
    "hhh"
   ]
  },
  {
   "cell_type": "code",
   "execution_count": null,
   "id": "ba6bf24b",
   "metadata": {},
   "outputs": [],
   "source": [
    "monthly_2020 = (df_2020[[\"month\", \"총합\"]].groupby(\"month\").sum()).values"
   ]
  },
  {
   "cell_type": "code",
   "execution_count": null,
   "id": "a44aac3f",
   "metadata": {},
   "outputs": [],
   "source": [
    "tans_2020 = round(monthly_2020.mean())\n",
    "print(\"2020년 평균 통행량 :\", tans_2020,\"대\")"
   ]
  },
  {
   "cell_type": "code",
   "execution_count": null,
   "id": "147bffcf",
   "metadata": {},
   "outputs": [],
   "source": [
    "hhhh = monthly_2020[monthly_2020 > monthly_2020.mean()]\n",
    "hhhhh = pd.DataFrame(hhhh, columns=[\"총합\"])\n",
    "hhhhh"
   ]
  },
  {
   "cell_type": "code",
   "execution_count": null,
   "id": "8325c7af",
   "metadata": {},
   "outputs": [],
   "source": [
    "X = [\"1월\",\"2월\",\"3월\",\"4월\",\"5월\",\"6월\",\"7월\",\"8월\",\"9월\",\"10월\",\"11월\",\"12월\"]\n",
    "#X1 = [\"1월\",\"2월\",\"3월\",\"4월\",\"5월\",\"6월\",\"7월\",\"8월\",\"9월\",\"10월\",\"11월\",\"12월\"]\n",
    "#X2 = [\"1월\",\"2월\",\"3월\",\"4월\",\"5월\",\"6월\",\"7월\",\"8월\",\"9월\",\"10월\",\"11월\",\"12월\"]\n",
    "y1 = monthly_2019\n",
    "y2 = monthly_2020\n",
    "\n",
    "plt.figure(figsize=(20, 5))\n",
    "plt.plot(X,y1, label='2019 traffic(month)', color='b')\n",
    "plt.plot(X,y2, label='2020 traffic(month)', color='g')\n",
    "plt.legend()\n",
    "plt.title(\"2019-2020 Traffic Counting\")\n",
    "plt.axhline(y=tans_2019, color='r', linewidth=1)\n",
    "plt.axhline(y=tans_2020, color='r', linewidth=1)\n",
    "\n",
    "plt.show()"
   ]
  },
  {
   "cell_type": "code",
   "execution_count": null,
   "id": "34bd90f3",
   "metadata": {},
   "outputs": [],
   "source": [
    "#"
   ]
  },
  {
   "cell_type": "code",
   "execution_count": null,
   "id": "edb7b8de",
   "metadata": {},
   "outputs": [],
   "source": []
  },
  {
   "cell_type": "code",
   "execution_count": null,
   "id": "e7ebac92",
   "metadata": {},
   "outputs": [],
   "source": []
  },
  {
   "cell_type": "code",
   "execution_count": null,
   "id": "b18aa8a6",
   "metadata": {},
   "outputs": [],
   "source": []
  },
  {
   "cell_type": "code",
   "execution_count": null,
   "id": "684ef2f6",
   "metadata": {},
   "outputs": [],
   "source": []
  },
  {
   "cell_type": "code",
   "execution_count": null,
   "id": "3d966c55",
   "metadata": {},
   "outputs": [],
   "source": []
  }
 ],
 "metadata": {
  "kernelspec": {
   "display_name": "Python 3",
   "language": "python",
   "name": "python3"
  },
  "language_info": {
   "codemirror_mode": {
    "name": "ipython",
    "version": 3
   },
   "file_extension": ".py",
   "mimetype": "text/x-python",
   "name": "python",
   "nbconvert_exporter": "python",
   "pygments_lexer": "ipython3",
   "version": "3.7.10"
  }
 },
 "nbformat": 4,
 "nbformat_minor": 5
}
