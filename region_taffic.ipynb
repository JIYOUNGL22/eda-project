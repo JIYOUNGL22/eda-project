{
 "cells": [
  {
   "cell_type": "code",
   "execution_count": 2,
   "id": "70aa6665",
   "metadata": {},
   "outputs": [],
   "source": [
    "#4.1지역별비교"
   ]
  },
  {
   "cell_type": "code",
   "execution_count": null,
   "id": "951db6b9",
   "metadata": {},
   "outputs": [],
   "source": [
    "traffic_r_2019.loc[:,'region'] = ['강남구', '강동구', '강북구', '강서구', '관악구', '광진구', '구로구', '금천구', \\\n",
    "                                  '노원구', '도봉구', '동대문구', '동작구', '마포구', '서대문구', '서초구', '성동구', \\\n",
    "                                 '성북구', '송파구', '양천구', '영등포구', '용산구', '은평구', '종로구', '중구', '중랑구' ]\n",
    "\n",
    "traffic_r_2019.tail(2)"
   ]
  },
  {
   "cell_type": "code",
   "execution_count": null,
   "id": "cb17b5e9",
   "metadata": {},
   "outputs": [],
   "source": [
    "traffic_r_2019['total'].mean()"
   ]
  },
  {
   "cell_type": "code",
   "execution_count": null,
   "id": "6129b122",
   "metadata": {},
   "outputs": [],
   "source": [
    "traffic_r_2019_a = round(traffic_r_2019['total'].mean())\n",
    "print(\"2019년 평균 통행량 :\", traffic_r_2019_a,\"대\")"
   ]
  },
  {
   "cell_type": "code",
   "execution_count": null,
   "id": "4604dd24",
   "metadata": {},
   "outputs": [],
   "source": [
    "aa = traffic_r_2019[traffic_r_2019 > traffic_r_2019.mean()]\n",
    "aaa = pd.DataFrame(aa, columns=[\"total\"])\n",
    "aaa"
   ]
  },
  {
   "cell_type": "code",
   "execution_count": null,
   "id": "f19216de",
   "metadata": {},
   "outputs": [],
   "source": [
    "traffic_r_2020.loc[:,'region'] = ['강남구', '강동구', '강북구', '강서구', '관악구', '광진구', '구로구', '금천구', \\\n",
    "                                   '노원구', '도봉구', '동대문구', '동작구', '마포구', '서대문구', '서초구', '성동구', \\\n",
    "                                 '성북구', '송파구', '양천구', '영등포구', '용산구', '은평구', '종로구', '중구', '중랑구' ]\n",
    "\n",
    "traffic_r_2020.tail(2)"
   ]
  },
  {
   "cell_type": "code",
   "execution_count": null,
   "id": "a8e6caa5",
   "metadata": {},
   "outputs": [],
   "source": [
    "traffic_r_2020['total'].mean()"
   ]
  },
  {
   "cell_type": "code",
   "execution_count": null,
   "id": "7fd6b012",
   "metadata": {},
   "outputs": [],
   "source": [
    "traffic_r_2020_a = round(traffic_r_2020['total'].mean())\n",
    "print(\"2020년 평균 통행량 :\", traffic_r_2020_a,\"대\")"
   ]
  },
  {
   "cell_type": "code",
   "execution_count": null,
   "id": "1d4cbd2b",
   "metadata": {},
   "outputs": [],
   "source": [
    "bb = traffic_r_2020[traffic_r_2020 > traffic_r_2020.mean()]\n",
    "bbb = pd.DataFrame(bb, columns=[\"total\"])\n",
    "bbb"
   ]
  },
  {
   "cell_type": "code",
   "execution_count": 5,
   "id": "9bad8132",
   "metadata": {},
   "outputs": [
    {
     "ename": "NameError",
     "evalue": "name 'plt' is not defined",
     "output_type": "error",
     "traceback": [
      "\u001b[0;31m---------------------------------------------------------------------------\u001b[0m",
      "\u001b[0;31mNameError\u001b[0m                                 Traceback (most recent call last)",
      "\u001b[0;32m<ipython-input-5-6d463b17a452>\u001b[0m in \u001b[0;36m<module>\u001b[0;34m\u001b[0m\n\u001b[0;32m----> 1\u001b[0;31m \u001b[0mplt\u001b[0m\u001b[0;34m.\u001b[0m\u001b[0mfigure\u001b[0m\u001b[0;34m(\u001b[0m\u001b[0mfigsize\u001b[0m\u001b[0;34m=\u001b[0m\u001b[0;34m(\u001b[0m\u001b[0;36m20\u001b[0m\u001b[0;34m,\u001b[0m \u001b[0;36m5\u001b[0m\u001b[0;34m)\u001b[0m\u001b[0;34m)\u001b[0m\u001b[0;34m\u001b[0m\u001b[0;34m\u001b[0m\u001b[0m\n\u001b[0m\u001b[1;32m      2\u001b[0m \u001b[0;34m\u001b[0m\u001b[0m\n\u001b[1;32m      3\u001b[0m X = ['강남구', '강동구', '강북구', '강서구', '관악구', '광진구', '구로구', '금천구', \\\n\u001b[1;32m      4\u001b[0m     \u001b[0;34m'노원구'\u001b[0m\u001b[0;34m,\u001b[0m \u001b[0;34m'도봉구'\u001b[0m\u001b[0;34m,\u001b[0m \u001b[0;34m'동대문구'\u001b[0m\u001b[0;34m,\u001b[0m \u001b[0;34m'동작구'\u001b[0m\u001b[0;34m,\u001b[0m \u001b[0;34m'마포구'\u001b[0m\u001b[0;34m,\u001b[0m \u001b[0;34m'서대문구'\u001b[0m\u001b[0;34m,\u001b[0m \u001b[0;34m'서초구'\u001b[0m\u001b[0;34m,\u001b[0m \u001b[0;34m'성동구'\u001b[0m\u001b[0;34m,\u001b[0m\u001b[0;31m \u001b[0m\u001b[0;31m\\\u001b[0m\u001b[0;34m\u001b[0m\u001b[0;34m\u001b[0m\u001b[0m\n\u001b[1;32m      5\u001b[0m     '성북구', '송파구', '양천구', '영등포구', '용산구', '은평구', '종로구', '중구', '중랑구' ]\n",
      "\u001b[0;31mNameError\u001b[0m: name 'plt' is not defined"
     ]
    }
   ],
   "source": [
    "plt.figure(figsize=(20, 5))\n",
    "\n",
    "X = ['강남구', '강동구', '강북구', '강서구', '관악구', '광진구', '구로구', '금천구', \\\n",
    "    '노원구', '도봉구', '동대문구', '동작구', '마포구', '서대문구', '서초구', '성동구', \\\n",
    "    '성북구', '송파구', '양천구', '영등포구', '용산구', '은평구', '종로구', '중구', '중랑구' ]\n",
    "\n",
    "plt.bar(X, traffic_r_2019[\"total\"])\n",
    "plt.bar(X, traffic_r_2020[\"total\"])\n",
    "\n",
    "\n",
    "#plt.bar(traffic_r_2019[\"region\"], traffic_r_2019[\"total\"])\n",
    "#plt.bar(traffic_r_2020[\"region\"], traffic_r_2020[\"total\"])\n",
    "plt.legend()\n",
    "plt.axhline(y=traffic_r_2019['total'].mean(), color='g', linewidth=1) #label=\"2019\")\n",
    "plt.axhline(y=traffic_r_2020['total'].mean(), color='r', linewidth=1) #label=\"2020\")\n",
    "\n",
    "\n",
    "plt.show()"
   ]
  },
  {
   "cell_type": "code",
   "execution_count": 4,
   "id": "8aeb762c",
   "metadata": {},
   "outputs": [],
   "source": [
    "#4.2 지역별 차량 교통량 비교"
   ]
  },
  {
   "cell_type": "code",
   "execution_count": null,
   "id": "c333ee54",
   "metadata": {},
   "outputs": [],
   "source": [
    "ddf_2019 = traffic_2019"
   ]
  },
  {
   "cell_type": "code",
   "execution_count": null,
   "id": "790088e0",
   "metadata": {},
   "outputs": [],
   "source": [
    "ddf_2019 = ddf_2019.pivot_table(\"총합\",\"구\",aggfunc=np.sum)\n",
    "ddf_2019 = ddf_2019.reset_index()\n",
    "ddf_2019.tail()"
   ]
  },
  {
   "cell_type": "code",
   "execution_count": null,
   "id": "24400376",
   "metadata": {},
   "outputs": [],
   "source": [
    "gein_tans_2019 = round(ddf_2019[\"총합\"].mean())\n",
    "print(\"2019년 평균 통행량 :\", gein_tans_2019,\"대\")"
   ]
  },
  {
   "cell_type": "code",
   "execution_count": null,
   "id": "de102f38",
   "metadata": {},
   "outputs": [],
   "source": [
    "ddff_2019 = ddf_2019[ddf_2019[\"총합\"] > ddf_2019[\"총합\"].mean()]\n",
    "ddff_2019"
   ]
  },
  {
   "cell_type": "code",
   "execution_count": null,
   "id": "73d3c700",
   "metadata": {},
   "outputs": [],
   "source": [
    "ddf_2020 = traffic_2020"
   ]
  },
  {
   "cell_type": "code",
   "execution_count": null,
   "id": "7430e90d",
   "metadata": {},
   "outputs": [],
   "source": [
    "ddf_2020 = ddf_2020.pivot_table(\"총합\",\"구\",aggfunc=np.sum)\n",
    "ddf_2020 = ddf_2020.reset_index()\n",
    "ddf_2020.tail()"
   ]
  },
  {
   "cell_type": "code",
   "execution_count": null,
   "id": "b2bd8695",
   "metadata": {},
   "outputs": [],
   "source": [
    "gein_tans_2020 = round(ddf_2020[\"총합\"].mean())\n",
    "print(\"2020년 평균 통행량 :\", gein_tans_2020,\"대\")"
   ]
  },
  {
   "cell_type": "code",
   "execution_count": null,
   "id": "bd5032cc",
   "metadata": {},
   "outputs": [],
   "source": [
    "ddff_2020 = ddf_2020[ddf_2020[\"총합\"] > ddf_2020[\"총합\"].mean()]\n",
    "ddff_2020"
   ]
  },
  {
   "cell_type": "code",
   "execution_count": null,
   "id": "9847b334",
   "metadata": {},
   "outputs": [],
   "source": [
    "plt.figure(figsize=(20, 8))\n",
    "plt.bar(ddf_2019[\"구\"], ddf_2019[\"총합\"])\n",
    "plt.bar(ddf_2020[\"구\"], ddf_2020[\"총합\"])\n",
    "\n",
    "#plt.legend()\n",
    "plt.axhline(y=gein_tans_2019, color='g', linewidth=1) #label=\"2019\")\n",
    "plt.axhline(y=gein_tans_2020, color='r', linewidth=1) #label=\"2020\")\n",
    "\n",
    "\n",
    "plt.show()\n"
   ]
  },
  {
   "cell_type": "code",
   "execution_count": 6,
   "id": "35bc0c2e",
   "metadata": {},
   "outputs": [
    {
     "name": "stdout",
     "output_type": "stream",
     "text": [
      " add.ipynb\r\n",
      "02.ipynb\r\n",
      "2015_seoultraffic_data.xlsx\r\n",
      "2019_2020_seoultraffic.xlsx\r\n",
      "LICENSE\r\n",
      "README.md\r\n",
      "Untitled.ipynb\r\n",
      "data_2019_2020_seoultraffic.xlsx\r\n",
      "data_2019_seoultraffic.csv\r\n",
      "data_2020_seoultraffic.csv\r\n",
      "graph_.ipynb\r\n",
      "main_seoultraffic.ipynb\r\n",
      "n_.ipynb\r\n",
      "\u001b[34mpub_transpor\u001b[m\u001b[m/\r\n",
      "pubilctranspor.ipynb\r\n",
      "\u001b[34mpublictransportation\u001b[m\u001b[m/\r\n",
      "region_taffic.ipynb\r\n",
      "seoultraffic.ipynb\r\n",
      "subwayfee.csv\r\n",
      "subwayfee.ipynb\r\n",
      "subwaytime.csv\r\n",
      "subwaytime.ipynb\r\n",
      "traffic_mean.ipynb\r\n",
      "복사_main_seoultraffic.ipynb\r\n"
     ]
    }
   ],
   "source": [
    "ls"
   ]
  },
  {
   "cell_type": "code",
   "execution_count": null,
   "id": "8b09b8bf",
   "metadata": {},
   "outputs": [],
   "source": []
  },
  {
   "cell_type": "code",
   "execution_count": null,
   "id": "261e9301",
   "metadata": {},
   "outputs": [],
   "source": []
  },
  {
   "cell_type": "code",
   "execution_count": null,
   "id": "56cf7f65",
   "metadata": {},
   "outputs": [],
   "source": []
  }
 ],
 "metadata": {
  "kernelspec": {
   "display_name": "Python 3",
   "language": "python",
   "name": "python3"
  },
  "language_info": {
   "codemirror_mode": {
    "name": "ipython",
    "version": 3
   },
   "file_extension": ".py",
   "mimetype": "text/x-python",
   "name": "python",
   "nbconvert_exporter": "python",
   "pygments_lexer": "ipython3",
   "version": "3.7.10"
  }
 },
 "nbformat": 4,
 "nbformat_minor": 5
}
