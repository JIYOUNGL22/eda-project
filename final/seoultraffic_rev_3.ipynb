{
 "cells": [
  {
   "cell_type": "markdown",
   "id": "7a843c50",
   "metadata": {},
   "source": [
    "# 수정사항\n",
    "* 계산식을 코드로 바로 입력\n",
    "* Nan data table 수정( 완료 )\n",
    "* 추가데이터와 비교 (ex. 3월, 12월 \\\n",
    "             코로나 확진자 증가, 거리두기 단계 변화와 비교 )\n",
    "* plot -> pointplot 로 변경\n",
    "* heatmap(corr)\n",
    "    *시간 -> 지역\n",
    "    *요일 -> 월~일\n",
    "    ----------------------------------\n",
    "*ppt 제작\n",
    "*"
   ]
  },
  {
   "cell_type": "markdown",
   "id": "b1e4500b",
   "metadata": {},
   "source": [
    "- 주제 선정 동기, 개요, 목적등\n",
    " * 대중교통이 감소하였고, 그럼 일반 자동차 통행량이 증가하였을까?\n",
    "    \n",
    "\n",
    "- 데이터 수집 방법\n",
    "\n",
    "- 데이터 처리 및 분석\n",
    "\n",
    "    - 분석 방법 : 빈도분석, 기술통계분석, 상관계수분석.\n",
    "\n",
    "    가설 1\n",
    "    데이터 설명 및 인사이트 도출 과정 (아주 간단히) 및 시각화\n",
    "    결론 1\n",
    "\n",
    "    가설 2\n",
    "    데이터 설명 및 인사이트 도출 과정 (아주 간단히) 및 시각화\n",
    "    결론 2\n",
    "\n",
    "    …\n",
    "\n",
    "- 추후 개선 및 느낀점"
   ]
  },
  {
   "cell_type": "code",
   "execution_count": 1,
   "id": "17efb717",
   "metadata": {},
   "outputs": [
    {
     "data": {
      "text/plain": [
       "'/Users/ijiyeong'"
      ]
     },
     "execution_count": 1,
     "metadata": {},
     "output_type": "execute_result"
    }
   ],
   "source": [
    "pwd"
   ]
  },
  {
   "cell_type": "code",
   "execution_count": 2,
   "id": "77beba87",
   "metadata": {},
   "outputs": [
    {
     "name": "stdout",
     "output_type": "stream",
     "text": [
      "/Users/ijiyeong\n"
     ]
    }
   ],
   "source": [
    "%cd"
   ]
  },
  {
   "cell_type": "code",
   "execution_count": 3,
   "id": "f1e5ec27",
   "metadata": {},
   "outputs": [
    {
     "name": "stdout",
     "output_type": "stream",
     "text": [
      "/Users/ijiyeong/seoultraffic\n"
     ]
    }
   ],
   "source": [
    "%cd seoultraffic/"
   ]
  },
  {
   "cell_type": "code",
   "execution_count": 4,
   "id": "facbc614",
   "metadata": {},
   "outputs": [],
   "source": [
    "import pandas as pd\n",
    "import numpy as np\n",
    "import matplotlib.pyplot as plt\n",
    "import matplotlib\n",
    "from matplotlib import pyplot\n",
    "import seaborn as sns\n",
    "import matplotlib.font_manager as fm\n",
    "import missingno as msno #결측데이터 검색\n",
    "%matplotlib inline\n",
    "%config InlineBackend.figure_formats = {'png', 'retina'}"
   ]
  },
  {
   "cell_type": "code",
   "execution_count": 5,
   "id": "bce5fbd6",
   "metadata": {},
   "outputs": [],
   "source": [
    "# 폰트설정\n",
    "from matplotlib import font_manager\n",
    "plt.rcParams[\"font.family\"] = 'NanumGothicCoding'\n",
    "from matplotlib import rc\n",
    "rc('font', family=\"Arial Unicode MS\")"
   ]
  },
  {
   "cell_type": "code",
   "execution_count": 6,
   "id": "9e1849df",
   "metadata": {},
   "outputs": [],
   "source": [
    "### 2019 pub_transpor data road\n",
    "df1 = pd.read_csv(\"2019.csv\")\n",
    "### 2020 pub_transpor data road\n",
    "df2 = pd.read_csv(\"2020.csv\")\n",
    "### 2019 Traffic data road\n",
    "ddf1 = pd.read_csv(\"data_2019_seoultraffic.csv\")\n",
    "### 2019 Traffic data road\n",
    "ddf2 = pd.read_csv(\"data_2020_seoultraffic.csv\")"
   ]
  },
  {
   "cell_type": "markdown",
   "id": "18f1d52a",
   "metadata": {},
   "source": [
    "### 월별 Pub_transpor data 2019"
   ]
  },
  {
   "cell_type": "code",
   "execution_count": 7,
   "id": "e9e50e24",
   "metadata": {},
   "outputs": [
    {
     "data": {
      "text/html": [
       "<div>\n",
       "<style scoped>\n",
       "    .dataframe tbody tr th:only-of-type {\n",
       "        vertical-align: middle;\n",
       "    }\n",
       "\n",
       "    .dataframe tbody tr th {\n",
       "        vertical-align: top;\n",
       "    }\n",
       "\n",
       "    .dataframe thead th {\n",
       "        text-align: right;\n",
       "    }\n",
       "</style>\n",
       "<table border=\"1\" class=\"dataframe\">\n",
       "  <thead>\n",
       "    <tr style=\"text-align: right;\">\n",
       "      <th>시간</th>\n",
       "      <th>0</th>\n",
       "      <th>1</th>\n",
       "      <th>2</th>\n",
       "      <th>3</th>\n",
       "      <th>4</th>\n",
       "      <th>5</th>\n",
       "      <th>6</th>\n",
       "      <th>7</th>\n",
       "      <th>8</th>\n",
       "      <th>9</th>\n",
       "      <th>...</th>\n",
       "      <th>14</th>\n",
       "      <th>15</th>\n",
       "      <th>16</th>\n",
       "      <th>17</th>\n",
       "      <th>18</th>\n",
       "      <th>19</th>\n",
       "      <th>20</th>\n",
       "      <th>21</th>\n",
       "      <th>22</th>\n",
       "      <th>23</th>\n",
       "    </tr>\n",
       "    <tr>\n",
       "      <th>월</th>\n",
       "      <th></th>\n",
       "      <th></th>\n",
       "      <th></th>\n",
       "      <th></th>\n",
       "      <th></th>\n",
       "      <th></th>\n",
       "      <th></th>\n",
       "      <th></th>\n",
       "      <th></th>\n",
       "      <th></th>\n",
       "      <th></th>\n",
       "      <th></th>\n",
       "      <th></th>\n",
       "      <th></th>\n",
       "      <th></th>\n",
       "      <th></th>\n",
       "      <th></th>\n",
       "      <th></th>\n",
       "      <th></th>\n",
       "      <th></th>\n",
       "      <th></th>\n",
       "    </tr>\n",
       "  </thead>\n",
       "  <tbody>\n",
       "    <tr>\n",
       "      <th>2019-12</th>\n",
       "      <td>5374999</td>\n",
       "      <td>894129</td>\n",
       "      <td>284658</td>\n",
       "      <td>205711</td>\n",
       "      <td>1508785</td>\n",
       "      <td>7102122</td>\n",
       "      <td>15312007</td>\n",
       "      <td>36548547</td>\n",
       "      <td>61293678</td>\n",
       "      <td>42821402</td>\n",
       "      <td>...</td>\n",
       "      <td>36315505</td>\n",
       "      <td>39572005</td>\n",
       "      <td>44295328</td>\n",
       "      <td>51354740</td>\n",
       "      <td>63240031</td>\n",
       "      <td>45627653</td>\n",
       "      <td>32970482</td>\n",
       "      <td>31787814</td>\n",
       "      <td>29838776</td>\n",
       "      <td>17951621</td>\n",
       "    </tr>\n",
       "  </tbody>\n",
       "</table>\n",
       "<p>1 rows × 24 columns</p>\n",
       "</div>"
      ],
      "text/plain": [
       "시간            0       1       2       3        4        5         6   \\\n",
       "월                                                                      \n",
       "2019-12  5374999  894129  284658  205711  1508785  7102122  15312007   \n",
       "\n",
       "시간             7         8         9   ...        14        15        16  \\\n",
       "월                                      ...                                 \n",
       "2019-12  36548547  61293678  42821402  ...  36315505  39572005  44295328   \n",
       "\n",
       "시간             17        18        19        20        21        22        23  \n",
       "월                                                                              \n",
       "2019-12  51354740  63240031  45627653  32970482  31787814  29838776  17951621  \n",
       "\n",
       "[1 rows x 24 columns]"
      ]
     },
     "execution_count": 7,
     "metadata": {},
     "output_type": "execute_result"
    }
   ],
   "source": [
    "pub_traffic_m_2019 = df1.pivot_table(\"count\", \"월\", \"시간\", aggfunc=np.sum)\n",
    "pub_traffic_m_2019.tail(1)"
   ]
  },
  {
   "cell_type": "code",
   "execution_count": 8,
   "id": "63e80af7",
   "metadata": {},
   "outputs": [
    {
     "data": {
      "text/html": [
       "<div>\n",
       "<style scoped>\n",
       "    .dataframe tbody tr th:only-of-type {\n",
       "        vertical-align: middle;\n",
       "    }\n",
       "\n",
       "    .dataframe tbody tr th {\n",
       "        vertical-align: top;\n",
       "    }\n",
       "\n",
       "    .dataframe thead th {\n",
       "        text-align: right;\n",
       "    }\n",
       "</style>\n",
       "<table border=\"1\" class=\"dataframe\">\n",
       "  <thead>\n",
       "    <tr style=\"text-align: right;\">\n",
       "      <th>시간</th>\n",
       "      <th>0</th>\n",
       "      <th>1</th>\n",
       "      <th>2</th>\n",
       "      <th>3</th>\n",
       "      <th>4</th>\n",
       "      <th>5</th>\n",
       "      <th>6</th>\n",
       "      <th>7</th>\n",
       "      <th>8</th>\n",
       "      <th>9</th>\n",
       "      <th>...</th>\n",
       "      <th>15</th>\n",
       "      <th>16</th>\n",
       "      <th>17</th>\n",
       "      <th>18</th>\n",
       "      <th>19</th>\n",
       "      <th>20</th>\n",
       "      <th>21</th>\n",
       "      <th>22</th>\n",
       "      <th>23</th>\n",
       "      <th>total</th>\n",
       "    </tr>\n",
       "    <tr>\n",
       "      <th>월</th>\n",
       "      <th></th>\n",
       "      <th></th>\n",
       "      <th></th>\n",
       "      <th></th>\n",
       "      <th></th>\n",
       "      <th></th>\n",
       "      <th></th>\n",
       "      <th></th>\n",
       "      <th></th>\n",
       "      <th></th>\n",
       "      <th></th>\n",
       "      <th></th>\n",
       "      <th></th>\n",
       "      <th></th>\n",
       "      <th></th>\n",
       "      <th></th>\n",
       "      <th></th>\n",
       "      <th></th>\n",
       "      <th></th>\n",
       "      <th></th>\n",
       "      <th></th>\n",
       "    </tr>\n",
       "  </thead>\n",
       "  <tbody>\n",
       "    <tr>\n",
       "      <th>2019-12</th>\n",
       "      <td>5374999</td>\n",
       "      <td>894129</td>\n",
       "      <td>284658</td>\n",
       "      <td>205711</td>\n",
       "      <td>1508785</td>\n",
       "      <td>7102122</td>\n",
       "      <td>15312007</td>\n",
       "      <td>36548547</td>\n",
       "      <td>61293678</td>\n",
       "      <td>42821402</td>\n",
       "      <td>...</td>\n",
       "      <td>39572005</td>\n",
       "      <td>44295328</td>\n",
       "      <td>51354740</td>\n",
       "      <td>63240031</td>\n",
       "      <td>45627653</td>\n",
       "      <td>32970482</td>\n",
       "      <td>31787814</td>\n",
       "      <td>29838776</td>\n",
       "      <td>17951621</td>\n",
       "      <td>697837963</td>\n",
       "    </tr>\n",
       "  </tbody>\n",
       "</table>\n",
       "<p>1 rows × 25 columns</p>\n",
       "</div>"
      ],
      "text/plain": [
       "시간             0       1       2       3        4        5         6  \\\n",
       "월                                                                      \n",
       "2019-12  5374999  894129  284658  205711  1508785  7102122  15312007   \n",
       "\n",
       "시간              7         8         9  ...        15        16        17  \\\n",
       "월                                      ...                                 \n",
       "2019-12  36548547  61293678  42821402  ...  39572005  44295328  51354740   \n",
       "\n",
       "시간             18        19        20        21        22        23      total  \n",
       "월                                                                               \n",
       "2019-12  63240031  45627653  32970482  31787814  29838776  17951621  697837963  \n",
       "\n",
       "[1 rows x 25 columns]"
      ]
     },
     "execution_count": 8,
     "metadata": {},
     "output_type": "execute_result"
    }
   ],
   "source": [
    "pub_traffic_m_2019.loc[:, \"total\"] = pub_traffic_m_2019.sum(axis=1)\n",
    "pub_traffic_m_2019.tail(1)"
   ]
  },
  {
   "cell_type": "markdown",
   "id": "dd47dd31",
   "metadata": {},
   "source": [
    "### 지역 Pub_transpor data 2019"
   ]
  },
  {
   "cell_type": "code",
   "execution_count": 9,
   "id": "419640e2",
   "metadata": {},
   "outputs": [
    {
     "data": {
      "text/html": [
       "<div>\n",
       "<style scoped>\n",
       "    .dataframe tbody tr th:only-of-type {\n",
       "        vertical-align: middle;\n",
       "    }\n",
       "\n",
       "    .dataframe tbody tr th {\n",
       "        vertical-align: top;\n",
       "    }\n",
       "\n",
       "    .dataframe thead th {\n",
       "        text-align: right;\n",
       "    }\n",
       "</style>\n",
       "<table border=\"1\" class=\"dataframe\">\n",
       "  <thead>\n",
       "    <tr style=\"text-align: right;\">\n",
       "      <th>시간</th>\n",
       "      <th>0</th>\n",
       "      <th>1</th>\n",
       "      <th>2</th>\n",
       "      <th>3</th>\n",
       "      <th>4</th>\n",
       "      <th>5</th>\n",
       "      <th>6</th>\n",
       "      <th>7</th>\n",
       "      <th>8</th>\n",
       "      <th>9</th>\n",
       "      <th>...</th>\n",
       "      <th>14</th>\n",
       "      <th>15</th>\n",
       "      <th>16</th>\n",
       "      <th>17</th>\n",
       "      <th>18</th>\n",
       "      <th>19</th>\n",
       "      <th>20</th>\n",
       "      <th>21</th>\n",
       "      <th>22</th>\n",
       "      <th>23</th>\n",
       "    </tr>\n",
       "    <tr>\n",
       "      <th>지명</th>\n",
       "      <th></th>\n",
       "      <th></th>\n",
       "      <th></th>\n",
       "      <th></th>\n",
       "      <th></th>\n",
       "      <th></th>\n",
       "      <th></th>\n",
       "      <th></th>\n",
       "      <th></th>\n",
       "      <th></th>\n",
       "      <th></th>\n",
       "      <th></th>\n",
       "      <th></th>\n",
       "      <th></th>\n",
       "      <th></th>\n",
       "      <th></th>\n",
       "      <th></th>\n",
       "      <th></th>\n",
       "      <th></th>\n",
       "      <th></th>\n",
       "      <th></th>\n",
       "    </tr>\n",
       "  </thead>\n",
       "  <tbody>\n",
       "    <tr>\n",
       "      <th>중랑구</th>\n",
       "      <td>1429246</td>\n",
       "      <td>237634</td>\n",
       "      <td>75320</td>\n",
       "      <td>66496</td>\n",
       "      <td>865449</td>\n",
       "      <td>3163495</td>\n",
       "      <td>6457136</td>\n",
       "      <td>15182553</td>\n",
       "      <td>22283249</td>\n",
       "      <td>13902473</td>\n",
       "      <td>...</td>\n",
       "      <td>9500318</td>\n",
       "      <td>10034266</td>\n",
       "      <td>11444769</td>\n",
       "      <td>12500258</td>\n",
       "      <td>14244402</td>\n",
       "      <td>12439521</td>\n",
       "      <td>8442147</td>\n",
       "      <td>7587105</td>\n",
       "      <td>6741702</td>\n",
       "      <td>3980054</td>\n",
       "    </tr>\n",
       "  </tbody>\n",
       "</table>\n",
       "<p>1 rows × 24 columns</p>\n",
       "</div>"
      ],
      "text/plain": [
       "시간        0       1      2      3       4        5        6         7   \\\n",
       "지명                                                                       \n",
       "중랑구  1429246  237634  75320  66496  865449  3163495  6457136  15182553   \n",
       "\n",
       "시간         8         9   ...       14        15        16        17        18  \\\n",
       "지명                       ...                                                    \n",
       "중랑구  22283249  13902473  ...  9500318  10034266  11444769  12500258  14244402   \n",
       "\n",
       "시간         19       20       21       22       23  \n",
       "지명                                                 \n",
       "중랑구  12439521  8442147  7587105  6741702  3980054  \n",
       "\n",
       "[1 rows x 24 columns]"
      ]
     },
     "execution_count": 9,
     "metadata": {},
     "output_type": "execute_result"
    }
   ],
   "source": [
    "pub_traffic_r_2019 = df1.pivot_table(\"count\", \"지명\", \"시간\", aggfunc=np.sum)\n",
    "pub_traffic_r_2019.tail(1)"
   ]
  },
  {
   "cell_type": "code",
   "execution_count": 10,
   "id": "7dce99bd",
   "metadata": {
    "scrolled": true
   },
   "outputs": [
    {
     "data": {
      "text/html": [
       "<div>\n",
       "<style scoped>\n",
       "    .dataframe tbody tr th:only-of-type {\n",
       "        vertical-align: middle;\n",
       "    }\n",
       "\n",
       "    .dataframe tbody tr th {\n",
       "        vertical-align: top;\n",
       "    }\n",
       "\n",
       "    .dataframe thead th {\n",
       "        text-align: right;\n",
       "    }\n",
       "</style>\n",
       "<table border=\"1\" class=\"dataframe\">\n",
       "  <thead>\n",
       "    <tr style=\"text-align: right;\">\n",
       "      <th>시간</th>\n",
       "      <th>0</th>\n",
       "      <th>1</th>\n",
       "      <th>2</th>\n",
       "      <th>3</th>\n",
       "      <th>4</th>\n",
       "      <th>5</th>\n",
       "      <th>6</th>\n",
       "      <th>7</th>\n",
       "      <th>8</th>\n",
       "      <th>9</th>\n",
       "      <th>...</th>\n",
       "      <th>15</th>\n",
       "      <th>16</th>\n",
       "      <th>17</th>\n",
       "      <th>18</th>\n",
       "      <th>19</th>\n",
       "      <th>20</th>\n",
       "      <th>21</th>\n",
       "      <th>22</th>\n",
       "      <th>23</th>\n",
       "      <th>total</th>\n",
       "    </tr>\n",
       "    <tr>\n",
       "      <th>지명</th>\n",
       "      <th></th>\n",
       "      <th></th>\n",
       "      <th></th>\n",
       "      <th></th>\n",
       "      <th></th>\n",
       "      <th></th>\n",
       "      <th></th>\n",
       "      <th></th>\n",
       "      <th></th>\n",
       "      <th></th>\n",
       "      <th></th>\n",
       "      <th></th>\n",
       "      <th></th>\n",
       "      <th></th>\n",
       "      <th></th>\n",
       "      <th></th>\n",
       "      <th></th>\n",
       "      <th></th>\n",
       "      <th></th>\n",
       "      <th></th>\n",
       "      <th></th>\n",
       "    </tr>\n",
       "  </thead>\n",
       "  <tbody>\n",
       "    <tr>\n",
       "      <th>중랑구</th>\n",
       "      <td>1429246</td>\n",
       "      <td>237634</td>\n",
       "      <td>75320</td>\n",
       "      <td>66496</td>\n",
       "      <td>865449</td>\n",
       "      <td>3163495</td>\n",
       "      <td>6457136</td>\n",
       "      <td>15182553</td>\n",
       "      <td>22283249</td>\n",
       "      <td>13902473</td>\n",
       "      <td>...</td>\n",
       "      <td>10034266</td>\n",
       "      <td>11444769</td>\n",
       "      <td>12500258</td>\n",
       "      <td>14244402</td>\n",
       "      <td>12439521</td>\n",
       "      <td>8442147</td>\n",
       "      <td>7587105</td>\n",
       "      <td>6741702</td>\n",
       "      <td>3980054</td>\n",
       "      <td>199074236</td>\n",
       "    </tr>\n",
       "  </tbody>\n",
       "</table>\n",
       "<p>1 rows × 25 columns</p>\n",
       "</div>"
      ],
      "text/plain": [
       "시간         0       1      2      3       4        5        6         7  \\\n",
       "지명                                                                       \n",
       "중랑구  1429246  237634  75320  66496  865449  3163495  6457136  15182553   \n",
       "\n",
       "시간          8         9  ...        15        16        17        18  \\\n",
       "지명                       ...                                           \n",
       "중랑구  22283249  13902473  ...  10034266  11444769  12500258  14244402   \n",
       "\n",
       "시간         19       20       21       22       23      total  \n",
       "지명                                                            \n",
       "중랑구  12439521  8442147  7587105  6741702  3980054  199074236  \n",
       "\n",
       "[1 rows x 25 columns]"
      ]
     },
     "execution_count": 10,
     "metadata": {},
     "output_type": "execute_result"
    }
   ],
   "source": [
    "pub_traffic_r_2019.loc[:, \"total\"] = pub_traffic_r_2019.sum(axis=1)\n",
    "pub_traffic_r_2019.tail(1)"
   ]
  },
  {
   "cell_type": "markdown",
   "id": "6be015f0",
   "metadata": {},
   "source": [
    "### 월별 일반_transpor data 2019"
   ]
  },
  {
   "cell_type": "code",
   "execution_count": 11,
   "id": "2f6ecd19",
   "metadata": {
    "scrolled": true
   },
   "outputs": [
    {
     "data": {
      "text/html": [
       "<div>\n",
       "<style scoped>\n",
       "    .dataframe tbody tr th:only-of-type {\n",
       "        vertical-align: middle;\n",
       "    }\n",
       "\n",
       "    .dataframe tbody tr th {\n",
       "        vertical-align: top;\n",
       "    }\n",
       "\n",
       "    .dataframe thead th {\n",
       "        text-align: right;\n",
       "    }\n",
       "</style>\n",
       "<table border=\"1\" class=\"dataframe\">\n",
       "  <thead>\n",
       "    <tr style=\"text-align: right;\">\n",
       "      <th></th>\n",
       "      <th>total</th>\n",
       "    </tr>\n",
       "    <tr>\n",
       "      <th>month</th>\n",
       "      <th></th>\n",
       "    </tr>\n",
       "  </thead>\n",
       "  <tbody>\n",
       "    <tr>\n",
       "      <th>11</th>\n",
       "      <td>72354.783704</td>\n",
       "    </tr>\n",
       "    <tr>\n",
       "      <th>12</th>\n",
       "      <td>71778.392115</td>\n",
       "    </tr>\n",
       "  </tbody>\n",
       "</table>\n",
       "</div>"
      ],
      "text/plain": [
       "              total\n",
       "month              \n",
       "11     72354.783704\n",
       "12     71778.392115"
      ]
     },
     "execution_count": 11,
     "metadata": {},
     "output_type": "execute_result"
    }
   ],
   "source": [
    "all_traffic_m_2019 = ddf1.pivot_table(\"total\", \"month\")\n",
    "all_traffic_m_2019.tail(2)"
   ]
  },
  {
   "cell_type": "code",
   "execution_count": 12,
   "id": "0493c3c1",
   "metadata": {},
   "outputs": [
    {
     "data": {
      "text/html": [
       "<div>\n",
       "<style scoped>\n",
       "    .dataframe tbody tr th:only-of-type {\n",
       "        vertical-align: middle;\n",
       "    }\n",
       "\n",
       "    .dataframe tbody tr th {\n",
       "        vertical-align: top;\n",
       "    }\n",
       "\n",
       "    .dataframe thead th {\n",
       "        text-align: right;\n",
       "    }\n",
       "</style>\n",
       "<table border=\"1\" class=\"dataframe\">\n",
       "  <thead>\n",
       "    <tr style=\"text-align: right;\">\n",
       "      <th></th>\n",
       "      <th>total</th>\n",
       "    </tr>\n",
       "    <tr>\n",
       "      <th>month</th>\n",
       "      <th></th>\n",
       "    </tr>\n",
       "  </thead>\n",
       "  <tbody>\n",
       "    <tr>\n",
       "      <th>11</th>\n",
       "      <td>72354.783704</td>\n",
       "    </tr>\n",
       "    <tr>\n",
       "      <th>12</th>\n",
       "      <td>71778.392115</td>\n",
       "    </tr>\n",
       "  </tbody>\n",
       "</table>\n",
       "</div>"
      ],
      "text/plain": [
       "              total\n",
       "month              \n",
       "11     72354.783704\n",
       "12     71778.392115"
      ]
     },
     "execution_count": 12,
     "metadata": {},
     "output_type": "execute_result"
    }
   ],
   "source": [
    "all_traffic_m_2019.loc[:, \"total\"] = all_traffic_m_2019.sum(axis=1)\n",
    "all_traffic_m_2019.tail(2)"
   ]
  },
  {
   "cell_type": "markdown",
   "id": "53a9e2ad",
   "metadata": {},
   "source": [
    "### 지역 일반_transpor data 2019"
   ]
  },
  {
   "cell_type": "code",
   "execution_count": 13,
   "id": "a810dd39",
   "metadata": {},
   "outputs": [
    {
     "data": {
      "text/html": [
       "<div>\n",
       "<style scoped>\n",
       "    .dataframe tbody tr th:only-of-type {\n",
       "        vertical-align: middle;\n",
       "    }\n",
       "\n",
       "    .dataframe tbody tr th {\n",
       "        vertical-align: top;\n",
       "    }\n",
       "\n",
       "    .dataframe thead th {\n",
       "        text-align: right;\n",
       "    }\n",
       "</style>\n",
       "<table border=\"1\" class=\"dataframe\">\n",
       "  <thead>\n",
       "    <tr style=\"text-align: right;\">\n",
       "      <th></th>\n",
       "      <th>total</th>\n",
       "    </tr>\n",
       "    <tr>\n",
       "      <th>구</th>\n",
       "      <th></th>\n",
       "    </tr>\n",
       "  </thead>\n",
       "  <tbody>\n",
       "    <tr>\n",
       "      <th>영등포구</th>\n",
       "      <td>70866.447123</td>\n",
       "    </tr>\n",
       "    <tr>\n",
       "      <th>중구</th>\n",
       "      <td>37562.815068</td>\n",
       "    </tr>\n",
       "  </tbody>\n",
       "</table>\n",
       "</div>"
      ],
      "text/plain": [
       "             total\n",
       "구                 \n",
       "영등포구  70866.447123\n",
       "중구    37562.815068"
      ]
     },
     "execution_count": 13,
     "metadata": {},
     "output_type": "execute_result"
    }
   ],
   "source": [
    "all_traffic_r_2019 = ddf1.pivot_table(\"total\", \"구\")\n",
    "all_traffic_r_2019.tail(2)"
   ]
  },
  {
   "cell_type": "markdown",
   "id": "d73e0380",
   "metadata": {},
   "source": [
    "### 월별 Pub_transpor data 2020"
   ]
  },
  {
   "cell_type": "code",
   "execution_count": 14,
   "id": "a624417f",
   "metadata": {},
   "outputs": [
    {
     "data": {
      "text/html": [
       "<div>\n",
       "<style scoped>\n",
       "    .dataframe tbody tr th:only-of-type {\n",
       "        vertical-align: middle;\n",
       "    }\n",
       "\n",
       "    .dataframe tbody tr th {\n",
       "        vertical-align: top;\n",
       "    }\n",
       "\n",
       "    .dataframe thead th {\n",
       "        text-align: right;\n",
       "    }\n",
       "</style>\n",
       "<table border=\"1\" class=\"dataframe\">\n",
       "  <thead>\n",
       "    <tr style=\"text-align: right;\">\n",
       "      <th>시간</th>\n",
       "      <th>0</th>\n",
       "      <th>1</th>\n",
       "      <th>2</th>\n",
       "      <th>3</th>\n",
       "      <th>4</th>\n",
       "      <th>5</th>\n",
       "      <th>6</th>\n",
       "      <th>7</th>\n",
       "      <th>8</th>\n",
       "      <th>9</th>\n",
       "      <th>...</th>\n",
       "      <th>14</th>\n",
       "      <th>15</th>\n",
       "      <th>16</th>\n",
       "      <th>17</th>\n",
       "      <th>18</th>\n",
       "      <th>19</th>\n",
       "      <th>20</th>\n",
       "      <th>21</th>\n",
       "      <th>22</th>\n",
       "      <th>23</th>\n",
       "    </tr>\n",
       "    <tr>\n",
       "      <th>월</th>\n",
       "      <th></th>\n",
       "      <th></th>\n",
       "      <th></th>\n",
       "      <th></th>\n",
       "      <th></th>\n",
       "      <th></th>\n",
       "      <th></th>\n",
       "      <th></th>\n",
       "      <th></th>\n",
       "      <th></th>\n",
       "      <th></th>\n",
       "      <th></th>\n",
       "      <th></th>\n",
       "      <th></th>\n",
       "      <th></th>\n",
       "      <th></th>\n",
       "      <th></th>\n",
       "      <th></th>\n",
       "      <th></th>\n",
       "      <th></th>\n",
       "      <th></th>\n",
       "    </tr>\n",
       "  </thead>\n",
       "  <tbody>\n",
       "    <tr>\n",
       "      <th>2020-11</th>\n",
       "      <td>2098081</td>\n",
       "      <td>349867</td>\n",
       "      <td>155377</td>\n",
       "      <td>130386</td>\n",
       "      <td>1329355</td>\n",
       "      <td>6136505</td>\n",
       "      <td>13402605</td>\n",
       "      <td>32537726</td>\n",
       "      <td>52019524</td>\n",
       "      <td>33591727</td>\n",
       "      <td>...</td>\n",
       "      <td>25337088</td>\n",
       "      <td>27905265</td>\n",
       "      <td>31454781</td>\n",
       "      <td>38669351</td>\n",
       "      <td>50479289</td>\n",
       "      <td>34838703</td>\n",
       "      <td>23676409</td>\n",
       "      <td>22284310</td>\n",
       "      <td>18204449</td>\n",
       "      <td>9614244</td>\n",
       "    </tr>\n",
       "    <tr>\n",
       "      <th>2020-12</th>\n",
       "      <td>768884</td>\n",
       "      <td>144747</td>\n",
       "      <td>81844</td>\n",
       "      <td>79404</td>\n",
       "      <td>1185775</td>\n",
       "      <td>5460206</td>\n",
       "      <td>11851038</td>\n",
       "      <td>27047114</td>\n",
       "      <td>44277285</td>\n",
       "      <td>28695709</td>\n",
       "      <td>...</td>\n",
       "      <td>21300746</td>\n",
       "      <td>23283325</td>\n",
       "      <td>25506856</td>\n",
       "      <td>31762247</td>\n",
       "      <td>41623937</td>\n",
       "      <td>28400927</td>\n",
       "      <td>19939147</td>\n",
       "      <td>19568978</td>\n",
       "      <td>9363563</td>\n",
       "      <td>4006368</td>\n",
       "    </tr>\n",
       "  </tbody>\n",
       "</table>\n",
       "<p>2 rows × 24 columns</p>\n",
       "</div>"
      ],
      "text/plain": [
       "시간            0       1       2       3        4        5         6   \\\n",
       "월                                                                      \n",
       "2020-11  2098081  349867  155377  130386  1329355  6136505  13402605   \n",
       "2020-12   768884  144747   81844   79404  1185775  5460206  11851038   \n",
       "\n",
       "시간             7         8         9   ...        14        15        16  \\\n",
       "월                                      ...                                 \n",
       "2020-11  32537726  52019524  33591727  ...  25337088  27905265  31454781   \n",
       "2020-12  27047114  44277285  28695709  ...  21300746  23283325  25506856   \n",
       "\n",
       "시간             17        18        19        20        21        22       23  \n",
       "월                                                                             \n",
       "2020-11  38669351  50479289  34838703  23676409  22284310  18204449  9614244  \n",
       "2020-12  31762247  41623937  28400927  19939147  19568978   9363563  4006368  \n",
       "\n",
       "[2 rows x 24 columns]"
      ]
     },
     "execution_count": 14,
     "metadata": {},
     "output_type": "execute_result"
    }
   ],
   "source": [
    "pub_traffic_m_2020 = df2.pivot_table(\"count\", \"월\", \"시간\", aggfunc=np.sum)\n",
    "pub_traffic_m_2020.tail(2)"
   ]
  },
  {
   "cell_type": "code",
   "execution_count": 15,
   "id": "8887174a",
   "metadata": {},
   "outputs": [
    {
     "data": {
      "text/html": [
       "<div>\n",
       "<style scoped>\n",
       "    .dataframe tbody tr th:only-of-type {\n",
       "        vertical-align: middle;\n",
       "    }\n",
       "\n",
       "    .dataframe tbody tr th {\n",
       "        vertical-align: top;\n",
       "    }\n",
       "\n",
       "    .dataframe thead th {\n",
       "        text-align: right;\n",
       "    }\n",
       "</style>\n",
       "<table border=\"1\" class=\"dataframe\">\n",
       "  <thead>\n",
       "    <tr style=\"text-align: right;\">\n",
       "      <th>시간</th>\n",
       "      <th>0</th>\n",
       "      <th>1</th>\n",
       "      <th>2</th>\n",
       "      <th>3</th>\n",
       "      <th>4</th>\n",
       "      <th>5</th>\n",
       "      <th>6</th>\n",
       "      <th>7</th>\n",
       "      <th>8</th>\n",
       "      <th>9</th>\n",
       "      <th>...</th>\n",
       "      <th>15</th>\n",
       "      <th>16</th>\n",
       "      <th>17</th>\n",
       "      <th>18</th>\n",
       "      <th>19</th>\n",
       "      <th>20</th>\n",
       "      <th>21</th>\n",
       "      <th>22</th>\n",
       "      <th>23</th>\n",
       "      <th>total</th>\n",
       "    </tr>\n",
       "    <tr>\n",
       "      <th>월</th>\n",
       "      <th></th>\n",
       "      <th></th>\n",
       "      <th></th>\n",
       "      <th></th>\n",
       "      <th></th>\n",
       "      <th></th>\n",
       "      <th></th>\n",
       "      <th></th>\n",
       "      <th></th>\n",
       "      <th></th>\n",
       "      <th></th>\n",
       "      <th></th>\n",
       "      <th></th>\n",
       "      <th></th>\n",
       "      <th></th>\n",
       "      <th></th>\n",
       "      <th></th>\n",
       "      <th></th>\n",
       "      <th></th>\n",
       "      <th></th>\n",
       "      <th></th>\n",
       "    </tr>\n",
       "  </thead>\n",
       "  <tbody>\n",
       "    <tr>\n",
       "      <th>2020-11</th>\n",
       "      <td>2098081</td>\n",
       "      <td>349867</td>\n",
       "      <td>155377</td>\n",
       "      <td>130386</td>\n",
       "      <td>1329355</td>\n",
       "      <td>6136505</td>\n",
       "      <td>13402605</td>\n",
       "      <td>32537726</td>\n",
       "      <td>52019524</td>\n",
       "      <td>33591727</td>\n",
       "      <td>...</td>\n",
       "      <td>27905265</td>\n",
       "      <td>31454781</td>\n",
       "      <td>38669351</td>\n",
       "      <td>50479289</td>\n",
       "      <td>34838703</td>\n",
       "      <td>23676409</td>\n",
       "      <td>22284310</td>\n",
       "      <td>18204449</td>\n",
       "      <td>9614244</td>\n",
       "      <td>516629667</td>\n",
       "    </tr>\n",
       "    <tr>\n",
       "      <th>2020-12</th>\n",
       "      <td>768884</td>\n",
       "      <td>144747</td>\n",
       "      <td>81844</td>\n",
       "      <td>79404</td>\n",
       "      <td>1185775</td>\n",
       "      <td>5460206</td>\n",
       "      <td>11851038</td>\n",
       "      <td>27047114</td>\n",
       "      <td>44277285</td>\n",
       "      <td>28695709</td>\n",
       "      <td>...</td>\n",
       "      <td>23283325</td>\n",
       "      <td>25506856</td>\n",
       "      <td>31762247</td>\n",
       "      <td>41623937</td>\n",
       "      <td>28400927</td>\n",
       "      <td>19939147</td>\n",
       "      <td>19568978</td>\n",
       "      <td>9363563</td>\n",
       "      <td>4006368</td>\n",
       "      <td>421314351</td>\n",
       "    </tr>\n",
       "  </tbody>\n",
       "</table>\n",
       "<p>2 rows × 25 columns</p>\n",
       "</div>"
      ],
      "text/plain": [
       "시간             0       1       2       3        4        5         6  \\\n",
       "월                                                                      \n",
       "2020-11  2098081  349867  155377  130386  1329355  6136505  13402605   \n",
       "2020-12   768884  144747   81844   79404  1185775  5460206  11851038   \n",
       "\n",
       "시간              7         8         9  ...        15        16        17  \\\n",
       "월                                      ...                                 \n",
       "2020-11  32537726  52019524  33591727  ...  27905265  31454781  38669351   \n",
       "2020-12  27047114  44277285  28695709  ...  23283325  25506856  31762247   \n",
       "\n",
       "시간             18        19        20        21        22       23      total  \n",
       "월                                                                              \n",
       "2020-11  50479289  34838703  23676409  22284310  18204449  9614244  516629667  \n",
       "2020-12  41623937  28400927  19939147  19568978   9363563  4006368  421314351  \n",
       "\n",
       "[2 rows x 25 columns]"
      ]
     },
     "execution_count": 15,
     "metadata": {},
     "output_type": "execute_result"
    }
   ],
   "source": [
    "pub_traffic_m_2020.loc[:, \"total\"] = pub_traffic_m_2020.sum(axis=1)\n",
    "pub_traffic_m_2020.tail(2)"
   ]
  },
  {
   "cell_type": "markdown",
   "id": "05c29cf1",
   "metadata": {},
   "source": [
    "### 지역 Pub_transpor data 2020"
   ]
  },
  {
   "cell_type": "code",
   "execution_count": 16,
   "id": "cdbd7dbb",
   "metadata": {},
   "outputs": [
    {
     "data": {
      "text/html": [
       "<div>\n",
       "<style scoped>\n",
       "    .dataframe tbody tr th:only-of-type {\n",
       "        vertical-align: middle;\n",
       "    }\n",
       "\n",
       "    .dataframe tbody tr th {\n",
       "        vertical-align: top;\n",
       "    }\n",
       "\n",
       "    .dataframe thead th {\n",
       "        text-align: right;\n",
       "    }\n",
       "</style>\n",
       "<table border=\"1\" class=\"dataframe\">\n",
       "  <thead>\n",
       "    <tr style=\"text-align: right;\">\n",
       "      <th>시간</th>\n",
       "      <th>0</th>\n",
       "      <th>1</th>\n",
       "      <th>2</th>\n",
       "      <th>3</th>\n",
       "      <th>4</th>\n",
       "      <th>5</th>\n",
       "      <th>6</th>\n",
       "      <th>7</th>\n",
       "      <th>8</th>\n",
       "      <th>9</th>\n",
       "      <th>...</th>\n",
       "      <th>14</th>\n",
       "      <th>15</th>\n",
       "      <th>16</th>\n",
       "      <th>17</th>\n",
       "      <th>18</th>\n",
       "      <th>19</th>\n",
       "      <th>20</th>\n",
       "      <th>21</th>\n",
       "      <th>22</th>\n",
       "      <th>23</th>\n",
       "    </tr>\n",
       "    <tr>\n",
       "      <th>지명</th>\n",
       "      <th></th>\n",
       "      <th></th>\n",
       "      <th></th>\n",
       "      <th></th>\n",
       "      <th></th>\n",
       "      <th></th>\n",
       "      <th></th>\n",
       "      <th></th>\n",
       "      <th></th>\n",
       "      <th></th>\n",
       "      <th></th>\n",
       "      <th></th>\n",
       "      <th></th>\n",
       "      <th></th>\n",
       "      <th></th>\n",
       "      <th></th>\n",
       "      <th></th>\n",
       "      <th></th>\n",
       "      <th></th>\n",
       "      <th></th>\n",
       "      <th></th>\n",
       "    </tr>\n",
       "  </thead>\n",
       "  <tbody>\n",
       "    <tr>\n",
       "      <th>중구</th>\n",
       "      <td>1030686</td>\n",
       "      <td>267406</td>\n",
       "      <td>125901</td>\n",
       "      <td>144638</td>\n",
       "      <td>524518</td>\n",
       "      <td>2845992</td>\n",
       "      <td>6134273</td>\n",
       "      <td>15971819</td>\n",
       "      <td>33999864</td>\n",
       "      <td>20472449</td>\n",
       "      <td>...</td>\n",
       "      <td>14554400</td>\n",
       "      <td>15679344</td>\n",
       "      <td>17012446</td>\n",
       "      <td>23538009</td>\n",
       "      <td>33093127</td>\n",
       "      <td>18656846</td>\n",
       "      <td>13260295</td>\n",
       "      <td>11477169</td>\n",
       "      <td>8628758</td>\n",
       "      <td>4649330</td>\n",
       "    </tr>\n",
       "    <tr>\n",
       "      <th>중랑구</th>\n",
       "      <td>999460</td>\n",
       "      <td>179205</td>\n",
       "      <td>71499</td>\n",
       "      <td>63145</td>\n",
       "      <td>722886</td>\n",
       "      <td>2550547</td>\n",
       "      <td>4890796</td>\n",
       "      <td>10808463</td>\n",
       "      <td>14961209</td>\n",
       "      <td>8788647</td>\n",
       "      <td>...</td>\n",
       "      <td>7304112</td>\n",
       "      <td>8024669</td>\n",
       "      <td>8997200</td>\n",
       "      <td>10484633</td>\n",
       "      <td>13326202</td>\n",
       "      <td>11698006</td>\n",
       "      <td>7464722</td>\n",
       "      <td>6621289</td>\n",
       "      <td>5495151</td>\n",
       "      <td>3253670</td>\n",
       "    </tr>\n",
       "  </tbody>\n",
       "</table>\n",
       "<p>2 rows × 24 columns</p>\n",
       "</div>"
      ],
      "text/plain": [
       "시간        0       1       2       3       4        5        6         7   \\\n",
       "지명                                                                         \n",
       "중구   1030686  267406  125901  144638  524518  2845992  6134273  15971819   \n",
       "중랑구   999460  179205   71499   63145  722886  2550547  4890796  10808463   \n",
       "\n",
       "시간         8         9   ...        14        15        16        17  \\\n",
       "지명                       ...                                           \n",
       "중구   33999864  20472449  ...  14554400  15679344  17012446  23538009   \n",
       "중랑구  14961209   8788647  ...   7304112   8024669   8997200  10484633   \n",
       "\n",
       "시간         18        19        20        21       22       23  \n",
       "지명                                                             \n",
       "중구   33093127  18656846  13260295  11477169  8628758  4649330  \n",
       "중랑구  13326202  11698006   7464722   6621289  5495151  3253670  \n",
       "\n",
       "[2 rows x 24 columns]"
      ]
     },
     "execution_count": 16,
     "metadata": {},
     "output_type": "execute_result"
    }
   ],
   "source": [
    "pub_traffic_r_2020 = df2.pivot_table(\"count\", \"지명\", \"시간\", aggfunc=np.sum)\n",
    "pub_traffic_r_2020.tail(2)"
   ]
  },
  {
   "cell_type": "code",
   "execution_count": 17,
   "id": "aae9b2fb",
   "metadata": {},
   "outputs": [
    {
     "data": {
      "text/html": [
       "<div>\n",
       "<style scoped>\n",
       "    .dataframe tbody tr th:only-of-type {\n",
       "        vertical-align: middle;\n",
       "    }\n",
       "\n",
       "    .dataframe tbody tr th {\n",
       "        vertical-align: top;\n",
       "    }\n",
       "\n",
       "    .dataframe thead th {\n",
       "        text-align: right;\n",
       "    }\n",
       "</style>\n",
       "<table border=\"1\" class=\"dataframe\">\n",
       "  <thead>\n",
       "    <tr style=\"text-align: right;\">\n",
       "      <th>시간</th>\n",
       "      <th>0</th>\n",
       "      <th>1</th>\n",
       "      <th>2</th>\n",
       "      <th>3</th>\n",
       "      <th>4</th>\n",
       "      <th>5</th>\n",
       "      <th>6</th>\n",
       "      <th>7</th>\n",
       "      <th>8</th>\n",
       "      <th>9</th>\n",
       "      <th>...</th>\n",
       "      <th>15</th>\n",
       "      <th>16</th>\n",
       "      <th>17</th>\n",
       "      <th>18</th>\n",
       "      <th>19</th>\n",
       "      <th>20</th>\n",
       "      <th>21</th>\n",
       "      <th>22</th>\n",
       "      <th>23</th>\n",
       "      <th>total</th>\n",
       "    </tr>\n",
       "    <tr>\n",
       "      <th>지명</th>\n",
       "      <th></th>\n",
       "      <th></th>\n",
       "      <th></th>\n",
       "      <th></th>\n",
       "      <th></th>\n",
       "      <th></th>\n",
       "      <th></th>\n",
       "      <th></th>\n",
       "      <th></th>\n",
       "      <th></th>\n",
       "      <th></th>\n",
       "      <th></th>\n",
       "      <th></th>\n",
       "      <th></th>\n",
       "      <th></th>\n",
       "      <th></th>\n",
       "      <th></th>\n",
       "      <th></th>\n",
       "      <th></th>\n",
       "      <th></th>\n",
       "      <th></th>\n",
       "    </tr>\n",
       "  </thead>\n",
       "  <tbody>\n",
       "    <tr>\n",
       "      <th>중구</th>\n",
       "      <td>1030686</td>\n",
       "      <td>267406</td>\n",
       "      <td>125901</td>\n",
       "      <td>144638</td>\n",
       "      <td>524518</td>\n",
       "      <td>2845992</td>\n",
       "      <td>6134273</td>\n",
       "      <td>15971819</td>\n",
       "      <td>33999864</td>\n",
       "      <td>20472449</td>\n",
       "      <td>...</td>\n",
       "      <td>15679344</td>\n",
       "      <td>17012446</td>\n",
       "      <td>23538009</td>\n",
       "      <td>33093127</td>\n",
       "      <td>18656846</td>\n",
       "      <td>13260295</td>\n",
       "      <td>11477169</td>\n",
       "      <td>8628758</td>\n",
       "      <td>4649330</td>\n",
       "      <td>295154710</td>\n",
       "    </tr>\n",
       "    <tr>\n",
       "      <th>중랑구</th>\n",
       "      <td>999460</td>\n",
       "      <td>179205</td>\n",
       "      <td>71499</td>\n",
       "      <td>63145</td>\n",
       "      <td>722886</td>\n",
       "      <td>2550547</td>\n",
       "      <td>4890796</td>\n",
       "      <td>10808463</td>\n",
       "      <td>14961209</td>\n",
       "      <td>8788647</td>\n",
       "      <td>...</td>\n",
       "      <td>8024669</td>\n",
       "      <td>8997200</td>\n",
       "      <td>10484633</td>\n",
       "      <td>13326202</td>\n",
       "      <td>11698006</td>\n",
       "      <td>7464722</td>\n",
       "      <td>6621289</td>\n",
       "      <td>5495151</td>\n",
       "      <td>3253670</td>\n",
       "      <td>153829883</td>\n",
       "    </tr>\n",
       "  </tbody>\n",
       "</table>\n",
       "<p>2 rows × 25 columns</p>\n",
       "</div>"
      ],
      "text/plain": [
       "시간         0       1       2       3       4        5        6         7  \\\n",
       "지명                                                                         \n",
       "중구   1030686  267406  125901  144638  524518  2845992  6134273  15971819   \n",
       "중랑구   999460  179205   71499   63145  722886  2550547  4890796  10808463   \n",
       "\n",
       "시간          8         9  ...        15        16        17        18  \\\n",
       "지명                       ...                                           \n",
       "중구   33999864  20472449  ...  15679344  17012446  23538009  33093127   \n",
       "중랑구  14961209   8788647  ...   8024669   8997200  10484633  13326202   \n",
       "\n",
       "시간         19        20        21       22       23      total  \n",
       "지명                                                              \n",
       "중구   18656846  13260295  11477169  8628758  4649330  295154710  \n",
       "중랑구  11698006   7464722   6621289  5495151  3253670  153829883  \n",
       "\n",
       "[2 rows x 25 columns]"
      ]
     },
     "execution_count": 17,
     "metadata": {},
     "output_type": "execute_result"
    }
   ],
   "source": [
    "pub_traffic_r_2020.loc[:, \"total\"] = pub_traffic_r_2020.sum(axis=1)\n",
    "pub_traffic_r_2020.tail(2)"
   ]
  },
  {
   "cell_type": "markdown",
   "id": "e5e9fbff",
   "metadata": {},
   "source": [
    "### 월별 일반_transpor data 2020"
   ]
  },
  {
   "cell_type": "code",
   "execution_count": 18,
   "id": "1448ef4b",
   "metadata": {
    "scrolled": true
   },
   "outputs": [
    {
     "data": {
      "text/html": [
       "<div>\n",
       "<style scoped>\n",
       "    .dataframe tbody tr th:only-of-type {\n",
       "        vertical-align: middle;\n",
       "    }\n",
       "\n",
       "    .dataframe tbody tr th {\n",
       "        vertical-align: top;\n",
       "    }\n",
       "\n",
       "    .dataframe thead th {\n",
       "        text-align: right;\n",
       "    }\n",
       "</style>\n",
       "<table border=\"1\" class=\"dataframe\">\n",
       "  <thead>\n",
       "    <tr style=\"text-align: right;\">\n",
       "      <th></th>\n",
       "      <th>total</th>\n",
       "    </tr>\n",
       "    <tr>\n",
       "      <th>month</th>\n",
       "      <th></th>\n",
       "    </tr>\n",
       "  </thead>\n",
       "  <tbody>\n",
       "    <tr>\n",
       "      <th>11</th>\n",
       "      <td>65578.097531</td>\n",
       "    </tr>\n",
       "    <tr>\n",
       "      <th>12</th>\n",
       "      <td>59918.407885</td>\n",
       "    </tr>\n",
       "  </tbody>\n",
       "</table>\n",
       "</div>"
      ],
      "text/plain": [
       "              total\n",
       "month              \n",
       "11     65578.097531\n",
       "12     59918.407885"
      ]
     },
     "execution_count": 18,
     "metadata": {},
     "output_type": "execute_result"
    }
   ],
   "source": [
    "all_traffic_m_2020 = ddf2.pivot_table(\"total\", \"month\")\n",
    "all_traffic_m_2020.tail(2)"
   ]
  },
  {
   "cell_type": "code",
   "execution_count": 19,
   "id": "2a3bacbe",
   "metadata": {},
   "outputs": [
    {
     "data": {
      "text/html": [
       "<div>\n",
       "<style scoped>\n",
       "    .dataframe tbody tr th:only-of-type {\n",
       "        vertical-align: middle;\n",
       "    }\n",
       "\n",
       "    .dataframe tbody tr th {\n",
       "        vertical-align: top;\n",
       "    }\n",
       "\n",
       "    .dataframe thead th {\n",
       "        text-align: right;\n",
       "    }\n",
       "</style>\n",
       "<table border=\"1\" class=\"dataframe\">\n",
       "  <thead>\n",
       "    <tr style=\"text-align: right;\">\n",
       "      <th></th>\n",
       "      <th>total</th>\n",
       "    </tr>\n",
       "    <tr>\n",
       "      <th>month</th>\n",
       "      <th></th>\n",
       "    </tr>\n",
       "  </thead>\n",
       "  <tbody>\n",
       "    <tr>\n",
       "      <th>11</th>\n",
       "      <td>65578.097531</td>\n",
       "    </tr>\n",
       "    <tr>\n",
       "      <th>12</th>\n",
       "      <td>59918.407885</td>\n",
       "    </tr>\n",
       "  </tbody>\n",
       "</table>\n",
       "</div>"
      ],
      "text/plain": [
       "              total\n",
       "month              \n",
       "11     65578.097531\n",
       "12     59918.407885"
      ]
     },
     "execution_count": 19,
     "metadata": {},
     "output_type": "execute_result"
    }
   ],
   "source": [
    "all_traffic_m_2020.loc[:, \"total\"] = all_traffic_m_2020.sum(axis=1)\n",
    "all_traffic_m_2020.tail(2)"
   ]
  },
  {
   "cell_type": "markdown",
   "id": "acbd3d0e",
   "metadata": {},
   "source": [
    "### 지역 일반_transpor data 2020"
   ]
  },
  {
   "cell_type": "code",
   "execution_count": 20,
   "id": "6b91bacb",
   "metadata": {},
   "outputs": [
    {
     "data": {
      "text/html": [
       "<div>\n",
       "<style scoped>\n",
       "    .dataframe tbody tr th:only-of-type {\n",
       "        vertical-align: middle;\n",
       "    }\n",
       "\n",
       "    .dataframe tbody tr th {\n",
       "        vertical-align: top;\n",
       "    }\n",
       "\n",
       "    .dataframe thead th {\n",
       "        text-align: right;\n",
       "    }\n",
       "</style>\n",
       "<table border=\"1\" class=\"dataframe\">\n",
       "  <thead>\n",
       "    <tr style=\"text-align: right;\">\n",
       "      <th></th>\n",
       "      <th>total</th>\n",
       "    </tr>\n",
       "    <tr>\n",
       "      <th>구</th>\n",
       "      <th></th>\n",
       "    </tr>\n",
       "  </thead>\n",
       "  <tbody>\n",
       "    <tr>\n",
       "      <th>영등포구</th>\n",
       "      <td>61907.190164</td>\n",
       "    </tr>\n",
       "    <tr>\n",
       "      <th>중구</th>\n",
       "      <td>31362.805328</td>\n",
       "    </tr>\n",
       "  </tbody>\n",
       "</table>\n",
       "</div>"
      ],
      "text/plain": [
       "             total\n",
       "구                 \n",
       "영등포구  61907.190164\n",
       "중구    31362.805328"
      ]
     },
     "execution_count": 20,
     "metadata": {},
     "output_type": "execute_result"
    }
   ],
   "source": [
    "all_traffic_r_2020 = ddf2.pivot_table(\"total\", \"구\")\n",
    "all_traffic_r_2020.tail(2)"
   ]
  },
  {
   "cell_type": "markdown",
   "id": "8c6794cf",
   "metadata": {},
   "source": [
    "###  * 결측 데이터 검색"
   ]
  },
  {
   "cell_type": "code",
   "execution_count": 21,
   "id": "93cf8eae",
   "metadata": {},
   "outputs": [
    {
     "data": {
      "text/plain": [
       "날짜       0\n",
       "시간       0\n",
       "지명       0\n",
       "발생량      0\n",
       "도착량      0\n",
       "count    0\n",
       "월        0\n",
       "dtype: int64"
      ]
     },
     "execution_count": 21,
     "metadata": {},
     "output_type": "execute_result"
    }
   ],
   "source": [
    "df1.isna().sum()"
   ]
  },
  {
   "cell_type": "code",
   "execution_count": 22,
   "id": "50f86972",
   "metadata": {},
   "outputs": [
    {
     "data": {
      "text/plain": [
       "날짜       0\n",
       "시간       0\n",
       "지명       0\n",
       "발생량      0\n",
       "도착량      0\n",
       "count    0\n",
       "월        0\n",
       "dtype: int64"
      ]
     },
     "execution_count": 22,
     "metadata": {},
     "output_type": "execute_result"
    }
   ],
   "source": [
    "df2.isna().sum()"
   ]
  },
  {
   "cell_type": "code",
   "execution_count": 23,
   "id": "ea206002",
   "metadata": {},
   "outputs": [
    {
     "data": {
      "image/png": "[encoded data removed]",
      "text/plain": [
       "<Figure size 1800x720 with 2 Axes>"
      ]
     },
     "metadata": {
      "image/png": {
       "height": 620,
       "width": 1490
      },
      "needs_background": "light"
     },
     "output_type": "display_data"
    }
   ],
   "source": [
    "msno.matrix(df1)\n",
    "plt.show()\n",
    "\n",
    "#warnings.filterwarnings('ignore')"
   ]
  },
  {
   "cell_type": "code",
   "execution_count": 24,
   "id": "1f0280cf",
   "metadata": {},
   "outputs": [
    {
     "data": {
      "image/png": "[encoded data removed]",
      "text/plain": [
       "<Figure size 1800x720 with 2 Axes>"
      ]
     },
     "metadata": {
      "image/png": {
       "height": 620,
       "width": 1490
      },
      "needs_background": "light"
     },
     "output_type": "display_data"
    }
   ],
   "source": [
    "msno.matrix(df2)\n",
    "plt.show()\n",
    "#warnings.filterwarnings('ignore')"
   ]
  },
  {
   "cell_type": "markdown",
   "id": "84594331",
   "metadata": {},
   "source": [
    "## 1-1 2019_2020 서울 전체 대중교통량 비교"
   ]
  },
  {
   "cell_type": "code",
   "execution_count": 25,
   "id": "38df6cb6",
   "metadata": {},
   "outputs": [],
   "source": [
    "y1 = pub_traffic_m_2019[\"total\"].sum() \n",
    "y2 = pub_traffic_m_2020[\"total\"].sum()\n",
    "pub_rate_2019 = round(((y2 - y1) / y1 * 100), 2) # 감소량"
   ]
  },
  {
   "cell_type": "code",
   "execution_count": 26,
   "id": "27fdbfd5",
   "metadata": {},
   "outputs": [
    {
     "name": "stdout",
     "output_type": "stream",
     "text": [
      "2019년 평균 통행량 : 676359867 대\n"
     ]
    }
   ],
   "source": [
    "pub_tans_2019 = round(pub_traffic_m_2019[\"total\"].mean())\n",
    "print(\"2019년 평균 통행량 :\", pub_tans_2019,\"대\")"
   ]
  },
  {
   "cell_type": "code",
   "execution_count": 27,
   "id": "40c28493",
   "metadata": {},
   "outputs": [
    {
     "data": {
      "image/png": "[encoded data removed]",
      "text/plain": [
       "<Figure size 432x288 with 1 Axes>"
      ]
     },
     "metadata": {
      "image/png": {
       "height": 265,
       "width": 370
      },
      "needs_background": "light"
     },
     "output_type": "display_data"
    }
   ],
   "source": [
    "x1 = 0\n",
    "x2 = 1\n",
    "y1 = pub_traffic_m_2019[\"total\"].sum() #2019 Total 교통량\n",
    "y2 = pub_traffic_m_2020[\"total\"].sum() #2020 Total 교통량\n",
    "\n",
    "plt.bar(x1,y1, label='2019 traffic', color='b')\n",
    "plt.bar(x2,y2, label='2020 traffic', color='g')\n",
    "plt.legend()\n",
    "plt.ylim([0,70*1000000000/6])\n",
    "plt.text(0.17,85*100000000,pub_rate_2019,fontsize=20)\n",
    "plt.text(0.5,85*100000000,\"% 감소\",fontsize=20)\n",
    "plt.title(\"2019_2020 서울 전체 대중교통량 비교\", fontsize = 15)\n",
    "\n",
    "plt.show()"
   ]
  },
  {
   "cell_type": "markdown",
   "id": "322b4ff0",
   "metadata": {},
   "source": [
    "## 1-2 2019_2020 서울 전체 차량 통행량 비교"
   ]
  },
  {
   "cell_type": "code",
   "execution_count": 32,
   "id": "a66ad57a",
   "metadata": {},
   "outputs": [
    {
     "data": {
      "text/plain": [
       "-5.73"
      ]
     },
     "execution_count": 32,
     "metadata": {},
     "output_type": "execute_result"
    }
   ],
   "source": [
    "y_1 = all_traffic_m_2019[\"total\"].sum()\n",
    "y_2 = all_traffic_m_2020[\"total\"].sum()\n",
    "all_rate_2019 = round(((y_2 - y_1) / y_1 * 100), 2) # 감소량\n",
    "all_rate_2019"
   ]
  },
  {
   "cell_type": "code",
   "execution_count": 33,
   "id": "70bfd087",
   "metadata": {},
   "outputs": [],
   "source": [
    "y_1 = all_traffic_m_2019[\"total\"].sum() \n",
    "y_2 = all_traffic_m_2020[\"total\"].sum()\n",
    "all_rate_2019 = round(((y_2 - y_1) / y_1 * 100), 2) # 감소량"
   ]
  },
  {
   "cell_type": "code",
   "execution_count": 45,
   "id": "08b96088",
   "metadata": {},
   "outputs": [
    {
     "data": {
      "image/png": "[encoded data removed]",
      "text/plain": [
       "<Figure size 432x288 with 1 Axes>"
      ]
     },
     "metadata": {
      "image/png": {
       "height": 268,
       "width": 370
      },
      "needs_background": "light"
     },
     "output_type": "display_data"
    }
   ],
   "source": [
    "x1 = 0\n",
    "x2 = 1\n",
    "y_1 = all_traffic_m_2019[\"total\"].sum() #2019 Total 교통량\n",
    "y_2 = all_traffic_m_2020[\"total\"].sum() #2020 Total 교통량\n",
    "\n",
    "plt.bar(x1,y_1, label='2019 traffic', color='b')\n",
    "plt.bar(x2,y_2, label='2020 traffic', color='g')\n",
    "\n",
    "plt.legend()\n",
    "plt.text(0.17,87*10000,all_rate_2019, fontsize=20) #감소량\n",
    "plt.text(0.5,87*10000,\"% 감소\",fontsize=20) # 기호 및 설명\n",
    "plt.ylim([0,1000000])\n",
    "plt.title(\"2019-2020 전체 교통량 비교\", fontsize=20)\n",
    "\n",
    "plt.show()"
   ]
  },
  {
   "cell_type": "markdown",
   "id": "8f6cc7ea",
   "metadata": {},
   "source": [
    "# 2-1 2019-2020 월별 서울 대중 교통량 비교"
   ]
  },
  {
   "cell_type": "code",
   "execution_count": 46,
   "id": "acoustic-emphasis",
   "metadata": {},
   "outputs": [
    {
     "name": "stdout",
     "output_type": "stream",
     "text": [
      "2019년 평균 통행량 : 676359867 대\n"
     ]
    }
   ],
   "source": [
    "pub_tans_2019 = round(pub_traffic_m_2019[\"total\"].mean())\n",
    "print(\"2019년 평균 통행량 :\", pub_tans_2019,\"대\")"
   ]
  },
  {
   "cell_type": "code",
   "execution_count": 47,
   "id": "turned-bankruptcy",
   "metadata": {},
   "outputs": [
    {
     "data": {
      "text/html": [
       "<div>\n",
       "<style scoped>\n",
       "    .dataframe tbody tr th:only-of-type {\n",
       "        vertical-align: middle;\n",
       "    }\n",
       "\n",
       "    .dataframe tbody tr th {\n",
       "        vertical-align: top;\n",
       "    }\n",
       "\n",
       "    .dataframe thead th {\n",
       "        text-align: right;\n",
       "    }\n",
       "</style>\n",
       "<table border=\"1\" class=\"dataframe\">\n",
       "  <thead>\n",
       "    <tr style=\"text-align: right;\">\n",
       "      <th></th>\n",
       "      <th>total</th>\n",
       "    </tr>\n",
       "    <tr>\n",
       "      <th>월</th>\n",
       "      <th></th>\n",
       "    </tr>\n",
       "  </thead>\n",
       "  <tbody>\n",
       "    <tr>\n",
       "      <th>2019-03</th>\n",
       "      <td>695974373</td>\n",
       "    </tr>\n",
       "    <tr>\n",
       "      <th>2019-04</th>\n",
       "      <td>699471154</td>\n",
       "    </tr>\n",
       "    <tr>\n",
       "      <th>2019-05</th>\n",
       "      <td>719349046</td>\n",
       "    </tr>\n",
       "    <tr>\n",
       "      <th>2019-07</th>\n",
       "      <td>695624147</td>\n",
       "    </tr>\n",
       "    <tr>\n",
       "      <th>2019-10</th>\n",
       "      <td>711970874</td>\n",
       "    </tr>\n",
       "    <tr>\n",
       "      <th>2019-11</th>\n",
       "      <td>690195489</td>\n",
       "    </tr>\n",
       "    <tr>\n",
       "      <th>2019-12</th>\n",
       "      <td>697837963</td>\n",
       "    </tr>\n",
       "  </tbody>\n",
       "</table>\n",
       "</div>"
      ],
      "text/plain": [
       "             total\n",
       "월                 \n",
       "2019-03  695974373\n",
       "2019-04  699471154\n",
       "2019-05  719349046\n",
       "2019-07  695624147\n",
       "2019-10  711970874\n",
       "2019-11  690195489\n",
       "2019-12  697837963"
      ]
     },
     "execution_count": 47,
     "metadata": {},
     "output_type": "execute_result"
    }
   ],
   "source": [
    "pub_compare_2019 = pub_traffic_m_2019[pub_traffic_m_2019[\"total\"] > pub_traffic_m_2019[\"total\"].mean()]\n",
    "df_pub_compare_2019 = pd.DataFrame(pub_compare_2019, columns=[\"total\"])\n",
    "df_pub_compare_2019"
   ]
  },
  {
   "cell_type": "code",
   "execution_count": 48,
   "id": "secure-nightmare",
   "metadata": {},
   "outputs": [
    {
     "name": "stdout",
     "output_type": "stream",
     "text": [
      "2020년 평균 통행량 : 500059699 대\n"
     ]
    }
   ],
   "source": [
    "pub_tans_2020 = round(pub_traffic_m_2020[\"total\"].mean())\n",
    "print(\"2020년 평균 통행량 :\", pub_tans_2020,\"대\")"
   ]
  },
  {
   "cell_type": "code",
   "execution_count": 49,
   "id": "unnecessary-stack",
   "metadata": {},
   "outputs": [
    {
     "data": {
      "text/html": [
       "<div>\n",
       "<style scoped>\n",
       "    .dataframe tbody tr th:only-of-type {\n",
       "        vertical-align: middle;\n",
       "    }\n",
       "\n",
       "    .dataframe tbody tr th {\n",
       "        vertical-align: top;\n",
       "    }\n",
       "\n",
       "    .dataframe thead th {\n",
       "        text-align: right;\n",
       "    }\n",
       "</style>\n",
       "<table border=\"1\" class=\"dataframe\">\n",
       "  <thead>\n",
       "    <tr style=\"text-align: right;\">\n",
       "      <th></th>\n",
       "      <th>total</th>\n",
       "    </tr>\n",
       "    <tr>\n",
       "      <th>월</th>\n",
       "      <th></th>\n",
       "    </tr>\n",
       "  </thead>\n",
       "  <tbody>\n",
       "    <tr>\n",
       "      <th>2020-01</th>\n",
       "      <td>619873025</td>\n",
       "    </tr>\n",
       "    <tr>\n",
       "      <th>2020-02</th>\n",
       "      <td>518782694</td>\n",
       "    </tr>\n",
       "    <tr>\n",
       "      <th>2020-05</th>\n",
       "      <td>503179606</td>\n",
       "    </tr>\n",
       "    <tr>\n",
       "      <th>2020-06</th>\n",
       "      <td>530270196</td>\n",
       "    </tr>\n",
       "    <tr>\n",
       "      <th>2020-07</th>\n",
       "      <td>566899895</td>\n",
       "    </tr>\n",
       "    <tr>\n",
       "      <th>2020-10</th>\n",
       "      <td>510247343</td>\n",
       "    </tr>\n",
       "    <tr>\n",
       "      <th>2020-11</th>\n",
       "      <td>516629667</td>\n",
       "    </tr>\n",
       "  </tbody>\n",
       "</table>\n",
       "</div>"
      ],
      "text/plain": [
       "             total\n",
       "월                 \n",
       "2020-01  619873025\n",
       "2020-02  518782694\n",
       "2020-05  503179606\n",
       "2020-06  530270196\n",
       "2020-07  566899895\n",
       "2020-10  510247343\n",
       "2020-11  516629667"
      ]
     },
     "execution_count": 49,
     "metadata": {},
     "output_type": "execute_result"
    }
   ],
   "source": [
    "pub_compare_2020 = pub_traffic_m_2020[pub_traffic_m_2020[\"total\"] > pub_traffic_m_2020[\"total\"].mean()]\n",
    "df_pub_compare_2020 = pd.DataFrame(pub_compare_2020, columns=[\"total\"])\n",
    "df_pub_compare_2020"
   ]
  },
  {
   "cell_type": "code",
   "execution_count": 50,
   "id": "answering-sherman",
   "metadata": {},
   "outputs": [
    {
     "data": {
      "image/png": "[encoded data removed]",
      "text/plain": [
       "<Figure size 1440x720 with 1 Axes>"
      ]
     },
     "metadata": {
      "image/png": {
       "height": 589,
       "width": 1151
      },
      "needs_background": "light"
     },
     "output_type": "display_data"
    }
   ],
   "source": [
    "#X1 = [\"1월\",\"2월\",\"3월\",\"4월\",\"5월\",\"6월\",\"7월\",\"8월\",\"9월\",\"10월\",\"11월\",\"12월\"]\n",
    "X = [\"1월\",\"2월\",\"3월\",\"4월\",\"5월\",\"6월\",\"7월\",\"8월\",\"9월\",\"10월\",\"11월\",\"12월\"]\n",
    "y1 = pub_traffic_m_2019.total\n",
    "y2 = pub_traffic_m_2020.total\n",
    "\n",
    "plt.figure(figsize=(20, 10))\n",
    "plt.plot(X,y1, label='2019 traffic(month)', color='b', marker='o')\n",
    "plt.plot(X,y2, label='2020 traffic(month)', color='g', marker='*')\n",
    "\n",
    "plt.legend()\n",
    "plt.title(\"2019-2020 Pub_Traffic Counting\")\n",
    "plt.axhline(y=pub_tans_2019, color='r', linewidth=1)\n",
    "plt.axhline(y=pub_tans_2020, color='r', linewidth=1)\n",
    "\n",
    "plt.show()"
   ]
  },
  {
   "cell_type": "markdown",
   "id": "2dcc11db",
   "metadata": {},
   "source": [
    "# 2-2 2019-2020 월별 차량 통행량 비교"
   ]
  },
  {
   "cell_type": "code",
   "execution_count": 51,
   "id": "armed-electronics",
   "metadata": {},
   "outputs": [
    {
     "name": "stdout",
     "output_type": "stream",
     "text": [
      "2019년 평균 통행량 : 70440 대\n"
     ]
    }
   ],
   "source": [
    "all_tans_2019 = round(all_traffic_m_2019[\"total\"].mean())\n",
    "print(\"2019년 평균 통행량 :\", all_tans_2019,\"대\")"
   ]
  },
  {
   "cell_type": "code",
   "execution_count": 52,
   "id": "oriental-stuart",
   "metadata": {},
   "outputs": [
    {
     "data": {
      "text/html": [
       "<div>\n",
       "<style scoped>\n",
       "    .dataframe tbody tr th:only-of-type {\n",
       "        vertical-align: middle;\n",
       "    }\n",
       "\n",
       "    .dataframe tbody tr th {\n",
       "        vertical-align: top;\n",
       "    }\n",
       "\n",
       "    .dataframe thead th {\n",
       "        text-align: right;\n",
       "    }\n",
       "</style>\n",
       "<table border=\"1\" class=\"dataframe\">\n",
       "  <thead>\n",
       "    <tr style=\"text-align: right;\">\n",
       "      <th></th>\n",
       "      <th>total</th>\n",
       "    </tr>\n",
       "    <tr>\n",
       "      <th>month</th>\n",
       "      <th></th>\n",
       "    </tr>\n",
       "  </thead>\n",
       "  <tbody>\n",
       "    <tr>\n",
       "      <th>4</th>\n",
       "      <td>72791.226420</td>\n",
       "    </tr>\n",
       "    <tr>\n",
       "      <th>5</th>\n",
       "      <td>72098.902509</td>\n",
       "    </tr>\n",
       "    <tr>\n",
       "      <th>11</th>\n",
       "      <td>72354.783704</td>\n",
       "    </tr>\n",
       "    <tr>\n",
       "      <th>12</th>\n",
       "      <td>71778.392115</td>\n",
       "    </tr>\n",
       "  </tbody>\n",
       "</table>\n",
       "</div>"
      ],
      "text/plain": [
       "              total\n",
       "month              \n",
       "4      72791.226420\n",
       "5      72098.902509\n",
       "11     72354.783704\n",
       "12     71778.392115"
      ]
     },
     "execution_count": 52,
     "metadata": {},
     "output_type": "execute_result"
    }
   ],
   "source": [
    "all_compare_2019 = all_traffic_m_2019[all_traffic_m_2019[\"total\"] > all_traffic_m_2019[\"total\"].mean()]\n",
    "df_all_compare_2019 = pd.DataFrame(all_compare_2019, columns=[\"total\"])\n",
    "df_all_compare_2019"
   ]
  },
  {
   "cell_type": "code",
   "execution_count": 53,
   "id": "95d010fe",
   "metadata": {},
   "outputs": [
    {
     "name": "stdout",
     "output_type": "stream",
     "text": [
      "2020년 평균 통행량 : 66401 대\n"
     ]
    }
   ],
   "source": [
    "all_tans_2020 = round(all_traffic_m_2020[\"total\"].mean())\n",
    "print(\"2020년 평균 통행량 :\", all_tans_2020,\"대\")"
   ]
  },
  {
   "cell_type": "code",
   "execution_count": 54,
   "id": "183c236d",
   "metadata": {},
   "outputs": [
    {
     "data": {
      "text/html": [
       "<div>\n",
       "<style scoped>\n",
       "    .dataframe tbody tr th:only-of-type {\n",
       "        vertical-align: middle;\n",
       "    }\n",
       "\n",
       "    .dataframe tbody tr th {\n",
       "        vertical-align: top;\n",
       "    }\n",
       "\n",
       "    .dataframe thead th {\n",
       "        text-align: right;\n",
       "    }\n",
       "</style>\n",
       "<table border=\"1\" class=\"dataframe\">\n",
       "  <thead>\n",
       "    <tr style=\"text-align: right;\">\n",
       "      <th></th>\n",
       "      <th>total</th>\n",
       "    </tr>\n",
       "    <tr>\n",
       "      <th>month</th>\n",
       "      <th></th>\n",
       "    </tr>\n",
       "  </thead>\n",
       "  <tbody>\n",
       "    <tr>\n",
       "      <th>1</th>\n",
       "      <td>68659.238710</td>\n",
       "    </tr>\n",
       "    <tr>\n",
       "      <th>2</th>\n",
       "      <td>67650.349170</td>\n",
       "    </tr>\n",
       "    <tr>\n",
       "      <th>4</th>\n",
       "      <td>68121.121481</td>\n",
       "    </tr>\n",
       "    <tr>\n",
       "      <th>5</th>\n",
       "      <td>69638.799044</td>\n",
       "    </tr>\n",
       "    <tr>\n",
       "      <th>6</th>\n",
       "      <td>70124.867654</td>\n",
       "    </tr>\n",
       "    <tr>\n",
       "      <th>7</th>\n",
       "      <td>69819.593787</td>\n",
       "    </tr>\n",
       "  </tbody>\n",
       "</table>\n",
       "</div>"
      ],
      "text/plain": [
       "              total\n",
       "month              \n",
       "1      68659.238710\n",
       "2      67650.349170\n",
       "4      68121.121481\n",
       "5      69638.799044\n",
       "6      70124.867654\n",
       "7      69819.593787"
      ]
     },
     "execution_count": 54,
     "metadata": {},
     "output_type": "execute_result"
    }
   ],
   "source": [
    "compare_2020 = all_traffic_m_2020[all_traffic_m_2020[\"total\"] > all_traffic_m_2020[\"total\"].mean()]\n",
    "compare_df_2020 = pd.DataFrame(compare_2020, columns=[\"total\"])\n",
    "compare_df_2020"
   ]
  },
  {
   "cell_type": "code",
   "execution_count": 55,
   "id": "irish-legend",
   "metadata": {},
   "outputs": [
    {
     "data": {
      "image/png": "[encoded data removed]",
      "text/plain": [
       "<Figure size 1440x720 with 1 Axes>"
      ]
     },
     "metadata": {
      "image/png": {
       "height": 589,
       "width": 1165
      },
      "needs_background": "light"
     },
     "output_type": "display_data"
    }
   ],
   "source": [
    "#X1 = [\"1월\",\"2월\",\"3월\",\"4월\",\"5월\",\"6월\",\"7월\",\"8월\",\"9월\",\"10월\",\"11월\",\"12월\"]\n",
    "X = [\"1월\",\"2월\",\"3월\",\"4월\",\"5월\",\"6월\",\"7월\",\"8월\",\"9월\",\"10월\",\"11월\",\"12월\"]\n",
    "y1 = all_traffic_m_2019.total\n",
    "y2 = all_traffic_m_2020.total\n",
    "\n",
    "plt.figure(figsize=(20, 10))\n",
    "plt.plot(X,y1, label='2019 traffic(month)', color='b', marker='o')\n",
    "plt.plot(X,y2, label='2020 traffic(month)', color='g', marker='*')\n",
    "\n",
    "plt.legend()\n",
    "plt.title(\"2019-2020 Traffic Counting\")\n",
    "plt.axhline(y=all_tans_2019, color='r', linewidth=1)\n",
    "plt.axhline(y=all_tans_2020, color='r', linewidth=1)\n",
    "\n",
    "plt.show()"
   ]
  },
  {
   "cell_type": "markdown",
   "id": "84d8a6c6",
   "metadata": {},
   "source": [
    "## 3-1. 요일별 대중 교통량 출력"
   ]
  },
  {
   "cell_type": "code",
   "execution_count": 56,
   "id": "40caa51b",
   "metadata": {},
   "outputs": [
    {
     "data": {
      "text/html": [
       "<div>\n",
       "<style scoped>\n",
       "    .dataframe tbody tr th:only-of-type {\n",
       "        vertical-align: middle;\n",
       "    }\n",
       "\n",
       "    .dataframe tbody tr th {\n",
       "        vertical-align: top;\n",
       "    }\n",
       "\n",
       "    .dataframe thead th {\n",
       "        text-align: right;\n",
       "    }\n",
       "</style>\n",
       "<table border=\"1\" class=\"dataframe\">\n",
       "  <thead>\n",
       "    <tr style=\"text-align: right;\">\n",
       "      <th></th>\n",
       "      <th>날짜</th>\n",
       "      <th>count</th>\n",
       "    </tr>\n",
       "  </thead>\n",
       "  <tbody>\n",
       "    <tr>\n",
       "      <th>0</th>\n",
       "      <td>2019-01-01(화)</td>\n",
       "      <td>3869</td>\n",
       "    </tr>\n",
       "    <tr>\n",
       "      <th>1</th>\n",
       "      <td>2019-01-01(화)</td>\n",
       "      <td>3393</td>\n",
       "    </tr>\n",
       "    <tr>\n",
       "      <th>2</th>\n",
       "      <td>2019-01-01(화)</td>\n",
       "      <td>1571</td>\n",
       "    </tr>\n",
       "    <tr>\n",
       "      <th>3</th>\n",
       "      <td>2019-01-01(화)</td>\n",
       "      <td>4798</td>\n",
       "    </tr>\n",
       "    <tr>\n",
       "      <th>4</th>\n",
       "      <td>2019-01-01(화)</td>\n",
       "      <td>3785</td>\n",
       "    </tr>\n",
       "    <tr>\n",
       "      <th>...</th>\n",
       "      <td>...</td>\n",
       "      <td>...</td>\n",
       "    </tr>\n",
       "    <tr>\n",
       "      <th>218995</th>\n",
       "      <td>2019-12-31(화)</td>\n",
       "      <td>11500</td>\n",
       "    </tr>\n",
       "    <tr>\n",
       "      <th>218996</th>\n",
       "      <td>2019-12-31(화)</td>\n",
       "      <td>17901</td>\n",
       "    </tr>\n",
       "    <tr>\n",
       "      <th>218997</th>\n",
       "      <td>2019-12-31(화)</td>\n",
       "      <td>26981</td>\n",
       "    </tr>\n",
       "    <tr>\n",
       "      <th>218998</th>\n",
       "      <td>2019-12-31(화)</td>\n",
       "      <td>29817</td>\n",
       "    </tr>\n",
       "    <tr>\n",
       "      <th>218999</th>\n",
       "      <td>2019-12-31(화)</td>\n",
       "      <td>13772</td>\n",
       "    </tr>\n",
       "  </tbody>\n",
       "</table>\n",
       "<p>219000 rows × 2 columns</p>\n",
       "</div>"
      ],
      "text/plain": [
       "                   날짜  count\n",
       "0       2019-01-01(화)   3869\n",
       "1       2019-01-01(화)   3393\n",
       "2       2019-01-01(화)   1571\n",
       "3       2019-01-01(화)   4798\n",
       "4       2019-01-01(화)   3785\n",
       "...               ...    ...\n",
       "218995  2019-12-31(화)  11500\n",
       "218996  2019-12-31(화)  17901\n",
       "218997  2019-12-31(화)  26981\n",
       "218998  2019-12-31(화)  29817\n",
       "218999  2019-12-31(화)  13772\n",
       "\n",
       "[219000 rows x 2 columns]"
      ]
     },
     "execution_count": 56,
     "metadata": {},
     "output_type": "execute_result"
    }
   ],
   "source": [
    "df1 = pd.read_csv(\"2019.csv\")\n",
    "day_pub_traffic_2019 = df1.drop(columns=[\"시간\", \"지명\", \"발생량\", \"도착량\", \"월\"])\n",
    "day_pub_traffic_2019"
   ]
  },
  {
   "cell_type": "code",
   "execution_count": 57,
   "id": "36723f7d",
   "metadata": {},
   "outputs": [],
   "source": [
    "data, weeks = [], [\"월\", \"화\", \"수\", \"목\", \"금\", \"토\", \"일\"]\n",
    "for week in weeks:\n",
    "    data.append(day_pub_traffic_2019[day_pub_traffic_2019[\"날짜\"].str.contains(week)][\"count\"].sum())"
   ]
  },
  {
   "cell_type": "code",
   "execution_count": 58,
   "id": "4775e4d4",
   "metadata": {},
   "outputs": [
    {
     "data": {
      "text/html": [
       "<div>\n",
       "<style scoped>\n",
       "    .dataframe tbody tr th:only-of-type {\n",
       "        vertical-align: middle;\n",
       "    }\n",
       "\n",
       "    .dataframe tbody tr th {\n",
       "        vertical-align: top;\n",
       "    }\n",
       "\n",
       "    .dataframe thead th {\n",
       "        text-align: right;\n",
       "    }\n",
       "</style>\n",
       "<table border=\"1\" class=\"dataframe\">\n",
       "  <thead>\n",
       "    <tr style=\"text-align: right;\">\n",
       "      <th></th>\n",
       "      <th>요일</th>\n",
       "      <th>total</th>\n",
       "    </tr>\n",
       "  </thead>\n",
       "  <tbody>\n",
       "    <tr>\n",
       "      <th>0</th>\n",
       "      <td>월</td>\n",
       "      <td>1248519518</td>\n",
       "    </tr>\n",
       "    <tr>\n",
       "      <th>1</th>\n",
       "      <td>화</td>\n",
       "      <td>1295266170</td>\n",
       "    </tr>\n",
       "    <tr>\n",
       "      <th>2</th>\n",
       "      <td>수</td>\n",
       "      <td>1271578659</td>\n",
       "    </tr>\n",
       "    <tr>\n",
       "      <th>3</th>\n",
       "      <td>목</td>\n",
       "      <td>1261426762</td>\n",
       "    </tr>\n",
       "    <tr>\n",
       "      <th>4</th>\n",
       "      <td>금</td>\n",
       "      <td>1317295673</td>\n",
       "    </tr>\n",
       "    <tr>\n",
       "      <th>5</th>\n",
       "      <td>토</td>\n",
       "      <td>989868437</td>\n",
       "    </tr>\n",
       "    <tr>\n",
       "      <th>6</th>\n",
       "      <td>일</td>\n",
       "      <td>732363190</td>\n",
       "    </tr>\n",
       "  </tbody>\n",
       "</table>\n",
       "</div>"
      ],
      "text/plain": [
       "  요일       total\n",
       "0  월  1248519518\n",
       "1  화  1295266170\n",
       "2  수  1271578659\n",
       "3  목  1261426762\n",
       "4  금  1317295673\n",
       "5  토   989868437\n",
       "6  일   732363190"
      ]
     },
     "execution_count": 58,
     "metadata": {},
     "output_type": "execute_result"
    }
   ],
   "source": [
    "day_pub_traffic_2019 = pd.DataFrame(data=data, index=weeks).reset_index()\n",
    "day_pub_traffic_2019.columns = [\"요일\", \"total\"]\n",
    "day_pub_traffic_2019"
   ]
  },
  {
   "cell_type": "code",
   "execution_count": 59,
   "id": "08795ae0",
   "metadata": {},
   "outputs": [
    {
     "data": {
      "text/html": [
       "<div>\n",
       "<style scoped>\n",
       "    .dataframe tbody tr th:only-of-type {\n",
       "        vertical-align: middle;\n",
       "    }\n",
       "\n",
       "    .dataframe tbody tr th {\n",
       "        vertical-align: top;\n",
       "    }\n",
       "\n",
       "    .dataframe thead th {\n",
       "        text-align: right;\n",
       "    }\n",
       "</style>\n",
       "<table border=\"1\" class=\"dataframe\">\n",
       "  <thead>\n",
       "    <tr style=\"text-align: right;\">\n",
       "      <th></th>\n",
       "      <th>날짜</th>\n",
       "      <th>count</th>\n",
       "    </tr>\n",
       "  </thead>\n",
       "  <tbody>\n",
       "    <tr>\n",
       "      <th>0</th>\n",
       "      <td>2020-01-01(수)</td>\n",
       "      <td>2873</td>\n",
       "    </tr>\n",
       "    <tr>\n",
       "      <th>1</th>\n",
       "      <td>2020-01-01(수)</td>\n",
       "      <td>3251</td>\n",
       "    </tr>\n",
       "    <tr>\n",
       "      <th>2</th>\n",
       "      <td>2020-01-01(수)</td>\n",
       "      <td>1877</td>\n",
       "    </tr>\n",
       "    <tr>\n",
       "      <th>3</th>\n",
       "      <td>2020-01-01(수)</td>\n",
       "      <td>3677</td>\n",
       "    </tr>\n",
       "    <tr>\n",
       "      <th>4</th>\n",
       "      <td>2020-01-01(수)</td>\n",
       "      <td>3077</td>\n",
       "    </tr>\n",
       "    <tr>\n",
       "      <th>...</th>\n",
       "      <td>...</td>\n",
       "      <td>...</td>\n",
       "    </tr>\n",
       "    <tr>\n",
       "      <th>219595</th>\n",
       "      <td>2020-12-31(목)</td>\n",
       "      <td>2483</td>\n",
       "    </tr>\n",
       "    <tr>\n",
       "      <th>219596</th>\n",
       "      <td>2020-12-31(목)</td>\n",
       "      <td>2779</td>\n",
       "    </tr>\n",
       "    <tr>\n",
       "      <th>219597</th>\n",
       "      <td>2020-12-31(목)</td>\n",
       "      <td>3203</td>\n",
       "    </tr>\n",
       "    <tr>\n",
       "      <th>219598</th>\n",
       "      <td>2020-12-31(목)</td>\n",
       "      <td>3305</td>\n",
       "    </tr>\n",
       "    <tr>\n",
       "      <th>219599</th>\n",
       "      <td>2020-12-31(목)</td>\n",
       "      <td>3142</td>\n",
       "    </tr>\n",
       "  </tbody>\n",
       "</table>\n",
       "<p>219600 rows × 2 columns</p>\n",
       "</div>"
      ],
      "text/plain": [
       "                   날짜  count\n",
       "0       2020-01-01(수)   2873\n",
       "1       2020-01-01(수)   3251\n",
       "2       2020-01-01(수)   1877\n",
       "3       2020-01-01(수)   3677\n",
       "4       2020-01-01(수)   3077\n",
       "...               ...    ...\n",
       "219595  2020-12-31(목)   2483\n",
       "219596  2020-12-31(목)   2779\n",
       "219597  2020-12-31(목)   3203\n",
       "219598  2020-12-31(목)   3305\n",
       "219599  2020-12-31(목)   3142\n",
       "\n",
       "[219600 rows x 2 columns]"
      ]
     },
     "execution_count": 59,
     "metadata": {},
     "output_type": "execute_result"
    }
   ],
   "source": [
    "df2 = pd.read_csv(\"2020.csv\")\n",
    "day_pub_traffic_2020 = df2.drop(columns=[\"시간\", \"지명\", \"발생량\", \"도착량\", \"월\"])\n",
    "day_pub_traffic_2020"
   ]
  },
  {
   "cell_type": "code",
   "execution_count": 60,
   "id": "12aee123",
   "metadata": {},
   "outputs": [],
   "source": [
    "data, weeks = [], [\"월\", \"화\", \"수\", \"목\", \"금\", \"토\", \"일\"]\n",
    "for week in weeks:\n",
    "    data.append(day_pub_traffic_2020[day_pub_traffic_2020[\"날짜\"].str.contains(week)][\"count\"].sum())"
   ]
  },
  {
   "cell_type": "code",
   "execution_count": 61,
   "id": "ce487088",
   "metadata": {},
   "outputs": [
    {
     "data": {
      "text/html": [
       "<div>\n",
       "<style scoped>\n",
       "    .dataframe tbody tr th:only-of-type {\n",
       "        vertical-align: middle;\n",
       "    }\n",
       "\n",
       "    .dataframe tbody tr th {\n",
       "        vertical-align: top;\n",
       "    }\n",
       "\n",
       "    .dataframe thead th {\n",
       "        text-align: right;\n",
       "    }\n",
       "</style>\n",
       "<table border=\"1\" class=\"dataframe\">\n",
       "  <thead>\n",
       "    <tr style=\"text-align: right;\">\n",
       "      <th></th>\n",
       "      <th>요일</th>\n",
       "      <th>total</th>\n",
       "    </tr>\n",
       "  </thead>\n",
       "  <tbody>\n",
       "    <tr>\n",
       "      <th>0</th>\n",
       "      <td>월</td>\n",
       "      <td>958279301</td>\n",
       "    </tr>\n",
       "    <tr>\n",
       "      <th>1</th>\n",
       "      <td>화</td>\n",
       "      <td>978872517</td>\n",
       "    </tr>\n",
       "    <tr>\n",
       "      <th>2</th>\n",
       "      <td>수</td>\n",
       "      <td>986414298</td>\n",
       "    </tr>\n",
       "    <tr>\n",
       "      <th>3</th>\n",
       "      <td>목</td>\n",
       "      <td>989556461</td>\n",
       "    </tr>\n",
       "    <tr>\n",
       "      <th>4</th>\n",
       "      <td>금</td>\n",
       "      <td>974119077</td>\n",
       "    </tr>\n",
       "    <tr>\n",
       "      <th>5</th>\n",
       "      <td>토</td>\n",
       "      <td>649499462</td>\n",
       "    </tr>\n",
       "    <tr>\n",
       "      <th>6</th>\n",
       "      <td>일</td>\n",
       "      <td>463975271</td>\n",
       "    </tr>\n",
       "  </tbody>\n",
       "</table>\n",
       "</div>"
      ],
      "text/plain": [
       "  요일      total\n",
       "0  월  958279301\n",
       "1  화  978872517\n",
       "2  수  986414298\n",
       "3  목  989556461\n",
       "4  금  974119077\n",
       "5  토  649499462\n",
       "6  일  463975271"
      ]
     },
     "execution_count": 61,
     "metadata": {},
     "output_type": "execute_result"
    }
   ],
   "source": [
    "day_pub_traffic_2020 = pd.DataFrame(data=data, index=weeks).reset_index()\n",
    "day_pub_traffic_2020.columns = [\"요일\", \"total\"]\n",
    "day_pub_traffic_2020"
   ]
  },
  {
   "cell_type": "markdown",
   "id": "3d95b6c4",
   "metadata": {},
   "source": [
    "## 3-2. 요일별 교통량 출력"
   ]
  },
  {
   "cell_type": "code",
   "execution_count": 62,
   "id": "f62d6b37",
   "metadata": {},
   "outputs": [
    {
     "data": {
      "text/html": [
       "<div>\n",
       "<style scoped>\n",
       "    .dataframe tbody tr th:only-of-type {\n",
       "        vertical-align: middle;\n",
       "    }\n",
       "\n",
       "    .dataframe tbody tr th {\n",
       "        vertical-align: top;\n",
       "    }\n",
       "\n",
       "    .dataframe thead th {\n",
       "        text-align: right;\n",
       "    }\n",
       "</style>\n",
       "<table border=\"1\" class=\"dataframe\">\n",
       "  <thead>\n",
       "    <tr style=\"text-align: right;\">\n",
       "      <th></th>\n",
       "      <th>요일</th>\n",
       "      <th>total</th>\n",
       "    </tr>\n",
       "  </thead>\n",
       "  <tbody>\n",
       "    <tr>\n",
       "      <th>0</th>\n",
       "      <td>일</td>\n",
       "      <td>42083</td>\n",
       "    </tr>\n",
       "    <tr>\n",
       "      <th>1</th>\n",
       "      <td>수</td>\n",
       "      <td>63520</td>\n",
       "    </tr>\n",
       "    <tr>\n",
       "      <th>2</th>\n",
       "      <td>목</td>\n",
       "      <td>68255</td>\n",
       "    </tr>\n",
       "    <tr>\n",
       "      <th>3</th>\n",
       "      <td>금</td>\n",
       "      <td>69836</td>\n",
       "    </tr>\n",
       "    <tr>\n",
       "      <th>4</th>\n",
       "      <td>토</td>\n",
       "      <td>59502</td>\n",
       "    </tr>\n",
       "    <tr>\n",
       "      <th>...</th>\n",
       "      <td>...</td>\n",
       "      <td>...</td>\n",
       "    </tr>\n",
       "    <tr>\n",
       "      <th>49270</th>\n",
       "      <td>금</td>\n",
       "      <td>114585</td>\n",
       "    </tr>\n",
       "    <tr>\n",
       "      <th>49271</th>\n",
       "      <td>토</td>\n",
       "      <td>123559</td>\n",
       "    </tr>\n",
       "    <tr>\n",
       "      <th>49272</th>\n",
       "      <td>일</td>\n",
       "      <td>113614</td>\n",
       "    </tr>\n",
       "    <tr>\n",
       "      <th>49273</th>\n",
       "      <td>월</td>\n",
       "      <td>110342</td>\n",
       "    </tr>\n",
       "    <tr>\n",
       "      <th>49274</th>\n",
       "      <td>화</td>\n",
       "      <td>108784</td>\n",
       "    </tr>\n",
       "  </tbody>\n",
       "</table>\n",
       "<p>49275 rows × 2 columns</p>\n",
       "</div>"
      ],
      "text/plain": [
       "      요일   total\n",
       "0      일   42083\n",
       "1      수   63520\n",
       "2      목   68255\n",
       "3      금   69836\n",
       "4      토   59502\n",
       "...   ..     ...\n",
       "49270  금  114585\n",
       "49271  토  123559\n",
       "49272  일  113614\n",
       "49273  월  110342\n",
       "49274  화  108784\n",
       "\n",
       "[49275 rows x 2 columns]"
      ]
     },
     "execution_count": 62,
     "metadata": {},
     "output_type": "execute_result"
    }
   ],
   "source": [
    "ddf3 = pd.read_csv(\"./data_2019_seoultraffic.csv\")\n",
    "day_all_traffic_2019 = pd.DataFrame(ddf3, columns=[\"요일\", \"total\"])\n",
    "day_all_traffic_2019"
   ]
  },
  {
   "cell_type": "code",
   "execution_count": 63,
   "id": "31fc1683",
   "metadata": {},
   "outputs": [],
   "source": [
    "data, weeks = [], [\"월\", \"화\", \"수\", \"목\", \"금\", \"토\", \"일\"]\n",
    "for week in weeks:\n",
    "    data.append(day_all_traffic_2019[day_all_traffic_2019[\"요일\"].str.contains(week)][\"total\"].sum())"
   ]
  },
  {
   "cell_type": "code",
   "execution_count": 64,
   "id": "15ade4c8",
   "metadata": {},
   "outputs": [
    {
     "data": {
      "text/html": [
       "<div>\n",
       "<style scoped>\n",
       "    .dataframe tbody tr th:only-of-type {\n",
       "        vertical-align: middle;\n",
       "    }\n",
       "\n",
       "    .dataframe tbody tr th {\n",
       "        vertical-align: top;\n",
       "    }\n",
       "\n",
       "    .dataframe thead th {\n",
       "        text-align: right;\n",
       "    }\n",
       "</style>\n",
       "<table border=\"1\" class=\"dataframe\">\n",
       "  <thead>\n",
       "    <tr style=\"text-align: right;\">\n",
       "      <th></th>\n",
       "      <th>요일</th>\n",
       "      <th>total</th>\n",
       "    </tr>\n",
       "  </thead>\n",
       "  <tbody>\n",
       "    <tr>\n",
       "      <th>0</th>\n",
       "      <td>월</td>\n",
       "      <td>495321251</td>\n",
       "    </tr>\n",
       "    <tr>\n",
       "      <th>1</th>\n",
       "      <td>화</td>\n",
       "      <td>509517933</td>\n",
       "    </tr>\n",
       "    <tr>\n",
       "      <th>2</th>\n",
       "      <td>수</td>\n",
       "      <td>527079819</td>\n",
       "    </tr>\n",
       "    <tr>\n",
       "      <th>3</th>\n",
       "      <td>목</td>\n",
       "      <td>492164038</td>\n",
       "    </tr>\n",
       "    <tr>\n",
       "      <th>4</th>\n",
       "      <td>금</td>\n",
       "      <td>521941567</td>\n",
       "    </tr>\n",
       "    <tr>\n",
       "      <th>5</th>\n",
       "      <td>토</td>\n",
       "      <td>492424776</td>\n",
       "    </tr>\n",
       "    <tr>\n",
       "      <th>6</th>\n",
       "      <td>일</td>\n",
       "      <td>433350226</td>\n",
       "    </tr>\n",
       "  </tbody>\n",
       "</table>\n",
       "</div>"
      ],
      "text/plain": [
       "  요일      total\n",
       "0  월  495321251\n",
       "1  화  509517933\n",
       "2  수  527079819\n",
       "3  목  492164038\n",
       "4  금  521941567\n",
       "5  토  492424776\n",
       "6  일  433350226"
      ]
     },
     "execution_count": 64,
     "metadata": {},
     "output_type": "execute_result"
    }
   ],
   "source": [
    "day_all_traffic_2019 = pd.DataFrame(data=data, index=weeks).reset_index()\n",
    "day_all_traffic_2019.columns = [\"요일\", \"total\"]\n",
    "day_all_traffic_2019"
   ]
  },
  {
   "cell_type": "code",
   "execution_count": 65,
   "id": "999a0df3",
   "metadata": {},
   "outputs": [
    {
     "data": {
      "text/html": [
       "<div>\n",
       "<style scoped>\n",
       "    .dataframe tbody tr th:only-of-type {\n",
       "        vertical-align: middle;\n",
       "    }\n",
       "\n",
       "    .dataframe tbody tr th {\n",
       "        vertical-align: top;\n",
       "    }\n",
       "\n",
       "    .dataframe thead th {\n",
       "        text-align: right;\n",
       "    }\n",
       "</style>\n",
       "<table border=\"1\" class=\"dataframe\">\n",
       "  <thead>\n",
       "    <tr style=\"text-align: right;\">\n",
       "      <th></th>\n",
       "      <th>요일</th>\n",
       "      <th>total</th>\n",
       "    </tr>\n",
       "  </thead>\n",
       "  <tbody>\n",
       "    <tr>\n",
       "      <th>0</th>\n",
       "      <td>수</td>\n",
       "      <td>43040</td>\n",
       "    </tr>\n",
       "    <tr>\n",
       "      <th>1</th>\n",
       "      <td>목</td>\n",
       "      <td>62488</td>\n",
       "    </tr>\n",
       "    <tr>\n",
       "      <th>2</th>\n",
       "      <td>금</td>\n",
       "      <td>67088</td>\n",
       "    </tr>\n",
       "    <tr>\n",
       "      <th>3</th>\n",
       "      <td>토</td>\n",
       "      <td>54995</td>\n",
       "    </tr>\n",
       "    <tr>\n",
       "      <th>4</th>\n",
       "      <td>일</td>\n",
       "      <td>46687</td>\n",
       "    </tr>\n",
       "    <tr>\n",
       "      <th>...</th>\n",
       "      <td>...</td>\n",
       "      <td>...</td>\n",
       "    </tr>\n",
       "    <tr>\n",
       "      <th>49405</th>\n",
       "      <td>일</td>\n",
       "      <td>95643</td>\n",
       "    </tr>\n",
       "    <tr>\n",
       "      <th>49406</th>\n",
       "      <td>월</td>\n",
       "      <td>96370</td>\n",
       "    </tr>\n",
       "    <tr>\n",
       "      <th>49407</th>\n",
       "      <td>화</td>\n",
       "      <td>96541</td>\n",
       "    </tr>\n",
       "    <tr>\n",
       "      <th>49408</th>\n",
       "      <td>수</td>\n",
       "      <td>97701</td>\n",
       "    </tr>\n",
       "    <tr>\n",
       "      <th>49409</th>\n",
       "      <td>목</td>\n",
       "      <td>96422</td>\n",
       "    </tr>\n",
       "  </tbody>\n",
       "</table>\n",
       "<p>49410 rows × 2 columns</p>\n",
       "</div>"
      ],
      "text/plain": [
       "      요일  total\n",
       "0      수  43040\n",
       "1      목  62488\n",
       "2      금  67088\n",
       "3      토  54995\n",
       "4      일  46687\n",
       "...   ..    ...\n",
       "49405  일  95643\n",
       "49406  월  96370\n",
       "49407  화  96541\n",
       "49408  수  97701\n",
       "49409  목  96422\n",
       "\n",
       "[49410 rows x 2 columns]"
      ]
     },
     "execution_count": 65,
     "metadata": {},
     "output_type": "execute_result"
    }
   ],
   "source": [
    "ddf4 = pd.read_csv(\"./data_2020_seoultraffic.csv\")\n",
    "day_all_traffic_2020 = pd.DataFrame(ddf4, columns=[\"요일\", \"total\"])\n",
    "day_all_traffic_2020"
   ]
  },
  {
   "cell_type": "code",
   "execution_count": 66,
   "id": "85df9d85",
   "metadata": {},
   "outputs": [],
   "source": [
    "data, weeks = [], [\"월\", \"화\", \"수\", \"목\", \"금\", \"토\", \"일\"]\n",
    "for week in weeks:\n",
    "    data.append(day_all_traffic_2020[day_all_traffic_2020[\"요일\"].str.contains(week)][\"total\"].sum())"
   ]
  },
  {
   "cell_type": "code",
   "execution_count": 67,
   "id": "cfbcc3d8",
   "metadata": {},
   "outputs": [
    {
     "data": {
      "text/html": [
       "<div>\n",
       "<style scoped>\n",
       "    .dataframe tbody tr th:only-of-type {\n",
       "        vertical-align: middle;\n",
       "    }\n",
       "\n",
       "    .dataframe tbody tr th {\n",
       "        vertical-align: top;\n",
       "    }\n",
       "\n",
       "    .dataframe thead th {\n",
       "        text-align: right;\n",
       "    }\n",
       "</style>\n",
       "<table border=\"1\" class=\"dataframe\">\n",
       "  <thead>\n",
       "    <tr style=\"text-align: right;\">\n",
       "      <th></th>\n",
       "      <th>요일</th>\n",
       "      <th>total</th>\n",
       "    </tr>\n",
       "  </thead>\n",
       "  <tbody>\n",
       "    <tr>\n",
       "      <th>0</th>\n",
       "      <td>월</td>\n",
       "      <td>475181608</td>\n",
       "    </tr>\n",
       "    <tr>\n",
       "      <th>1</th>\n",
       "      <td>화</td>\n",
       "      <td>486640237</td>\n",
       "    </tr>\n",
       "    <tr>\n",
       "      <th>2</th>\n",
       "      <td>수</td>\n",
       "      <td>493765368</td>\n",
       "    </tr>\n",
       "    <tr>\n",
       "      <th>3</th>\n",
       "      <td>목</td>\n",
       "      <td>498696678</td>\n",
       "    </tr>\n",
       "    <tr>\n",
       "      <th>4</th>\n",
       "      <td>금</td>\n",
       "      <td>495326562</td>\n",
       "    </tr>\n",
       "    <tr>\n",
       "      <th>5</th>\n",
       "      <td>토</td>\n",
       "      <td>454937964</td>\n",
       "    </tr>\n",
       "    <tr>\n",
       "      <th>6</th>\n",
       "      <td>일</td>\n",
       "      <td>375774867</td>\n",
       "    </tr>\n",
       "  </tbody>\n",
       "</table>\n",
       "</div>"
      ],
      "text/plain": [
       "  요일      total\n",
       "0  월  475181608\n",
       "1  화  486640237\n",
       "2  수  493765368\n",
       "3  목  498696678\n",
       "4  금  495326562\n",
       "5  토  454937964\n",
       "6  일  375774867"
      ]
     },
     "execution_count": 67,
     "metadata": {},
     "output_type": "execute_result"
    }
   ],
   "source": [
    "day_all_traffic_2020 = pd.DataFrame(data=data, index=weeks).reset_index()\n",
    "day_all_traffic_2020.columns = [\"요일\", \"total\"]\n",
    "day_all_traffic_2020"
   ]
  },
  {
   "cell_type": "markdown",
   "id": "5bc9a79f",
   "metadata": {},
   "source": [
    "# 3 요일별 대중교통 이용량 비교"
   ]
  },
  {
   "cell_type": "markdown",
   "id": "2c77028e",
   "metadata": {},
   "source": [
    "### 3.1.1주말 대중교통 이용량 비교(토,일)"
   ]
  },
  {
   "cell_type": "code",
   "execution_count": 68,
   "id": "6226f7a9",
   "metadata": {},
   "outputs": [],
   "source": [
    "week_pub_traffic = round((np.sum(day_pub_traffic_2020[\"total\"][-2:]) - np.sum(day_pub_traffic_2019[\"total\"][-2:]))\\\n",
    "/ np.sum(day_pub_traffic_2019[\"total\"][-2:]) * 100, 2)"
   ]
  },
  {
   "cell_type": "code",
   "execution_count": 69,
   "id": "7e40946e",
   "metadata": {},
   "outputs": [
    {
     "data": {
      "image/png": "[encoded data removed]",
      "text/plain": [
       "<Figure size 432x288 with 1 Axes>"
      ]
     },
     "metadata": {
      "image/png": {
       "height": 268,
       "width": 375
      },
      "needs_background": "light"
     },
     "output_type": "display_data"
    }
   ],
   "source": [
    "plt.bar(\"2019주말\",np.sum(day_pub_traffic_2019[\"total\"][-2:]))\n",
    "plt.bar(\"2020주말\",np.sum(day_pub_traffic_2020[\"total\"][-2:]))\n",
    "\n",
    "a = np.sum(day_pub_traffic_2019[\"total\"][-2:])\n",
    "b = np.sum(day_pub_traffic_2020[\"total\"][-2:])\n",
    "\n",
    "plt.text(0.6, 130*10000000,week_pub_traffic, fontsize=20)\n",
    "plt.text(0.95, 130*10000000,\"% 감소\",fontsize=20)\n",
    "plt.title(\"주말 대중교통 이용량비교\", fontsize = 20)\n",
    "\n",
    "plt.show()"
   ]
  },
  {
   "cell_type": "markdown",
   "id": "99546c13",
   "metadata": {},
   "source": [
    "### 3.1.2 주말 차량 통행량 비교(토,일)"
   ]
  },
  {
   "cell_type": "code",
   "execution_count": 70,
   "id": "662260f7",
   "metadata": {},
   "outputs": [],
   "source": [
    "week_all_traffic = round((np.sum(day_all_traffic_2020[\"total\"][-2:]) - np.sum(day_all_traffic_2019[\"total\"][-2:]))\\\n",
    "/ np.sum(day_all_traffic_2019[\"total\"][-2:]) * 100, 2)"
   ]
  },
  {
   "cell_type": "code",
   "execution_count": 71,
   "id": "e34d2e1b",
   "metadata": {},
   "outputs": [
    {
     "data": {
      "image/png": "[encoded data removed]",
      "text/plain": [
       "<Figure size 432x288 with 1 Axes>"
      ]
     },
     "metadata": {
      "image/png": {
       "height": 268,
       "width": 361
      },
      "needs_background": "light"
     },
     "output_type": "display_data"
    }
   ],
   "source": [
    "plt.bar(\"2019주말\",np.sum(day_all_traffic_2019[\"total\"][-2:]))\n",
    "plt.bar(\"2020주말\",np.sum(day_all_traffic_2020[\"total\"][-2:]))\n",
    "\n",
    "a = np.sum(day_all_traffic_2019[\"total\"][-2:])\n",
    "b = np.sum(day_all_traffic_2020[\"total\"][-2:])\n",
    "\n",
    "plt.text(0.6, 85*10000000,week_all_traffic, fontsize=20)\n",
    "plt.text(0.95, 85*10000000,\"% 감소\",fontsize=20)\n",
    "plt.title(\"주말 교통량 이용량비교\", fontsize = 20)\n",
    "\n",
    "plt.show()"
   ]
  },
  {
   "cell_type": "markdown",
   "id": "a27b3f9b",
   "metadata": {},
   "source": [
    "### 3.2.1 평일 대중교통 이용량 비교(월-금)"
   ]
  },
  {
   "cell_type": "code",
   "execution_count": 72,
   "id": "remarkable-bachelor",
   "metadata": {},
   "outputs": [],
   "source": [
    "day_pub_traffic = round((np.sum(day_pub_traffic_2020[\"total\"][:-2]) - np.sum(day_pub_traffic_2019[\"total\"][:-2]))\\\n",
    "/ np.sum(day_pub_traffic_2019[\"total\"][:-2]) * 100, 2)"
   ]
  },
  {
   "cell_type": "code",
   "execution_count": 73,
   "id": "original-saying",
   "metadata": {},
   "outputs": [
    {
     "data": {
      "image/png": "[encoded data removed]",
      "text/plain": [
       "<Figure size 432x288 with 1 Axes>"
      ]
     },
     "metadata": {
      "image/png": {
       "height": 268,
       "width": 384
      },
      "needs_background": "light"
     },
     "output_type": "display_data"
    }
   ],
   "source": [
    "plt.bar(\"2019년 평일 교통량\", y1)\n",
    "plt.bar(\"2020년 평일 교통량\", y2)\n",
    "\n",
    "a = np.sum(day_pub_traffic_2019[\"total\"][:-2])\n",
    "b = np.sum(day_pub_traffic_2020[\"total\"][:-2])\n",
    "\n",
    "plt.text(0.6, 35*1000,day_pub_traffic, fontsize=20)\n",
    "plt.text(0.95, 35*1000,\"% 감소\",fontsize=20)\n",
    "plt.title(\"주말 교통량 비교\", fontsize = 20)\n",
    "plt.show()"
   ]
  },
  {
   "cell_type": "markdown",
   "id": "cdd7d388",
   "metadata": {},
   "source": [
    "### 3.2.2 평일 차량통행량 비교(월-금)"
   ]
  },
  {
   "cell_type": "code",
   "execution_count": 74,
   "id": "6a7f16a7",
   "metadata": {
    "scrolled": true
   },
   "outputs": [],
   "source": [
    "day_all_traffic = round((np.sum(day_all_traffic_2020[\"total\"][:-2]) - np.sum(day_all_traffic_2019[\"total\"][:-2]))\\\n",
    "/ np.sum(day_all_traffic_2019[\"total\"][:-2]) * 100, 2)"
   ]
  },
  {
   "cell_type": "code",
   "execution_count": 75,
   "id": "7afc79c5",
   "metadata": {},
   "outputs": [
    {
     "data": {
      "image/png": "[encoded data removed]",
      "text/plain": [
       "<Figure size 432x288 with 1 Axes>"
      ]
     },
     "metadata": {
      "image/png": {
       "height": 268,
       "width": 384
      },
      "needs_background": "light"
     },
     "output_type": "display_data"
    }
   ],
   "source": [
    "plt.bar(\"2019년 평일 교통량\", y1)\n",
    "plt.bar(\"2020년 평일 교통량\", y2)\n",
    "\n",
    "a = np.sum(day_all_traffic_2019[\"total\"][:-2])\n",
    "b = np.sum(day_all_traffic_2020[\"total\"][:-2])\n",
    "\n",
    "plt.text(0.6, 35*1000,day_all_traffic, fontsize=20)\n",
    "plt.text(0.95, 35*1000,\"% 감소\",fontsize=20)\n",
    "plt.title(\"평일 교통량 이용량비교\", fontsize = 20)\n",
    "plt.show()"
   ]
  },
  {
   "cell_type": "markdown",
   "id": "8d29b29b",
   "metadata": {},
   "source": [
    "## 4.지역별 비교"
   ]
  },
  {
   "cell_type": "markdown",
   "id": "553e9ad5",
   "metadata": {},
   "source": [
    "### 4.1지역별 대중교통량 비교"
   ]
  },
  {
   "cell_type": "code",
   "execution_count": 76,
   "id": "7050810b",
   "metadata": {},
   "outputs": [
    {
     "data": {
      "text/html": [
       "<div>\n",
       "<style scoped>\n",
       "    .dataframe tbody tr th:only-of-type {\n",
       "        vertical-align: middle;\n",
       "    }\n",
       "\n",
       "    .dataframe tbody tr th {\n",
       "        vertical-align: top;\n",
       "    }\n",
       "\n",
       "    .dataframe thead th {\n",
       "        text-align: right;\n",
       "    }\n",
       "</style>\n",
       "<table border=\"1\" class=\"dataframe\">\n",
       "  <thead>\n",
       "    <tr style=\"text-align: right;\">\n",
       "      <th>시간</th>\n",
       "      <th>0</th>\n",
       "      <th>1</th>\n",
       "      <th>2</th>\n",
       "      <th>3</th>\n",
       "      <th>4</th>\n",
       "      <th>5</th>\n",
       "      <th>6</th>\n",
       "      <th>7</th>\n",
       "      <th>8</th>\n",
       "      <th>9</th>\n",
       "      <th>...</th>\n",
       "      <th>16</th>\n",
       "      <th>17</th>\n",
       "      <th>18</th>\n",
       "      <th>19</th>\n",
       "      <th>20</th>\n",
       "      <th>21</th>\n",
       "      <th>22</th>\n",
       "      <th>23</th>\n",
       "      <th>total</th>\n",
       "      <th>region</th>\n",
       "    </tr>\n",
       "    <tr>\n",
       "      <th>지명</th>\n",
       "      <th></th>\n",
       "      <th></th>\n",
       "      <th></th>\n",
       "      <th></th>\n",
       "      <th></th>\n",
       "      <th></th>\n",
       "      <th></th>\n",
       "      <th></th>\n",
       "      <th></th>\n",
       "      <th></th>\n",
       "      <th></th>\n",
       "      <th></th>\n",
       "      <th></th>\n",
       "      <th></th>\n",
       "      <th></th>\n",
       "      <th></th>\n",
       "      <th></th>\n",
       "      <th></th>\n",
       "      <th></th>\n",
       "      <th></th>\n",
       "      <th></th>\n",
       "    </tr>\n",
       "  </thead>\n",
       "  <tbody>\n",
       "    <tr>\n",
       "      <th>중구</th>\n",
       "      <td>3518016</td>\n",
       "      <td>572340</td>\n",
       "      <td>239087</td>\n",
       "      <td>215153</td>\n",
       "      <td>501450</td>\n",
       "      <td>3155734</td>\n",
       "      <td>5716093</td>\n",
       "      <td>12502745</td>\n",
       "      <td>25150575</td>\n",
       "      <td>18739397</td>\n",
       "      <td>...</td>\n",
       "      <td>29865336</td>\n",
       "      <td>37557276</td>\n",
       "      <td>55470515</td>\n",
       "      <td>38990793</td>\n",
       "      <td>27587356</td>\n",
       "      <td>25132393</td>\n",
       "      <td>21287791</td>\n",
       "      <td>12756123</td>\n",
       "      <td>447485581</td>\n",
       "      <td>중구</td>\n",
       "    </tr>\n",
       "    <tr>\n",
       "      <th>중랑구</th>\n",
       "      <td>1429246</td>\n",
       "      <td>237634</td>\n",
       "      <td>75320</td>\n",
       "      <td>66496</td>\n",
       "      <td>865449</td>\n",
       "      <td>3163495</td>\n",
       "      <td>6457136</td>\n",
       "      <td>15182553</td>\n",
       "      <td>22283249</td>\n",
       "      <td>13902473</td>\n",
       "      <td>...</td>\n",
       "      <td>11444769</td>\n",
       "      <td>12500258</td>\n",
       "      <td>14244402</td>\n",
       "      <td>12439521</td>\n",
       "      <td>8442147</td>\n",
       "      <td>7587105</td>\n",
       "      <td>6741702</td>\n",
       "      <td>3980054</td>\n",
       "      <td>199074236</td>\n",
       "      <td>중랑구</td>\n",
       "    </tr>\n",
       "  </tbody>\n",
       "</table>\n",
       "<p>2 rows × 26 columns</p>\n",
       "</div>"
      ],
      "text/plain": [
       "시간         0       1       2       3       4        5        6         7  \\\n",
       "지명                                                                         \n",
       "중구   3518016  572340  239087  215153  501450  3155734  5716093  12502745   \n",
       "중랑구  1429246  237634   75320   66496  865449  3163495  6457136  15182553   \n",
       "\n",
       "시간          8         9  ...        16        17        18        19  \\\n",
       "지명                       ...                                           \n",
       "중구   25150575  18739397  ...  29865336  37557276  55470515  38990793   \n",
       "중랑구  22283249  13902473  ...  11444769  12500258  14244402  12439521   \n",
       "\n",
       "시간         20        21        22        23      total  region  \n",
       "지명                                                              \n",
       "중구   27587356  25132393  21287791  12756123  447485581      중구  \n",
       "중랑구   8442147   7587105   6741702   3980054  199074236     중랑구  \n",
       "\n",
       "[2 rows x 26 columns]"
      ]
     },
     "execution_count": 76,
     "metadata": {},
     "output_type": "execute_result"
    }
   ],
   "source": [
    "pub_traffic_r_2019.loc[:,'region'] = ['강남구', '강동구', '강북구', '강서구', '관악구', '광진구', '구로구', '금천구', \\\n",
    "                                  '노원구', '도봉구', '동대문구', '동작구', '마포구', '서대문구', '서초구', '성동구', \\\n",
    "                                 '성북구', '송파구', '양천구', '영등포구', '용산구', '은평구', '종로구', '중구', '중랑구' ]\n",
    "\n",
    "pub_traffic_r_2019.tail(2)"
   ]
  },
  {
   "cell_type": "code",
   "execution_count": 77,
   "id": "7aad8d3c",
   "metadata": {},
   "outputs": [
    {
     "data": {
      "text/plain": [
       "324652736.36"
      ]
     },
     "execution_count": 77,
     "metadata": {},
     "output_type": "execute_result"
    }
   ],
   "source": [
    "pub_traffic_r_2019['total'].mean()"
   ]
  },
  {
   "cell_type": "code",
   "execution_count": 78,
   "id": "bcd897ac",
   "metadata": {},
   "outputs": [
    {
     "name": "stdout",
     "output_type": "stream",
     "text": [
      "2019년 평균 통행량 : 324652736 대\n"
     ]
    }
   ],
   "source": [
    "pub_traffic_r_2019_a = round(pub_traffic_r_2019['total'].mean())\n",
    "print(\"2019년 평균 통행량 :\", pub_traffic_r_2019_a,\"대\")"
   ]
  },
  {
   "cell_type": "code",
   "execution_count": 79,
   "id": "a0d3522b",
   "metadata": {},
   "outputs": [
    {
     "data": {
      "text/html": [
       "<div>\n",
       "<style scoped>\n",
       "    .dataframe tbody tr th:only-of-type {\n",
       "        vertical-align: middle;\n",
       "    }\n",
       "\n",
       "    .dataframe tbody tr th {\n",
       "        vertical-align: top;\n",
       "    }\n",
       "\n",
       "    .dataframe thead th {\n",
       "        text-align: right;\n",
       "    }\n",
       "</style>\n",
       "<table border=\"1\" class=\"dataframe\">\n",
       "  <thead>\n",
       "    <tr style=\"text-align: right;\">\n",
       "      <th></th>\n",
       "      <th>total</th>\n",
       "    </tr>\n",
       "    <tr>\n",
       "      <th>지명</th>\n",
       "      <th></th>\n",
       "    </tr>\n",
       "  </thead>\n",
       "  <tbody>\n",
       "    <tr>\n",
       "      <th>강남구</th>\n",
       "      <td>737727211</td>\n",
       "    </tr>\n",
       "    <tr>\n",
       "      <th>강서구</th>\n",
       "      <td>345163358</td>\n",
       "    </tr>\n",
       "    <tr>\n",
       "      <th>관악구</th>\n",
       "      <td>379996454</td>\n",
       "    </tr>\n",
       "    <tr>\n",
       "      <th>구로구</th>\n",
       "      <td>377044464</td>\n",
       "    </tr>\n",
       "    <tr>\n",
       "      <th>마포구</th>\n",
       "      <td>408143716</td>\n",
       "    </tr>\n",
       "    <tr>\n",
       "      <th>서초구</th>\n",
       "      <td>508376369</td>\n",
       "    </tr>\n",
       "    <tr>\n",
       "      <th>송파구</th>\n",
       "      <td>475428128</td>\n",
       "    </tr>\n",
       "    <tr>\n",
       "      <th>영등포구</th>\n",
       "      <td>411573195</td>\n",
       "    </tr>\n",
       "    <tr>\n",
       "      <th>종로구</th>\n",
       "      <td>410146010</td>\n",
       "    </tr>\n",
       "    <tr>\n",
       "      <th>중구</th>\n",
       "      <td>447485581</td>\n",
       "    </tr>\n",
       "  </tbody>\n",
       "</table>\n",
       "</div>"
      ],
      "text/plain": [
       "          total\n",
       "지명             \n",
       "강남구   737727211\n",
       "강서구   345163358\n",
       "관악구   379996454\n",
       "구로구   377044464\n",
       "마포구   408143716\n",
       "서초구   508376369\n",
       "송파구   475428128\n",
       "영등포구  411573195\n",
       "종로구   410146010\n",
       "중구    447485581"
      ]
     },
     "execution_count": 79,
     "metadata": {},
     "output_type": "execute_result"
    }
   ],
   "source": [
    "r_p_compare_2019 = pub_traffic_r_2019[pub_traffic_r_2019[\"total\"] > pub_traffic_r_2019[\"total\"].mean()]\n",
    "df_r_p_compare_2019 = pd.DataFrame(r_p_compare_2019, columns=[\"total\"])\n",
    "df_r_p_compare_2019"
   ]
  },
  {
   "cell_type": "code",
   "execution_count": 80,
   "id": "6dab4f1a",
   "metadata": {},
   "outputs": [
    {
     "data": {
      "text/html": [
       "<div>\n",
       "<style scoped>\n",
       "    .dataframe tbody tr th:only-of-type {\n",
       "        vertical-align: middle;\n",
       "    }\n",
       "\n",
       "    .dataframe tbody tr th {\n",
       "        vertical-align: top;\n",
       "    }\n",
       "\n",
       "    .dataframe thead th {\n",
       "        text-align: right;\n",
       "    }\n",
       "</style>\n",
       "<table border=\"1\" class=\"dataframe\">\n",
       "  <thead>\n",
       "    <tr style=\"text-align: right;\">\n",
       "      <th>시간</th>\n",
       "      <th>0</th>\n",
       "      <th>1</th>\n",
       "      <th>2</th>\n",
       "      <th>3</th>\n",
       "      <th>4</th>\n",
       "      <th>5</th>\n",
       "      <th>6</th>\n",
       "      <th>7</th>\n",
       "      <th>8</th>\n",
       "      <th>9</th>\n",
       "      <th>...</th>\n",
       "      <th>16</th>\n",
       "      <th>17</th>\n",
       "      <th>18</th>\n",
       "      <th>19</th>\n",
       "      <th>20</th>\n",
       "      <th>21</th>\n",
       "      <th>22</th>\n",
       "      <th>23</th>\n",
       "      <th>total</th>\n",
       "      <th>region</th>\n",
       "    </tr>\n",
       "    <tr>\n",
       "      <th>지명</th>\n",
       "      <th></th>\n",
       "      <th></th>\n",
       "      <th></th>\n",
       "      <th></th>\n",
       "      <th></th>\n",
       "      <th></th>\n",
       "      <th></th>\n",
       "      <th></th>\n",
       "      <th></th>\n",
       "      <th></th>\n",
       "      <th></th>\n",
       "      <th></th>\n",
       "      <th></th>\n",
       "      <th></th>\n",
       "      <th></th>\n",
       "      <th></th>\n",
       "      <th></th>\n",
       "      <th></th>\n",
       "      <th></th>\n",
       "      <th></th>\n",
       "      <th></th>\n",
       "    </tr>\n",
       "  </thead>\n",
       "  <tbody>\n",
       "    <tr>\n",
       "      <th>중구</th>\n",
       "      <td>1030686</td>\n",
       "      <td>267406</td>\n",
       "      <td>125901</td>\n",
       "      <td>144638</td>\n",
       "      <td>524518</td>\n",
       "      <td>2845992</td>\n",
       "      <td>6134273</td>\n",
       "      <td>15971819</td>\n",
       "      <td>33999864</td>\n",
       "      <td>20472449</td>\n",
       "      <td>...</td>\n",
       "      <td>17012446</td>\n",
       "      <td>23538009</td>\n",
       "      <td>33093127</td>\n",
       "      <td>18656846</td>\n",
       "      <td>13260295</td>\n",
       "      <td>11477169</td>\n",
       "      <td>8628758</td>\n",
       "      <td>4649330</td>\n",
       "      <td>295154710</td>\n",
       "      <td>중구</td>\n",
       "    </tr>\n",
       "    <tr>\n",
       "      <th>중랑구</th>\n",
       "      <td>999460</td>\n",
       "      <td>179205</td>\n",
       "      <td>71499</td>\n",
       "      <td>63145</td>\n",
       "      <td>722886</td>\n",
       "      <td>2550547</td>\n",
       "      <td>4890796</td>\n",
       "      <td>10808463</td>\n",
       "      <td>14961209</td>\n",
       "      <td>8788647</td>\n",
       "      <td>...</td>\n",
       "      <td>8997200</td>\n",
       "      <td>10484633</td>\n",
       "      <td>13326202</td>\n",
       "      <td>11698006</td>\n",
       "      <td>7464722</td>\n",
       "      <td>6621289</td>\n",
       "      <td>5495151</td>\n",
       "      <td>3253670</td>\n",
       "      <td>153829883</td>\n",
       "      <td>중랑구</td>\n",
       "    </tr>\n",
       "  </tbody>\n",
       "</table>\n",
       "<p>2 rows × 26 columns</p>\n",
       "</div>"
      ],
      "text/plain": [
       "시간         0       1       2       3       4        5        6         7  \\\n",
       "지명                                                                         \n",
       "중구   1030686  267406  125901  144638  524518  2845992  6134273  15971819   \n",
       "중랑구   999460  179205   71499   63145  722886  2550547  4890796  10808463   \n",
       "\n",
       "시간          8         9  ...        16        17        18        19  \\\n",
       "지명                       ...                                           \n",
       "중구   33999864  20472449  ...  17012446  23538009  33093127  18656846   \n",
       "중랑구  14961209   8788647  ...   8997200  10484633  13326202  11698006   \n",
       "\n",
       "시간         20        21       22       23      total  region  \n",
       "지명                                                            \n",
       "중구   13260295  11477169  8628758  4649330  295154710      중구  \n",
       "중랑구   7464722   6621289  5495151  3253670  153829883     중랑구  \n",
       "\n",
       "[2 rows x 26 columns]"
      ]
     },
     "execution_count": 80,
     "metadata": {},
     "output_type": "execute_result"
    }
   ],
   "source": [
    "pub_traffic_r_2020.loc[:,'region'] = ['강남구', '강동구', '강북구', '강서구', '관악구', '광진구', '구로구', '금천구', \\\n",
    "                                   '노원구', '도봉구', '동대문구', '동작구', '마포구', '서대문구', '서초구', '성동구', \\\n",
    "                                 '성북구', '송파구', '양천구', '영등포구', '용산구', '은평구', '종로구', '중구', '중랑구' ]\n",
    "\n",
    "pub_traffic_r_2020.tail(2)"
   ]
  },
  {
   "cell_type": "code",
   "execution_count": 81,
   "id": "d538ade0",
   "metadata": {},
   "outputs": [
    {
     "name": "stdout",
     "output_type": "stream",
     "text": [
      "2020년 평균 통행량 : 240028655 대\n"
     ]
    }
   ],
   "source": [
    "pub_traffic_r_2020_a = round(pub_traffic_r_2020['total'].mean())\n",
    "print(\"2020년 평균 통행량 :\", pub_traffic_r_2020_a,\"대\")"
   ]
  },
  {
   "cell_type": "code",
   "execution_count": 82,
   "id": "236ed5a6",
   "metadata": {},
   "outputs": [
    {
     "data": {
      "text/html": [
       "<div>\n",
       "<style scoped>\n",
       "    .dataframe tbody tr th:only-of-type {\n",
       "        vertical-align: middle;\n",
       "    }\n",
       "\n",
       "    .dataframe tbody tr th {\n",
       "        vertical-align: top;\n",
       "    }\n",
       "\n",
       "    .dataframe thead th {\n",
       "        text-align: right;\n",
       "    }\n",
       "</style>\n",
       "<table border=\"1\" class=\"dataframe\">\n",
       "  <thead>\n",
       "    <tr style=\"text-align: right;\">\n",
       "      <th></th>\n",
       "      <th>total</th>\n",
       "    </tr>\n",
       "    <tr>\n",
       "      <th>지명</th>\n",
       "      <th></th>\n",
       "    </tr>\n",
       "  </thead>\n",
       "  <tbody>\n",
       "    <tr>\n",
       "      <th>강남구</th>\n",
       "      <td>567110115</td>\n",
       "    </tr>\n",
       "    <tr>\n",
       "      <th>강서구</th>\n",
       "      <td>260342153</td>\n",
       "    </tr>\n",
       "    <tr>\n",
       "      <th>관악구</th>\n",
       "      <td>289329188</td>\n",
       "    </tr>\n",
       "    <tr>\n",
       "      <th>구로구</th>\n",
       "      <td>283206229</td>\n",
       "    </tr>\n",
       "    <tr>\n",
       "      <th>마포구</th>\n",
       "      <td>290281580</td>\n",
       "    </tr>\n",
       "    <tr>\n",
       "      <th>서초구</th>\n",
       "      <td>368079647</td>\n",
       "    </tr>\n",
       "    <tr>\n",
       "      <th>송파구</th>\n",
       "      <td>351362444</td>\n",
       "    </tr>\n",
       "    <tr>\n",
       "      <th>영등포구</th>\n",
       "      <td>311535742</td>\n",
       "    </tr>\n",
       "    <tr>\n",
       "      <th>종로구</th>\n",
       "      <td>280859306</td>\n",
       "    </tr>\n",
       "    <tr>\n",
       "      <th>중구</th>\n",
       "      <td>295154710</td>\n",
       "    </tr>\n",
       "  </tbody>\n",
       "</table>\n",
       "</div>"
      ],
      "text/plain": [
       "          total\n",
       "지명             \n",
       "강남구   567110115\n",
       "강서구   260342153\n",
       "관악구   289329188\n",
       "구로구   283206229\n",
       "마포구   290281580\n",
       "서초구   368079647\n",
       "송파구   351362444\n",
       "영등포구  311535742\n",
       "종로구   280859306\n",
       "중구    295154710"
      ]
     },
     "execution_count": 82,
     "metadata": {},
     "output_type": "execute_result"
    }
   ],
   "source": [
    "r_p_compare_2020 = pub_traffic_r_2020[pub_traffic_r_2020[\"total\"] > pub_traffic_r_2020[\"total\"].mean()]\n",
    "df_r_p_compare_2020 = pd.DataFrame(r_p_compare_2020, columns=[\"total\"])\n",
    "df_r_p_compare_2020"
   ]
  },
  {
   "cell_type": "code",
   "execution_count": 83,
   "id": "82aca5a1",
   "metadata": {},
   "outputs": [
    {
     "data": {
      "image/png": "[encoded data removed]",
      "text/plain": [
       "<Figure size 1440x360 with 1 Axes>"
      ]
     },
     "metadata": {
      "image/png": {
       "height": 313,
       "width": 1142
      },
      "needs_background": "light"
     },
     "output_type": "display_data"
    }
   ],
   "source": [
    "plt.figure(figsize=(20, 5))\n",
    "\n",
    "X = ['강남구', '강동구', '강북구', '강서구', '관악구', '광진구', '구로구', '금천구', \\\n",
    "    '노원구', '도봉구', '동대문구', '동작구', '마포구', '서대문구', '서초구', '성동구', \\\n",
    "    '성북구', '송파구', '양천구', '영등포구', '용산구', '은평구', '종로구', '중구', '중랑구' ]\n",
    "\n",
    "plt.bar(X, pub_traffic_r_2019[\"total\"])\n",
    "plt.bar(X, pub_traffic_r_2020[\"total\"])\n",
    "\n",
    "plt.axhline(y=pub_traffic_r_2019['total'].mean(), color='g', linewidth=1, label=\"2019\")\n",
    "plt.axhline(y=pub_traffic_r_2020['total'].mean(), color='r', linewidth=1, label=\"2020\")\n",
    "plt.legend()\n",
    "\n",
    "plt.show()"
   ]
  },
  {
   "cell_type": "markdown",
   "id": "0bdc05b3",
   "metadata": {},
   "source": [
    "### 4.2지역별 차량 교통량 비교"
   ]
  },
  {
   "cell_type": "code",
   "execution_count": 96,
   "id": "963e464b",
   "metadata": {},
   "outputs": [
    {
     "data": {
      "text/html": [
       "<div>\n",
       "<style scoped>\n",
       "    .dataframe tbody tr th:only-of-type {\n",
       "        vertical-align: middle;\n",
       "    }\n",
       "\n",
       "    .dataframe tbody tr th {\n",
       "        vertical-align: top;\n",
       "    }\n",
       "\n",
       "    .dataframe thead th {\n",
       "        text-align: right;\n",
       "    }\n",
       "</style>\n",
       "<table border=\"1\" class=\"dataframe\">\n",
       "  <thead>\n",
       "    <tr style=\"text-align: right;\">\n",
       "      <th></th>\n",
       "      <th>total</th>\n",
       "      <th>구</th>\n",
       "      <th>연도</th>\n",
       "    </tr>\n",
       "    <tr>\n",
       "      <th>구</th>\n",
       "      <th></th>\n",
       "      <th></th>\n",
       "      <th></th>\n",
       "    </tr>\n",
       "  </thead>\n",
       "  <tbody>\n",
       "    <tr>\n",
       "      <th>영등포구</th>\n",
       "      <td>70866.447123</td>\n",
       "      <td>영등포구</td>\n",
       "      <td>2019</td>\n",
       "    </tr>\n",
       "    <tr>\n",
       "      <th>중구</th>\n",
       "      <td>37562.815068</td>\n",
       "      <td>중구</td>\n",
       "      <td>2019</td>\n",
       "    </tr>\n",
       "  </tbody>\n",
       "</table>\n",
       "</div>"
      ],
      "text/plain": [
       "             total     구    연도\n",
       "구                             \n",
       "영등포구  70866.447123  영등포구  2019\n",
       "중구    37562.815068    중구  2019"
      ]
     },
     "execution_count": 96,
     "metadata": {},
     "output_type": "execute_result"
    }
   ],
   "source": [
    "all_traffic_r_2019.loc[:, '구'] = [\"강남구\", \"강동구\", \"강서구\", \"과천시\", \"관악구\", \"광명시\", \"광진구\", \"구로구\", \"구리시\", \"금천구\",\\\n",
    "\"김포시\", \"노원구\", \"도봉구\", \"동작구\", \"마포구\", \"부천시\", \"서초구\", \"성동구\", \"성북구\", \"송파구\", \"양천구\", \"용산구\",\\\n",
    "\"은평구\", \"종로구\", \"중랑구\", \"하남시\", \"고양시\", \"금천구\", \"동대문구\", \"서대문구\", \"영등포구\", \" 중구\"]\n",
    "\n",
    "all_traffic_r_2019.tail(2)"
   ]
  },
  {
   "cell_type": "code",
   "execution_count": 97,
   "id": "eafb4c53",
   "metadata": {},
   "outputs": [
    {
     "data": {
      "text/plain": [
       "73020.93847725049"
      ]
     },
     "execution_count": 97,
     "metadata": {},
     "output_type": "execute_result"
    }
   ],
   "source": [
    "all_traffic_r_2019['total'].mean()"
   ]
  },
  {
   "cell_type": "code",
   "execution_count": 98,
   "id": "328ff114",
   "metadata": {},
   "outputs": [
    {
     "name": "stdout",
     "output_type": "stream",
     "text": [
      "2019년 평균 통행량 : 73021 대\n"
     ]
    }
   ],
   "source": [
    "all_traffic_r_2019_a = round(all_traffic_r_2019['total'].mean())\n",
    "print(\"2019년 평균 통행량 :\", all_traffic_r_2019_a,\"대\")"
   ]
  },
  {
   "cell_type": "code",
   "execution_count": 99,
   "id": "686f2073",
   "metadata": {},
   "outputs": [
    {
     "data": {
      "text/html": [
       "<div>\n",
       "<style scoped>\n",
       "    .dataframe tbody tr th:only-of-type {\n",
       "        vertical-align: middle;\n",
       "    }\n",
       "\n",
       "    .dataframe tbody tr th {\n",
       "        vertical-align: top;\n",
       "    }\n",
       "\n",
       "    .dataframe thead th {\n",
       "        text-align: right;\n",
       "    }\n",
       "</style>\n",
       "<table border=\"1\" class=\"dataframe\">\n",
       "  <thead>\n",
       "    <tr style=\"text-align: right;\">\n",
       "      <th></th>\n",
       "      <th>total</th>\n",
       "    </tr>\n",
       "    <tr>\n",
       "      <th>지명</th>\n",
       "      <th></th>\n",
       "    </tr>\n",
       "  </thead>\n",
       "  <tbody>\n",
       "    <tr>\n",
       "      <th>강남구</th>\n",
       "      <td>737727211</td>\n",
       "    </tr>\n",
       "    <tr>\n",
       "      <th>강서구</th>\n",
       "      <td>345163358</td>\n",
       "    </tr>\n",
       "    <tr>\n",
       "      <th>관악구</th>\n",
       "      <td>379996454</td>\n",
       "    </tr>\n",
       "    <tr>\n",
       "      <th>구로구</th>\n",
       "      <td>377044464</td>\n",
       "    </tr>\n",
       "    <tr>\n",
       "      <th>마포구</th>\n",
       "      <td>408143716</td>\n",
       "    </tr>\n",
       "    <tr>\n",
       "      <th>서초구</th>\n",
       "      <td>508376369</td>\n",
       "    </tr>\n",
       "    <tr>\n",
       "      <th>송파구</th>\n",
       "      <td>475428128</td>\n",
       "    </tr>\n",
       "    <tr>\n",
       "      <th>영등포구</th>\n",
       "      <td>411573195</td>\n",
       "    </tr>\n",
       "    <tr>\n",
       "      <th>종로구</th>\n",
       "      <td>410146010</td>\n",
       "    </tr>\n",
       "    <tr>\n",
       "      <th>중구</th>\n",
       "      <td>447485581</td>\n",
       "    </tr>\n",
       "  </tbody>\n",
       "</table>\n",
       "</div>"
      ],
      "text/plain": [
       "          total\n",
       "지명             \n",
       "강남구   737727211\n",
       "강서구   345163358\n",
       "관악구   379996454\n",
       "구로구   377044464\n",
       "마포구   408143716\n",
       "서초구   508376369\n",
       "송파구   475428128\n",
       "영등포구  411573195\n",
       "종로구   410146010\n",
       "중구    447485581"
      ]
     },
     "execution_count": 99,
     "metadata": {},
     "output_type": "execute_result"
    }
   ],
   "source": [
    "r_a_compare_2019 = all_traffic_r_2019[all_traffic_r_2019[\"total\"] > all_traffic_r_2019[\"total\"].mean()]\n",
    "df_a_p_compare_2019 = pd.DataFrame(r_p_compare_2019, columns=[\"total\"])\n",
    "df_a_p_compare_2019"
   ]
  },
  {
   "cell_type": "code",
   "execution_count": 100,
   "id": "1ef6521d",
   "metadata": {},
   "outputs": [
    {
     "name": "stdout",
     "output_type": "stream",
     "text": [
      "2020년 평균 통행량 : 70227 대\n"
     ]
    }
   ],
   "source": [
    "all_traffic_r_2020_a = round(all_traffic_r_2020['total'].mean())\n",
    "print(\"2020년 평균 통행량 :\", all_traffic_r_2020_a,\"대\")"
   ]
  },
  {
   "cell_type": "code",
   "execution_count": 101,
   "id": "306ce910",
   "metadata": {},
   "outputs": [
    {
     "data": {
      "text/html": [
       "<div>\n",
       "<style scoped>\n",
       "    .dataframe tbody tr th:only-of-type {\n",
       "        vertical-align: middle;\n",
       "    }\n",
       "\n",
       "    .dataframe tbody tr th {\n",
       "        vertical-align: top;\n",
       "    }\n",
       "\n",
       "    .dataframe thead th {\n",
       "        text-align: right;\n",
       "    }\n",
       "</style>\n",
       "<table border=\"1\" class=\"dataframe\">\n",
       "  <thead>\n",
       "    <tr style=\"text-align: right;\">\n",
       "      <th></th>\n",
       "      <th>total</th>\n",
       "    </tr>\n",
       "    <tr>\n",
       "      <th>지명</th>\n",
       "      <th></th>\n",
       "    </tr>\n",
       "  </thead>\n",
       "  <tbody>\n",
       "    <tr>\n",
       "      <th>강남구</th>\n",
       "      <td>567110115</td>\n",
       "    </tr>\n",
       "    <tr>\n",
       "      <th>강서구</th>\n",
       "      <td>260342153</td>\n",
       "    </tr>\n",
       "    <tr>\n",
       "      <th>관악구</th>\n",
       "      <td>289329188</td>\n",
       "    </tr>\n",
       "    <tr>\n",
       "      <th>구로구</th>\n",
       "      <td>283206229</td>\n",
       "    </tr>\n",
       "    <tr>\n",
       "      <th>마포구</th>\n",
       "      <td>290281580</td>\n",
       "    </tr>\n",
       "    <tr>\n",
       "      <th>서초구</th>\n",
       "      <td>368079647</td>\n",
       "    </tr>\n",
       "    <tr>\n",
       "      <th>송파구</th>\n",
       "      <td>351362444</td>\n",
       "    </tr>\n",
       "    <tr>\n",
       "      <th>영등포구</th>\n",
       "      <td>311535742</td>\n",
       "    </tr>\n",
       "    <tr>\n",
       "      <th>종로구</th>\n",
       "      <td>280859306</td>\n",
       "    </tr>\n",
       "    <tr>\n",
       "      <th>중구</th>\n",
       "      <td>295154710</td>\n",
       "    </tr>\n",
       "  </tbody>\n",
       "</table>\n",
       "</div>"
      ],
      "text/plain": [
       "          total\n",
       "지명             \n",
       "강남구   567110115\n",
       "강서구   260342153\n",
       "관악구   289329188\n",
       "구로구   283206229\n",
       "마포구   290281580\n",
       "서초구   368079647\n",
       "송파구   351362444\n",
       "영등포구  311535742\n",
       "종로구   280859306\n",
       "중구    295154710"
      ]
     },
     "execution_count": 101,
     "metadata": {},
     "output_type": "execute_result"
    }
   ],
   "source": [
    "r_a_compare_2020 = all_traffic_r_2020[all_traffic_r_2020[\"total\"] > all_traffic_r_2020[\"total\"].mean()]\n",
    "df_a_p_compare_2020 = pd.DataFrame(r_p_compare_2020, columns=[\"total\"])\n",
    "df_a_p_compare_2020"
   ]
  },
  {
   "cell_type": "code",
   "execution_count": 122,
   "id": "5398496f",
   "metadata": {
    "scrolled": true
   },
   "outputs": [
    {
     "data": {
      "image/png": "[encoded data removed]",
      "text/plain": [
       "<Figure size 1440x360 with 1 Axes>"
      ]
     },
     "metadata": {
      "image/png": {
       "height": 302,
       "width": 1170
      },
      "needs_background": "light"
     },
     "output_type": "display_data"
    }
   ],
   "source": [
    "plt.figure(figsize=(20, 5))\n",
    "\n",
    "\n",
    "X = [\"강남구\", \"강동구\", \"강서구\", \"과천시\", \"관악구\", \"광명시\", \"광진구\", \"구로구\", \"구리시\", \"금천구\",\\\n",
    "\"김포시\", \"노원구\", \"도봉구\", \"동작구\", \"마포구\", \"부천시\", \"서초구\", \"성동구\", \"성북구\", \"송파구\", \"양천구\", \"용산구\",\\\n",
    "\"은평구\", \"종로구\", \"중랑구\", \"하남시\", \"고양시\", \"금천구\", \"동대문구\", \"서대문구\", \"영등포구\", \" 중구\"]\n",
    "\n",
    "plt.bar(X, all_traffic_r_2019[\"total\"])\n",
    "plt.bar(X, all_traffic_r_2020[\"total\"])\n",
    "\n",
    "plt.axhline(y=all_traffic_r_2019['total'].mean(), color='g', linewidth=1, label=\"2019\")\n",
    "plt.axhline(y=all_traffic_r_2020['total'].mean(), color='r', linewidth=1, label=\"2020\")\n",
    "plt.legend()\n",
    "\n",
    "plt.show()"
   ]
  },
  {
   "cell_type": "code",
   "execution_count": 131,
   "id": "f4e6aad3",
   "metadata": {},
   "outputs": [
    {
     "data": {
      "text/html": [
       "<div>\n",
       "<style scoped>\n",
       "    .dataframe tbody tr th:only-of-type {\n",
       "        vertical-align: middle;\n",
       "    }\n",
       "\n",
       "    .dataframe tbody tr th {\n",
       "        vertical-align: top;\n",
       "    }\n",
       "\n",
       "    .dataframe thead th {\n",
       "        text-align: right;\n",
       "    }\n",
       "</style>\n",
       "<table border=\"1\" class=\"dataframe\">\n",
       "  <thead>\n",
       "    <tr style=\"text-align: right;\">\n",
       "      <th></th>\n",
       "      <th>월</th>\n",
       "      <th>연번</th>\n",
       "      <th>지역</th>\n",
       "    </tr>\n",
       "  </thead>\n",
       "  <tbody>\n",
       "    <tr>\n",
       "      <th>0</th>\n",
       "      <td>NaN</td>\n",
       "      <td>NaN</td>\n",
       "      <td>NaN</td>\n",
       "    </tr>\n",
       "    <tr>\n",
       "      <th>1</th>\n",
       "      <td>NaN</td>\n",
       "      <td>NaN</td>\n",
       "      <td>NaN</td>\n",
       "    </tr>\n",
       "    <tr>\n",
       "      <th>2</th>\n",
       "      <td>NaN</td>\n",
       "      <td>NaN</td>\n",
       "      <td>NaN</td>\n",
       "    </tr>\n",
       "    <tr>\n",
       "      <th>3</th>\n",
       "      <td>NaN</td>\n",
       "      <td>NaN</td>\n",
       "      <td>NaN</td>\n",
       "    </tr>\n",
       "    <tr>\n",
       "      <th>4</th>\n",
       "      <td>NaN</td>\n",
       "      <td>NaN</td>\n",
       "      <td>NaN</td>\n",
       "    </tr>\n",
       "    <tr>\n",
       "      <th>...</th>\n",
       "      <td>...</td>\n",
       "      <td>...</td>\n",
       "      <td>...</td>\n",
       "    </tr>\n",
       "    <tr>\n",
       "      <th>19387</th>\n",
       "      <td>NaN</td>\n",
       "      <td>NaN</td>\n",
       "      <td>NaN</td>\n",
       "    </tr>\n",
       "    <tr>\n",
       "      <th>19388</th>\n",
       "      <td>NaN</td>\n",
       "      <td>NaN</td>\n",
       "      <td>NaN</td>\n",
       "    </tr>\n",
       "    <tr>\n",
       "      <th>19389</th>\n",
       "      <td>NaN</td>\n",
       "      <td>NaN</td>\n",
       "      <td>NaN</td>\n",
       "    </tr>\n",
       "    <tr>\n",
       "      <th>19390</th>\n",
       "      <td>NaN</td>\n",
       "      <td>NaN</td>\n",
       "      <td>NaN</td>\n",
       "    </tr>\n",
       "    <tr>\n",
       "      <th>19391</th>\n",
       "      <td>NaN</td>\n",
       "      <td>NaN</td>\n",
       "      <td>NaN</td>\n",
       "    </tr>\n",
       "  </tbody>\n",
       "</table>\n",
       "<p>19392 rows × 3 columns</p>\n",
       "</div>"
      ],
      "text/plain": [
       "        월  연번  지역\n",
       "0     NaN NaN NaN\n",
       "1     NaN NaN NaN\n",
       "2     NaN NaN NaN\n",
       "3     NaN NaN NaN\n",
       "4     NaN NaN NaN\n",
       "...    ..  ..  ..\n",
       "19387 NaN NaN NaN\n",
       "19388 NaN NaN NaN\n",
       "19389 NaN NaN NaN\n",
       "19390 NaN NaN NaN\n",
       "19391 NaN NaN NaN\n",
       "\n",
       "[19392 rows x 3 columns]"
      ]
     },
     "execution_count": 131,
     "metadata": {},
     "output_type": "execute_result"
    }
   ],
   "source": [
    "corona = pd.read_csv('/Users/ijiyeong/Downloads/seoul_corona.csv')\n",
    "a = pd.DataFrame(corona, columns=[\"월\",\"연번\",\"지역\"])\n",
    "a"
   ]
  },
  {
   "cell_type": "code",
   "execution_count": 132,
   "id": "807fb311",
   "metadata": {},
   "outputs": [
    {
     "data": {
      "text/html": [
       "<div>\n",
       "<style scoped>\n",
       "    .dataframe tbody tr th:only-of-type {\n",
       "        vertical-align: middle;\n",
       "    }\n",
       "\n",
       "    .dataframe tbody tr th {\n",
       "        vertical-align: top;\n",
       "    }\n",
       "\n",
       "    .dataframe thead th {\n",
       "        text-align: right;\n",
       "    }\n",
       "</style>\n",
       "<table border=\"1\" class=\"dataframe\">\n",
       "  <thead>\n",
       "    <tr style=\"text-align: right;\">\n",
       "      <th></th>\n",
       "      <th>연번</th>\n",
       "      <th>지역</th>\n",
       "    </tr>\n",
       "  </thead>\n",
       "  <tbody>\n",
       "    <tr>\n",
       "      <th>0</th>\n",
       "      <td>NaN</td>\n",
       "      <td>NaN</td>\n",
       "    </tr>\n",
       "    <tr>\n",
       "      <th>1</th>\n",
       "      <td>NaN</td>\n",
       "      <td>NaN</td>\n",
       "    </tr>\n",
       "    <tr>\n",
       "      <th>2</th>\n",
       "      <td>NaN</td>\n",
       "      <td>NaN</td>\n",
       "    </tr>\n",
       "    <tr>\n",
       "      <th>3</th>\n",
       "      <td>NaN</td>\n",
       "      <td>NaN</td>\n",
       "    </tr>\n",
       "    <tr>\n",
       "      <th>4</th>\n",
       "      <td>NaN</td>\n",
       "      <td>NaN</td>\n",
       "    </tr>\n",
       "    <tr>\n",
       "      <th>...</th>\n",
       "      <td>...</td>\n",
       "      <td>...</td>\n",
       "    </tr>\n",
       "    <tr>\n",
       "      <th>34850</th>\n",
       "      <td>NaN</td>\n",
       "      <td>NaN</td>\n",
       "    </tr>\n",
       "    <tr>\n",
       "      <th>34851</th>\n",
       "      <td>NaN</td>\n",
       "      <td>NaN</td>\n",
       "    </tr>\n",
       "    <tr>\n",
       "      <th>34852</th>\n",
       "      <td>NaN</td>\n",
       "      <td>NaN</td>\n",
       "    </tr>\n",
       "    <tr>\n",
       "      <th>34853</th>\n",
       "      <td>NaN</td>\n",
       "      <td>NaN</td>\n",
       "    </tr>\n",
       "    <tr>\n",
       "      <th>34854</th>\n",
       "      <td>NaN</td>\n",
       "      <td>NaN</td>\n",
       "    </tr>\n",
       "  </tbody>\n",
       "</table>\n",
       "<p>34855 rows × 2 columns</p>\n",
       "</div>"
      ],
      "text/plain": [
       "       연번  지역\n",
       "0     NaN NaN\n",
       "1     NaN NaN\n",
       "2     NaN NaN\n",
       "3     NaN NaN\n",
       "4     NaN NaN\n",
       "...    ..  ..\n",
       "34850 NaN NaN\n",
       "34851 NaN NaN\n",
       "34852 NaN NaN\n",
       "34853 NaN NaN\n",
       "34854 NaN NaN\n",
       "\n",
       "[34855 rows x 2 columns]"
      ]
     },
     "execution_count": 132,
     "metadata": {},
     "output_type": "execute_result"
    }
   ],
   "source": [
    "corona = pd.read_csv('/Users/ijiyeong/Downloads/서울시 코로나19 확진자 현황.csv')\n",
    "a = pd.DataFrame(corona, columns=[\"연번\",\"지역\"])\n",
    "a"
   ]
  },
  {
   "cell_type": "code",
   "execution_count": null,
   "id": "39a3a94a",
   "metadata": {},
   "outputs": [],
   "source": []
  },
  {
   "cell_type": "code",
   "execution_count": null,
   "id": "abb46e94",
   "metadata": {},
   "outputs": [],
   "source": []
  },
  {
   "cell_type": "code",
   "execution_count": null,
   "id": "e47064b0",
   "metadata": {},
   "outputs": [],
   "source": []
  },
  {
   "cell_type": "code",
   "execution_count": null,
   "id": "77b517ef",
   "metadata": {},
   "outputs": [],
   "source": []
  }
 ],
 "metadata": {
  "kernelspec": {
   "display_name": "Python 3",
   "language": "python",
   "name": "python3"
  },
  "language_info": {
   "codemirror_mode": {
    "name": "ipython",
    "version": 3
   },
   "file_extension": ".py",
   "mimetype": "text/x-python",
   "name": "python",
   "nbconvert_exporter": "python",
   "pygments_lexer": "ipython3",
   "version": "3.7.10"
  },
  "toc": {
   "base_numbering": 1,
   "nav_menu": {},
   "number_sections": true,
   "sideBar": false,
   "skip_h1_title": false,
   "title_cell": "Table of Contents",
   "title_sidebar": "Contents",
   "toc_cell": false,
   "toc_position": {
    "height": "494px",
    "left": "37px",
    "top": "87px",
    "width": "288px"
   },
   "toc_section_display": true,
   "toc_window_display": false
  }
 },
 "nbformat": 4,
 "nbformat_minor": 5
}
