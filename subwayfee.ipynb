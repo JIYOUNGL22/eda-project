{
 "cells": [
  {
   "cell_type": "code",
   "execution_count": 73,
   "metadata": {},
   "outputs": [
    {
     "data": {
      "text/plain": [
       "'Arial Unicode MS'"
      ]
     },
     "execution_count": 73,
     "metadata": {},
     "output_type": "execute_result"
    }
   ],
   "source": [
    "from matplotlib import font_manager\n",
    "\n",
    "f_path = '/Library/Fonts/Arial Unicode.ttf'\n",
    "font_manager.FontProperties(fname=f_path).get_name()"
   ]
  },
  {
   "cell_type": "code",
   "execution_count": 77,
   "metadata": {},
   "outputs": [],
   "source": [
    "from matplotlib import rc\n",
    "rc('font', family='Arial Unicode MS')"
   ]
  },
  {
   "cell_type": "code",
   "execution_count": 52,
   "metadata": {},
   "outputs": [
    {
     "name": "stdout",
     "output_type": "stream",
     "text": [
      "['2019-01', '경원선', '1022', '창동', 19, 0, 0, 0]\n"
     ]
    }
   ],
   "source": [
    "if row[6] == 0:\n",
    "    print(row)"
   ]
  },
  {
   "cell_type": "code",
   "execution_count": 57,
   "metadata": {},
   "outputs": [],
   "source": [
    "if row[6] != 0:\n",
    "    rate = row[4] / row[6]\n",
    "    if rate > mx:\n",
    "        mx = rate\n",
    "        print(row, round(rate,2))\n"
   ]
  },
  {
   "cell_type": "code",
   "execution_count": 58,
   "metadata": {},
   "outputs": [],
   "source": [
    "if row[6] !=0 and (row[4]+row[6]) > 100000:\n",
    "    rate = row[4]/(row[4]+row[6])"
   ]
  },
  {
   "cell_type": "code",
   "execution_count": 59,
   "metadata": {},
   "outputs": [
    {
     "name": "stdout",
     "output_type": "stream",
     "text": [
      "홍대입구 2호선 95.34\n"
     ]
    }
   ],
   "source": [
    "import csv\n",
    "\n",
    "f = open('/Users/ijiyeong/Desktop/eda/data/subwayfee.csv')\n",
    "data = csv.reader(f)\n",
    "next(data)\n",
    "\n",
    "mx = 0\n",
    "rate = 0\n",
    "mx_station = ''\n",
    "\n",
    "for row in data:\n",
    "    for i in range(4,8):\n",
    "        row[i]=int(row[i])\n",
    "    if row[6] != 0 and (row[4]+row[6]) > 100000:\n",
    "        rate = row[4]/(row[4]+row[6])\n",
    "        if rate > mx:\n",
    "            mx = rate\n",
    "            mx_station = row[3] + \" \" + row[1]\n",
    "            \n",
    "print(mx_station, round(mx*100,2))"
   ]
  },
  {
   "cell_type": "code",
   "execution_count": 63,
   "metadata": {},
   "outputs": [
    {
     "name": "stdout",
     "output_type": "stream",
     "text": [
      "유임승차:강남 2호선 3153418\n",
      "유임하차:강남 2호선 3210437\n",
      "무임승차:종로3가 1호선 387062\n",
      "무임하차:제기동 1호선 400607\n"
     ]
    }
   ],
   "source": [
    "import csv\n",
    "\n",
    "f = open('/Users/ijiyeong/Desktop/eda/data/subwayfee.csv')\n",
    "data = csv.reader(f)\n",
    "next(data)\n",
    "mx = [0] * 4\n",
    "mx_station = [' '] * 4\n",
    "label = [\"유임승차\", \"유임하차\", \"무임승차\", \"무임하차\"]\n",
    "for row in data:\n",
    "    for i in range(4,8):\n",
    "        row[i] = int(row[i])\n",
    "        if row[i] > mx[i-4]:\n",
    "            mx[i-4] = row[i]\n",
    "            mx_station[i-4] = row[3] + ' ' + row[1]\n",
    "for i in range(4):\n",
    "    print(label[i]+':'+mx_station[i], mx[i])"
   ]
  },
  {
   "cell_type": "code",
   "execution_count": 1,
   "metadata": {},
   "outputs": [],
   "source": [
    "# import csv\n",
    "# import matplotlib.pyplot as plt\n",
    "\n",
    "# f = open('/Users/ijiyeong/Desktop/eda/data/subwayfee.csv')\n",
    "# data = csv.reader(f)\n",
    "# next(data)\n",
    "\n",
    "# label = [\"유임승차\", \"유임하차\", \"무임승차\", \"무임하차\"]\n",
    "# c = ['#14CCC0', '#389993', '#FF1C6A', '#CC14AF']\n",
    "# plt.rc('font', family='Arial Unicode MS')\n",
    "\n",
    "# for row in data:\n",
    "#     for i in range(4,8):\n",
    "#         row[i] = int(row[i])\n",
    "#     plt.figure(dpi=300)\n",
    "#     plt.title(row[3]+' ' + row[1])\n",
    "#     plt.pie(row[4:8], labels=label, colors=c, autopct='%1.f%%')\n",
    "#     plt.axis('equal')\n",
    "#     plt.show()\n",
    "        "
   ]
  },
  {
   "cell_type": "code",
   "execution_count": null,
   "metadata": {},
   "outputs": [],
   "source": []
  },
  {
   "cell_type": "code",
   "execution_count": null,
   "metadata": {},
   "outputs": [],
   "source": []
  },
  {
   "cell_type": "code",
   "execution_count": null,
   "metadata": {},
   "outputs": [],
   "source": []
  },
  {
   "cell_type": "code",
   "execution_count": null,
   "metadata": {},
   "outputs": [],
   "source": []
  },
  {
   "cell_type": "code",
   "execution_count": null,
   "metadata": {},
   "outputs": [],
   "source": []
  },
  {
   "cell_type": "code",
   "execution_count": null,
   "metadata": {},
   "outputs": [],
   "source": []
  },
  {
   "cell_type": "code",
   "execution_count": null,
   "metadata": {},
   "outputs": [],
   "source": []
  },
  {
   "cell_type": "code",
   "execution_count": null,
   "metadata": {},
   "outputs": [],
   "source": []
  },
  {
   "cell_type": "code",
   "execution_count": null,
   "metadata": {},
   "outputs": [],
   "source": []
  },
  {
   "cell_type": "code",
   "execution_count": null,
   "metadata": {},
   "outputs": [],
   "source": []
  },
  {
   "cell_type": "code",
   "execution_count": null,
   "metadata": {},
   "outputs": [],
   "source": []
  },
  {
   "cell_type": "code",
   "execution_count": null,
   "metadata": {},
   "outputs": [],
   "source": []
  }
 ],
 "metadata": {
  "kernelspec": {
   "display_name": "Python 3",
   "language": "python",
   "name": "python3"
  },
  "language_info": {
   "codemirror_mode": {
    "name": "ipython",
    "version": 3
   },
   "file_extension": ".py",
   "mimetype": "text/x-python",
   "name": "python",
   "nbconvert_exporter": "python",
   "pygments_lexer": "ipython3",
   "version": "3.8.5"
  }
 },
 "nbformat": 4,
 "nbformat_minor": 5
}
